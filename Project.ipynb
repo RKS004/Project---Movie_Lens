{
 "cells": [
  {
   "cell_type": "code",
   "execution_count": 1,
   "metadata": {
    "id": "O-NxdO1O0uWt"
   },
   "outputs": [],
   "source": [
    "import pandas as pd\n",
    "import numpy as np\n",
    "import matplotlib.pyplot as plt"
   ]
  },
  {
   "cell_type": "code",
   "execution_count": 2,
   "metadata": {},
   "outputs": [],
   "source": [
    "import warnings\n",
    "warnings.filterwarnings(\"ignore\")"
   ]
  },
  {
   "cell_type": "markdown",
   "metadata": {
    "id": "hSyoGsay0uWx"
   },
   "source": [
    "# Importing the three datasets"
   ]
  },
  {
   "cell_type": "code",
   "execution_count": 3,
   "metadata": {
    "id": "I_GZ-QeR0uWz",
    "scrolled": true
   },
   "outputs": [],
   "source": [
    "movies = pd.read_csv(r'C:\\Users\\rajku\\Documents\\OneDrive\\Desktop\\MSc Data Analytics\\Project\\movies.csv', sep=\"::\", header=None, names = ['MovieID', 'Title', 'Genres'], encoding = \"latin\")"
   ]
  },
  {
   "cell_type": "code",
   "execution_count": 4,
   "metadata": {
    "id": "SvrisPrw0uW0",
    "outputId": "33cabecf-5670-46f3-edf3-951d126ea1a4",
    "scrolled": true
   },
   "outputs": [
    {
     "data": {
      "text/html": [
       "<div>\n",
       "<style scoped>\n",
       "    .dataframe tbody tr th:only-of-type {\n",
       "        vertical-align: middle;\n",
       "    }\n",
       "\n",
       "    .dataframe tbody tr th {\n",
       "        vertical-align: top;\n",
       "    }\n",
       "\n",
       "    .dataframe thead th {\n",
       "        text-align: right;\n",
       "    }\n",
       "</style>\n",
       "<table border=\"1\" class=\"dataframe\">\n",
       "  <thead>\n",
       "    <tr style=\"text-align: right;\">\n",
       "      <th></th>\n",
       "      <th>MovieID</th>\n",
       "      <th>Title</th>\n",
       "      <th>Genres</th>\n",
       "    </tr>\n",
       "  </thead>\n",
       "  <tbody>\n",
       "    <tr>\n",
       "      <th>0</th>\n",
       "      <td>1</td>\n",
       "      <td>Toy Story (1995)</td>\n",
       "      <td>Animation|Children's|Comedy</td>\n",
       "    </tr>\n",
       "    <tr>\n",
       "      <th>1</th>\n",
       "      <td>2</td>\n",
       "      <td>Jumanji (1995)</td>\n",
       "      <td>Adventure|Children's|Fantasy</td>\n",
       "    </tr>\n",
       "    <tr>\n",
       "      <th>2</th>\n",
       "      <td>3</td>\n",
       "      <td>Grumpier Old Men (1995)</td>\n",
       "      <td>Comedy|Romance</td>\n",
       "    </tr>\n",
       "    <tr>\n",
       "      <th>3</th>\n",
       "      <td>4</td>\n",
       "      <td>Waiting to Exhale (1995)</td>\n",
       "      <td>Comedy|Drama</td>\n",
       "    </tr>\n",
       "    <tr>\n",
       "      <th>4</th>\n",
       "      <td>5</td>\n",
       "      <td>Father of the Bride Part II (1995)</td>\n",
       "      <td>Comedy</td>\n",
       "    </tr>\n",
       "  </tbody>\n",
       "</table>\n",
       "</div>"
      ],
      "text/plain": [
       "   MovieID                               Title                        Genres\n",
       "0        1                    Toy Story (1995)   Animation|Children's|Comedy\n",
       "1        2                      Jumanji (1995)  Adventure|Children's|Fantasy\n",
       "2        3             Grumpier Old Men (1995)                Comedy|Romance\n",
       "3        4            Waiting to Exhale (1995)                  Comedy|Drama\n",
       "4        5  Father of the Bride Part II (1995)                        Comedy"
      ]
     },
     "execution_count": 4,
     "metadata": {},
     "output_type": "execute_result"
    }
   ],
   "source": [
    "movies.head()"
   ]
  },
  {
   "cell_type": "code",
   "execution_count": 5,
   "metadata": {
    "id": "IMroZryH0uW2"
   },
   "outputs": [],
   "source": [
    "ratings = pd.read_csv(r'C:\\Users\\rajku\\Documents\\OneDrive\\Desktop\\MSc Data Analytics\\Project\\ratings.csv',sep=\"::\", header=None,  names = ['UserID','MovieID', 'Rating', 'Timestamp'], encoding = \"latin\")"
   ]
  },
  {
   "cell_type": "code",
   "execution_count": 6,
   "metadata": {
    "id": "_NfXvZ3a0uW2",
    "outputId": "ff3e2629-3b6b-4a48-9d92-548e02f5f18d",
    "scrolled": true
   },
   "outputs": [
    {
     "data": {
      "text/html": [
       "<div>\n",
       "<style scoped>\n",
       "    .dataframe tbody tr th:only-of-type {\n",
       "        vertical-align: middle;\n",
       "    }\n",
       "\n",
       "    .dataframe tbody tr th {\n",
       "        vertical-align: top;\n",
       "    }\n",
       "\n",
       "    .dataframe thead th {\n",
       "        text-align: right;\n",
       "    }\n",
       "</style>\n",
       "<table border=\"1\" class=\"dataframe\">\n",
       "  <thead>\n",
       "    <tr style=\"text-align: right;\">\n",
       "      <th></th>\n",
       "      <th>UserID</th>\n",
       "      <th>MovieID</th>\n",
       "      <th>Rating</th>\n",
       "      <th>Timestamp</th>\n",
       "    </tr>\n",
       "  </thead>\n",
       "  <tbody>\n",
       "    <tr>\n",
       "      <th>0</th>\n",
       "      <td>1</td>\n",
       "      <td>1193</td>\n",
       "      <td>5</td>\n",
       "      <td>978300760</td>\n",
       "    </tr>\n",
       "    <tr>\n",
       "      <th>1</th>\n",
       "      <td>1</td>\n",
       "      <td>661</td>\n",
       "      <td>3</td>\n",
       "      <td>978302109</td>\n",
       "    </tr>\n",
       "    <tr>\n",
       "      <th>2</th>\n",
       "      <td>1</td>\n",
       "      <td>914</td>\n",
       "      <td>3</td>\n",
       "      <td>978301968</td>\n",
       "    </tr>\n",
       "    <tr>\n",
       "      <th>3</th>\n",
       "      <td>1</td>\n",
       "      <td>3408</td>\n",
       "      <td>4</td>\n",
       "      <td>978300275</td>\n",
       "    </tr>\n",
       "    <tr>\n",
       "      <th>4</th>\n",
       "      <td>1</td>\n",
       "      <td>2355</td>\n",
       "      <td>5</td>\n",
       "      <td>978824291</td>\n",
       "    </tr>\n",
       "  </tbody>\n",
       "</table>\n",
       "</div>"
      ],
      "text/plain": [
       "   UserID  MovieID  Rating  Timestamp\n",
       "0       1     1193       5  978300760\n",
       "1       1      661       3  978302109\n",
       "2       1      914       3  978301968\n",
       "3       1     3408       4  978300275\n",
       "4       1     2355       5  978824291"
      ]
     },
     "execution_count": 6,
     "metadata": {},
     "output_type": "execute_result"
    }
   ],
   "source": [
    "ratings.head()"
   ]
  },
  {
   "cell_type": "code",
   "execution_count": 7,
   "metadata": {
    "id": "KD53hYeD0uW3",
    "outputId": "45137eb9-e762-4a88-9618-85bee0f9b10f"
   },
   "outputs": [
    {
     "data": {
      "text/html": [
       "<div>\n",
       "<style scoped>\n",
       "    .dataframe tbody tr th:only-of-type {\n",
       "        vertical-align: middle;\n",
       "    }\n",
       "\n",
       "    .dataframe tbody tr th {\n",
       "        vertical-align: top;\n",
       "    }\n",
       "\n",
       "    .dataframe thead th {\n",
       "        text-align: right;\n",
       "    }\n",
       "</style>\n",
       "<table border=\"1\" class=\"dataframe\">\n",
       "  <thead>\n",
       "    <tr style=\"text-align: right;\">\n",
       "      <th></th>\n",
       "      <th>UserID</th>\n",
       "      <th>Gender</th>\n",
       "      <th>Age</th>\n",
       "      <th>Occupation</th>\n",
       "      <th>Zip-Code</th>\n",
       "    </tr>\n",
       "  </thead>\n",
       "  <tbody>\n",
       "    <tr>\n",
       "      <th>0</th>\n",
       "      <td>1</td>\n",
       "      <td>F</td>\n",
       "      <td>1</td>\n",
       "      <td>10</td>\n",
       "      <td>48067</td>\n",
       "    </tr>\n",
       "    <tr>\n",
       "      <th>1</th>\n",
       "      <td>2</td>\n",
       "      <td>M</td>\n",
       "      <td>56</td>\n",
       "      <td>16</td>\n",
       "      <td>70072</td>\n",
       "    </tr>\n",
       "    <tr>\n",
       "      <th>2</th>\n",
       "      <td>3</td>\n",
       "      <td>M</td>\n",
       "      <td>25</td>\n",
       "      <td>15</td>\n",
       "      <td>55117</td>\n",
       "    </tr>\n",
       "    <tr>\n",
       "      <th>3</th>\n",
       "      <td>4</td>\n",
       "      <td>M</td>\n",
       "      <td>45</td>\n",
       "      <td>7</td>\n",
       "      <td>02460</td>\n",
       "    </tr>\n",
       "    <tr>\n",
       "      <th>4</th>\n",
       "      <td>5</td>\n",
       "      <td>M</td>\n",
       "      <td>25</td>\n",
       "      <td>20</td>\n",
       "      <td>55455</td>\n",
       "    </tr>\n",
       "  </tbody>\n",
       "</table>\n",
       "</div>"
      ],
      "text/plain": [
       "   UserID Gender  Age  Occupation Zip-Code\n",
       "0       1      F    1          10    48067\n",
       "1       2      M   56          16    70072\n",
       "2       3      M   25          15    55117\n",
       "3       4      M   45           7    02460\n",
       "4       5      M   25          20    55455"
      ]
     },
     "execution_count": 7,
     "metadata": {},
     "output_type": "execute_result"
    }
   ],
   "source": [
    "users = pd.read_csv(r'C:\\Users\\rajku\\Documents\\OneDrive\\Desktop\\MSc Data Analytics\\Project\\users.csv', sep=\"::\", header=None, names = ['UserID', 'Gender', 'Age', 'Occupation', 'Zip-Code'], encoding = \"latin\")\n",
    "users.head()"
   ]
  },
  {
   "cell_type": "code",
   "execution_count": 8,
   "metadata": {
    "id": "bkWy2iH40uW4",
    "outputId": "34ad8c85-a820-4272-832d-2c35d9eb2c68"
   },
   "outputs": [
    {
     "data": {
      "text/plain": [
       "((3883, 3), (6040, 5), (1000209, 4))"
      ]
     },
     "execution_count": 8,
     "metadata": {},
     "output_type": "execute_result"
    }
   ],
   "source": [
    "movies.shape, users.shape, ratings.shape"
   ]
  },
  {
   "cell_type": "markdown",
   "metadata": {
    "id": "JyiLPjP30uW4"
   },
   "source": [
    "# Creatng a new dataset [Master_Data] with the following columns: MovieID Title UserID Age Gender Occupation Rating."
   ]
  },
  {
   "cell_type": "code",
   "execution_count": 9,
   "metadata": {
    "id": "-ZlSe_OA0uW5",
    "outputId": "95f04caa-adf1-4d1c-e7ab-159b65cb8c7f"
   },
   "outputs": [
    {
     "data": {
      "text/html": [
       "<div>\n",
       "<style scoped>\n",
       "    .dataframe tbody tr th:only-of-type {\n",
       "        vertical-align: middle;\n",
       "    }\n",
       "\n",
       "    .dataframe tbody tr th {\n",
       "        vertical-align: top;\n",
       "    }\n",
       "\n",
       "    .dataframe thead th {\n",
       "        text-align: right;\n",
       "    }\n",
       "</style>\n",
       "<table border=\"1\" class=\"dataframe\">\n",
       "  <thead>\n",
       "    <tr style=\"text-align: right;\">\n",
       "      <th></th>\n",
       "      <th>MovieID</th>\n",
       "      <th>Title</th>\n",
       "      <th>Genres</th>\n",
       "      <th>UserID</th>\n",
       "      <th>Rating</th>\n",
       "      <th>Timestamp</th>\n",
       "    </tr>\n",
       "  </thead>\n",
       "  <tbody>\n",
       "    <tr>\n",
       "      <th>0</th>\n",
       "      <td>1</td>\n",
       "      <td>Toy Story (1995)</td>\n",
       "      <td>Animation|Children's|Comedy</td>\n",
       "      <td>1</td>\n",
       "      <td>5</td>\n",
       "      <td>978824268</td>\n",
       "    </tr>\n",
       "    <tr>\n",
       "      <th>1</th>\n",
       "      <td>1</td>\n",
       "      <td>Toy Story (1995)</td>\n",
       "      <td>Animation|Children's|Comedy</td>\n",
       "      <td>6</td>\n",
       "      <td>4</td>\n",
       "      <td>978237008</td>\n",
       "    </tr>\n",
       "    <tr>\n",
       "      <th>2</th>\n",
       "      <td>1</td>\n",
       "      <td>Toy Story (1995)</td>\n",
       "      <td>Animation|Children's|Comedy</td>\n",
       "      <td>8</td>\n",
       "      <td>4</td>\n",
       "      <td>978233496</td>\n",
       "    </tr>\n",
       "    <tr>\n",
       "      <th>3</th>\n",
       "      <td>1</td>\n",
       "      <td>Toy Story (1995)</td>\n",
       "      <td>Animation|Children's|Comedy</td>\n",
       "      <td>9</td>\n",
       "      <td>5</td>\n",
       "      <td>978225952</td>\n",
       "    </tr>\n",
       "    <tr>\n",
       "      <th>4</th>\n",
       "      <td>1</td>\n",
       "      <td>Toy Story (1995)</td>\n",
       "      <td>Animation|Children's|Comedy</td>\n",
       "      <td>10</td>\n",
       "      <td>5</td>\n",
       "      <td>978226474</td>\n",
       "    </tr>\n",
       "  </tbody>\n",
       "</table>\n",
       "</div>"
      ],
      "text/plain": [
       "   MovieID             Title                       Genres  UserID  Rating  \\\n",
       "0        1  Toy Story (1995)  Animation|Children's|Comedy       1       5   \n",
       "1        1  Toy Story (1995)  Animation|Children's|Comedy       6       4   \n",
       "2        1  Toy Story (1995)  Animation|Children's|Comedy       8       4   \n",
       "3        1  Toy Story (1995)  Animation|Children's|Comedy       9       5   \n",
       "4        1  Toy Story (1995)  Animation|Children's|Comedy      10       5   \n",
       "\n",
       "   Timestamp  \n",
       "0  978824268  \n",
       "1  978237008  \n",
       "2  978233496  \n",
       "3  978225952  \n",
       "4  978226474  "
      ]
     },
     "metadata": {},
     "output_type": "display_data"
    },
    {
     "data": {
      "text/plain": [
       "(1000209, 6)"
      ]
     },
     "metadata": {},
     "output_type": "display_data"
    }
   ],
   "source": [
    "movie_ratings = pd.merge(movies, ratings, on = \"MovieID\")\n",
    "display (movie_ratings.head())\n",
    "display (movie_ratings.shape)"
   ]
  },
  {
   "cell_type": "code",
   "execution_count": 10,
   "metadata": {
    "id": "Fn9qszwD0uW5",
    "outputId": "f35641e1-b96f-45ff-a034-6b08fde3af96"
   },
   "outputs": [
    {
     "data": {
      "text/html": [
       "<div>\n",
       "<style scoped>\n",
       "    .dataframe tbody tr th:only-of-type {\n",
       "        vertical-align: middle;\n",
       "    }\n",
       "\n",
       "    .dataframe tbody tr th {\n",
       "        vertical-align: top;\n",
       "    }\n",
       "\n",
       "    .dataframe thead th {\n",
       "        text-align: right;\n",
       "    }\n",
       "</style>\n",
       "<table border=\"1\" class=\"dataframe\">\n",
       "  <thead>\n",
       "    <tr style=\"text-align: right;\">\n",
       "      <th></th>\n",
       "      <th>UserID</th>\n",
       "      <th>Gender</th>\n",
       "      <th>Age</th>\n",
       "      <th>Occupation</th>\n",
       "      <th>Zip-Code</th>\n",
       "    </tr>\n",
       "  </thead>\n",
       "  <tbody>\n",
       "    <tr>\n",
       "      <th>0</th>\n",
       "      <td>1</td>\n",
       "      <td>F</td>\n",
       "      <td>1</td>\n",
       "      <td>10</td>\n",
       "      <td>48067</td>\n",
       "    </tr>\n",
       "    <tr>\n",
       "      <th>1</th>\n",
       "      <td>2</td>\n",
       "      <td>M</td>\n",
       "      <td>56</td>\n",
       "      <td>16</td>\n",
       "      <td>70072</td>\n",
       "    </tr>\n",
       "    <tr>\n",
       "      <th>2</th>\n",
       "      <td>3</td>\n",
       "      <td>M</td>\n",
       "      <td>25</td>\n",
       "      <td>15</td>\n",
       "      <td>55117</td>\n",
       "    </tr>\n",
       "    <tr>\n",
       "      <th>3</th>\n",
       "      <td>4</td>\n",
       "      <td>M</td>\n",
       "      <td>45</td>\n",
       "      <td>7</td>\n",
       "      <td>02460</td>\n",
       "    </tr>\n",
       "    <tr>\n",
       "      <th>4</th>\n",
       "      <td>5</td>\n",
       "      <td>M</td>\n",
       "      <td>25</td>\n",
       "      <td>20</td>\n",
       "      <td>55455</td>\n",
       "    </tr>\n",
       "  </tbody>\n",
       "</table>\n",
       "</div>"
      ],
      "text/plain": [
       "   UserID Gender  Age  Occupation Zip-Code\n",
       "0       1      F    1          10    48067\n",
       "1       2      M   56          16    70072\n",
       "2       3      M   25          15    55117\n",
       "3       4      M   45           7    02460\n",
       "4       5      M   25          20    55455"
      ]
     },
     "execution_count": 10,
     "metadata": {},
     "output_type": "execute_result"
    }
   ],
   "source": [
    "users.head()"
   ]
  },
  {
   "cell_type": "code",
   "execution_count": 11,
   "metadata": {
    "id": "RUVZ2ePn0uW6",
    "outputId": "b65e0387-f2cb-4e38-8b65-dd4bfff61875"
   },
   "outputs": [
    {
     "data": {
      "text/html": [
       "<div>\n",
       "<style scoped>\n",
       "    .dataframe tbody tr th:only-of-type {\n",
       "        vertical-align: middle;\n",
       "    }\n",
       "\n",
       "    .dataframe tbody tr th {\n",
       "        vertical-align: top;\n",
       "    }\n",
       "\n",
       "    .dataframe thead th {\n",
       "        text-align: right;\n",
       "    }\n",
       "</style>\n",
       "<table border=\"1\" class=\"dataframe\">\n",
       "  <thead>\n",
       "    <tr style=\"text-align: right;\">\n",
       "      <th></th>\n",
       "      <th>MovieID</th>\n",
       "      <th>Title</th>\n",
       "      <th>Genres</th>\n",
       "      <th>UserID</th>\n",
       "      <th>Rating</th>\n",
       "      <th>Timestamp</th>\n",
       "      <th>Gender</th>\n",
       "      <th>Age</th>\n",
       "      <th>Occupation</th>\n",
       "      <th>Zip-Code</th>\n",
       "    </tr>\n",
       "  </thead>\n",
       "  <tbody>\n",
       "    <tr>\n",
       "      <th>0</th>\n",
       "      <td>1</td>\n",
       "      <td>Toy Story (1995)</td>\n",
       "      <td>Animation|Children's|Comedy</td>\n",
       "      <td>1</td>\n",
       "      <td>5</td>\n",
       "      <td>978824268</td>\n",
       "      <td>F</td>\n",
       "      <td>1</td>\n",
       "      <td>10</td>\n",
       "      <td>48067</td>\n",
       "    </tr>\n",
       "    <tr>\n",
       "      <th>1</th>\n",
       "      <td>48</td>\n",
       "      <td>Pocahontas (1995)</td>\n",
       "      <td>Animation|Children's|Musical|Romance</td>\n",
       "      <td>1</td>\n",
       "      <td>5</td>\n",
       "      <td>978824351</td>\n",
       "      <td>F</td>\n",
       "      <td>1</td>\n",
       "      <td>10</td>\n",
       "      <td>48067</td>\n",
       "    </tr>\n",
       "    <tr>\n",
       "      <th>2</th>\n",
       "      <td>150</td>\n",
       "      <td>Apollo 13 (1995)</td>\n",
       "      <td>Drama</td>\n",
       "      <td>1</td>\n",
       "      <td>5</td>\n",
       "      <td>978301777</td>\n",
       "      <td>F</td>\n",
       "      <td>1</td>\n",
       "      <td>10</td>\n",
       "      <td>48067</td>\n",
       "    </tr>\n",
       "    <tr>\n",
       "      <th>3</th>\n",
       "      <td>260</td>\n",
       "      <td>Star Wars: Episode IV - A New Hope (1977)</td>\n",
       "      <td>Action|Adventure|Fantasy|Sci-Fi</td>\n",
       "      <td>1</td>\n",
       "      <td>4</td>\n",
       "      <td>978300760</td>\n",
       "      <td>F</td>\n",
       "      <td>1</td>\n",
       "      <td>10</td>\n",
       "      <td>48067</td>\n",
       "    </tr>\n",
       "    <tr>\n",
       "      <th>4</th>\n",
       "      <td>527</td>\n",
       "      <td>Schindler's List (1993)</td>\n",
       "      <td>Drama|War</td>\n",
       "      <td>1</td>\n",
       "      <td>5</td>\n",
       "      <td>978824195</td>\n",
       "      <td>F</td>\n",
       "      <td>1</td>\n",
       "      <td>10</td>\n",
       "      <td>48067</td>\n",
       "    </tr>\n",
       "  </tbody>\n",
       "</table>\n",
       "</div>"
      ],
      "text/plain": [
       "   MovieID                                      Title  \\\n",
       "0        1                           Toy Story (1995)   \n",
       "1       48                          Pocahontas (1995)   \n",
       "2      150                           Apollo 13 (1995)   \n",
       "3      260  Star Wars: Episode IV - A New Hope (1977)   \n",
       "4      527                    Schindler's List (1993)   \n",
       "\n",
       "                                 Genres  UserID  Rating  Timestamp Gender  \\\n",
       "0           Animation|Children's|Comedy       1       5  978824268      F   \n",
       "1  Animation|Children's|Musical|Romance       1       5  978824351      F   \n",
       "2                                 Drama       1       5  978301777      F   \n",
       "3       Action|Adventure|Fantasy|Sci-Fi       1       4  978300760      F   \n",
       "4                             Drama|War       1       5  978824195      F   \n",
       "\n",
       "   Age  Occupation Zip-Code  \n",
       "0    1          10    48067  \n",
       "1    1          10    48067  \n",
       "2    1          10    48067  \n",
       "3    1          10    48067  \n",
       "4    1          10    48067  "
      ]
     },
     "metadata": {},
     "output_type": "display_data"
    },
    {
     "data": {
      "text/plain": [
       "(1000209, 10)"
      ]
     },
     "metadata": {},
     "output_type": "display_data"
    }
   ],
   "source": [
    "data = pd.merge(movie_ratings, users, on = \"UserID\")\n",
    "\n",
    "display (data.head())\n",
    "display (data.shape)"
   ]
  },
  {
   "cell_type": "code",
   "execution_count": 12,
   "metadata": {
    "id": "QcuQprsd0uW6"
   },
   "outputs": [],
   "source": [
    "# choosing 10 - 20 K rows for our analysis"
   ]
  },
  {
   "cell_type": "markdown",
   "metadata": {
    "id": "ZLO8VRqw0uW7"
   },
   "source": [
    "# Exploring the datasets using visual representations (graphs or tables):"
   ]
  },
  {
   "cell_type": "markdown",
   "metadata": {
    "id": "JCUZSF680uW7"
   },
   "source": [
    "### 1. User Age Distribution"
   ]
  },
  {
   "cell_type": "code",
   "execution_count": 13,
   "metadata": {
    "id": "gK4H-_jk0uW7",
    "outputId": "c4b5c84d-c2c5-4f77-9767-e463e23beb3e",
    "scrolled": true
   },
   "outputs": [
    {
     "data": {
      "image/png": "[encoded data removed]",
      "text/plain": [
       "<Figure size 432x288 with 1 Axes>"
      ]
     },
     "metadata": {
      "needs_background": "light"
     },
     "output_type": "display_data"
    }
   ],
   "source": [
    "import matplotlib.pyplot as plt\n",
    "from matplotlib.style import use\n",
    "%matplotlib inline\n",
    "\n",
    "# Visualising age distribution of users\n",
    "users.Age.plot.hist(bins=50)\n",
    "plt.style.use('ggplot')\n",
    "plt.title('User Age Distribution')\n",
    "plt.xlabel('Age')\n",
    "plt.show()"
   ]
  },
  {
   "cell_type": "markdown",
   "metadata": {
    "id": "U3FnDfjD0uW8"
   },
   "source": [
    "### 2. User rating of the movie “Toy Story”"
   ]
  },
  {
   "cell_type": "code",
   "execution_count": 14,
   "metadata": {
    "id": "Pck1yBsP0uW8"
   },
   "outputs": [],
   "source": [
    "df_movie_toy_story = data[data ['MovieID'] == 1]"
   ]
  },
  {
   "cell_type": "code",
   "execution_count": 15,
   "metadata": {
    "id": "rHQWKvgM0uW9",
    "outputId": "14768c1a-52c7-4bae-96bb-0b069d59e798"
   },
   "outputs": [
    {
     "data": {
      "text/html": [
       "<div>\n",
       "<style scoped>\n",
       "    .dataframe tbody tr th:only-of-type {\n",
       "        vertical-align: middle;\n",
       "    }\n",
       "\n",
       "    .dataframe tbody tr th {\n",
       "        vertical-align: top;\n",
       "    }\n",
       "\n",
       "    .dataframe thead th {\n",
       "        text-align: right;\n",
       "    }\n",
       "</style>\n",
       "<table border=\"1\" class=\"dataframe\">\n",
       "  <thead>\n",
       "    <tr style=\"text-align: right;\">\n",
       "      <th></th>\n",
       "      <th>MovieID</th>\n",
       "      <th>Title</th>\n",
       "      <th>Genres</th>\n",
       "      <th>UserID</th>\n",
       "      <th>Rating</th>\n",
       "      <th>Timestamp</th>\n",
       "      <th>Gender</th>\n",
       "      <th>Age</th>\n",
       "      <th>Occupation</th>\n",
       "      <th>Zip-Code</th>\n",
       "    </tr>\n",
       "  </thead>\n",
       "  <tbody>\n",
       "    <tr>\n",
       "      <th>0</th>\n",
       "      <td>1</td>\n",
       "      <td>Toy Story (1995)</td>\n",
       "      <td>Animation|Children's|Comedy</td>\n",
       "      <td>1</td>\n",
       "      <td>5</td>\n",
       "      <td>978824268</td>\n",
       "      <td>F</td>\n",
       "      <td>1</td>\n",
       "      <td>10</td>\n",
       "      <td>48067</td>\n",
       "    </tr>\n",
       "    <tr>\n",
       "      <th>53</th>\n",
       "      <td>1</td>\n",
       "      <td>Toy Story (1995)</td>\n",
       "      <td>Animation|Children's|Comedy</td>\n",
       "      <td>6</td>\n",
       "      <td>4</td>\n",
       "      <td>978237008</td>\n",
       "      <td>F</td>\n",
       "      <td>50</td>\n",
       "      <td>9</td>\n",
       "      <td>55117</td>\n",
       "    </tr>\n",
       "    <tr>\n",
       "      <th>124</th>\n",
       "      <td>1</td>\n",
       "      <td>Toy Story (1995)</td>\n",
       "      <td>Animation|Children's|Comedy</td>\n",
       "      <td>8</td>\n",
       "      <td>4</td>\n",
       "      <td>978233496</td>\n",
       "      <td>M</td>\n",
       "      <td>25</td>\n",
       "      <td>12</td>\n",
       "      <td>11413</td>\n",
       "    </tr>\n",
       "    <tr>\n",
       "      <th>263</th>\n",
       "      <td>1</td>\n",
       "      <td>Toy Story (1995)</td>\n",
       "      <td>Animation|Children's|Comedy</td>\n",
       "      <td>9</td>\n",
       "      <td>5</td>\n",
       "      <td>978225952</td>\n",
       "      <td>M</td>\n",
       "      <td>25</td>\n",
       "      <td>17</td>\n",
       "      <td>61614</td>\n",
       "    </tr>\n",
       "    <tr>\n",
       "      <th>369</th>\n",
       "      <td>1</td>\n",
       "      <td>Toy Story (1995)</td>\n",
       "      <td>Animation|Children's|Comedy</td>\n",
       "      <td>10</td>\n",
       "      <td>5</td>\n",
       "      <td>978226474</td>\n",
       "      <td>F</td>\n",
       "      <td>35</td>\n",
       "      <td>1</td>\n",
       "      <td>95370</td>\n",
       "    </tr>\n",
       "  </tbody>\n",
       "</table>\n",
       "</div>"
      ],
      "text/plain": [
       "     MovieID             Title                       Genres  UserID  Rating  \\\n",
       "0          1  Toy Story (1995)  Animation|Children's|Comedy       1       5   \n",
       "53         1  Toy Story (1995)  Animation|Children's|Comedy       6       4   \n",
       "124        1  Toy Story (1995)  Animation|Children's|Comedy       8       4   \n",
       "263        1  Toy Story (1995)  Animation|Children's|Comedy       9       5   \n",
       "369        1  Toy Story (1995)  Animation|Children's|Comedy      10       5   \n",
       "\n",
       "     Timestamp Gender  Age  Occupation Zip-Code  \n",
       "0    978824268      F    1          10    48067  \n",
       "53   978237008      F   50           9    55117  \n",
       "124  978233496      M   25          12    11413  \n",
       "263  978225952      M   25          17    61614  \n",
       "369  978226474      F   35           1    95370  "
      ]
     },
     "execution_count": 15,
     "metadata": {},
     "output_type": "execute_result"
    }
   ],
   "source": [
    "df_movie_toy_story.head()"
   ]
  },
  {
   "cell_type": "code",
   "execution_count": 16,
   "metadata": {
    "id": "Sh_pmzUV0uW9"
   },
   "outputs": [
    {
     "data": {
      "text/plain": [
       "4    835\n",
       "5    820\n",
       "3    345\n",
       "2     61\n",
       "1     16\n",
       "Name: Rating, dtype: int64"
      ]
     },
     "execution_count": 16,
     "metadata": {},
     "output_type": "execute_result"
    }
   ],
   "source": [
    "toy_story_rating = df_movie_toy_story['Rating'].value_counts()\n",
    "toy_story_rating"
   ]
  },
  {
   "cell_type": "code",
   "execution_count": 17,
   "metadata": {
    "id": "eFu0KTFf0uW9",
    "outputId": "60345e08-1149-4049-ec82-15982355d2f5"
   },
   "outputs": [
    {
     "data": {
      "image/png": "[encoded data removed]",
      "text/plain": [
       "<Figure size 432x288 with 1 Axes>"
      ]
     },
     "metadata": {},
     "output_type": "display_data"
    }
   ],
   "source": [
    "toy_story_rating.plot(kind = 'bar');\n",
    "plt.title('Toy Story Rating')\n",
    "plt.xlabel('Rating')\n",
    "plt.ylabel('Frequency')\n",
    "plt.show()"
   ]
  },
  {
   "cell_type": "code",
   "execution_count": 18,
   "metadata": {
    "id": "AHacxiwN0uW9",
    "outputId": "a124bb16-5c92-418d-d6f4-6cc709af317e"
   },
   "outputs": [
    {
     "data": {
      "text/plain": [
       "4.146846413095811"
      ]
     },
     "execution_count": 18,
     "metadata": {},
     "output_type": "execute_result"
    }
   ],
   "source": [
    "df_movie_toy_story['Rating'].mean()"
   ]
  },
  {
   "cell_type": "markdown",
   "metadata": {
    "id": "tTxdYcIy0uW-"
   },
   "source": [
    "### 3. Top 25 movies by viewership rating"
   ]
  },
  {
   "cell_type": "code",
   "execution_count": 19,
   "metadata": {
    "id": "03huXUmf0uW-",
    "outputId": "9fc011fc-2b27-4903-f8a4-e308b2d3248c"
   },
   "outputs": [
    {
     "data": {
      "text/plain": [
       "American Beauty (1999)                                   3428\n",
       "Star Wars: Episode IV - A New Hope (1977)                2991\n",
       "Star Wars: Episode V - The Empire Strikes Back (1980)    2990\n",
       "Star Wars: Episode VI - Return of the Jedi (1983)        2883\n",
       "Jurassic Park (1993)                                     2672\n",
       "Saving Private Ryan (1998)                               2653\n",
       "Terminator 2: Judgment Day (1991)                        2649\n",
       "Matrix, The (1999)                                       2590\n",
       "Back to the Future (1985)                                2583\n",
       "Silence of the Lambs, The (1991)                         2578\n",
       "Men in Black (1997)                                      2538\n",
       "Raiders of the Lost Ark (1981)                           2514\n",
       "Fargo (1996)                                             2513\n",
       "Sixth Sense, The (1999)                                  2459\n",
       "Braveheart (1995)                                        2443\n",
       "Shakespeare in Love (1998)                               2369\n",
       "Princess Bride, The (1987)                               2318\n",
       "Schindler's List (1993)                                  2304\n",
       "L.A. Confidential (1997)                                 2288\n",
       "Groundhog Day (1993)                                     2278\n",
       "E.T. the Extra-Terrestrial (1982)                        2269\n",
       "Star Wars: Episode I - The Phantom Menace (1999)         2250\n",
       "Being John Malkovich (1999)                              2241\n",
       "Shawshank Redemption, The (1994)                         2227\n",
       "Godfather, The (1972)                                    2223\n",
       "Name: Title, dtype: int64"
      ]
     },
     "execution_count": 19,
     "metadata": {},
     "output_type": "execute_result"
    }
   ],
   "source": [
    "data_count = data['Title'].value_counts()\n",
    "data_count[0:25]"
   ]
  },
  {
   "cell_type": "code",
   "execution_count": 20,
   "metadata": {
    "id": "Godib8HL0uW-",
    "outputId": "761178ec-16a3-47b1-8ad4-986a6968e631"
   },
   "outputs": [
    {
     "data": {
      "text/html": [
       "<div>\n",
       "<style scoped>\n",
       "    .dataframe tbody tr th:only-of-type {\n",
       "        vertical-align: middle;\n",
       "    }\n",
       "\n",
       "    .dataframe tbody tr th {\n",
       "        vertical-align: top;\n",
       "    }\n",
       "\n",
       "    .dataframe thead th {\n",
       "        text-align: right;\n",
       "    }\n",
       "</style>\n",
       "<table border=\"1\" class=\"dataframe\">\n",
       "  <thead>\n",
       "    <tr style=\"text-align: right;\">\n",
       "      <th></th>\n",
       "      <th>Rating</th>\n",
       "    </tr>\n",
       "    <tr>\n",
       "      <th>Title</th>\n",
       "      <th></th>\n",
       "    </tr>\n",
       "  </thead>\n",
       "  <tbody>\n",
       "    <tr>\n",
       "      <th>$1,000,000 Duck (1971)</th>\n",
       "      <td>3.027027</td>\n",
       "    </tr>\n",
       "    <tr>\n",
       "      <th>'Night Mother (1986)</th>\n",
       "      <td>3.371429</td>\n",
       "    </tr>\n",
       "    <tr>\n",
       "      <th>'Til There Was You (1997)</th>\n",
       "      <td>2.692308</td>\n",
       "    </tr>\n",
       "    <tr>\n",
       "      <th>'burbs, The (1989)</th>\n",
       "      <td>2.910891</td>\n",
       "    </tr>\n",
       "    <tr>\n",
       "      <th>...And Justice for All (1979)</th>\n",
       "      <td>3.713568</td>\n",
       "    </tr>\n",
       "  </tbody>\n",
       "</table>\n",
       "</div>"
      ],
      "text/plain": [
       "                                 Rating\n",
       "Title                                  \n",
       "$1,000,000 Duck (1971)         3.027027\n",
       "'Night Mother (1986)           3.371429\n",
       "'Til There Was You (1997)      2.692308\n",
       "'burbs, The (1989)             2.910891\n",
       "...And Justice for All (1979)  3.713568"
      ]
     },
     "metadata": {},
     "output_type": "display_data"
    }
   ],
   "source": [
    "titlewise_mean = pd.DataFrame(data.groupby ('Title') ['Rating'].mean())\n",
    "display(titlewise_mean.head())"
   ]
  },
  {
   "cell_type": "code",
   "execution_count": 21,
   "metadata": {
    "id": "slLw16l00uW-",
    "outputId": "2c5226e9-1357-4ab6-c291-c75abc6fb581"
   },
   "outputs": [
    {
     "data": {
      "text/html": [
       "<div>\n",
       "<style scoped>\n",
       "    .dataframe tbody tr th:only-of-type {\n",
       "        vertical-align: middle;\n",
       "    }\n",
       "\n",
       "    .dataframe tbody tr th {\n",
       "        vertical-align: top;\n",
       "    }\n",
       "\n",
       "    .dataframe thead th {\n",
       "        text-align: right;\n",
       "    }\n",
       "</style>\n",
       "<table border=\"1\" class=\"dataframe\">\n",
       "  <thead>\n",
       "    <tr style=\"text-align: right;\">\n",
       "      <th></th>\n",
       "      <th>Rating</th>\n",
       "    </tr>\n",
       "    <tr>\n",
       "      <th>Title</th>\n",
       "      <th></th>\n",
       "    </tr>\n",
       "  </thead>\n",
       "  <tbody>\n",
       "    <tr>\n",
       "      <th>Ulysses (Ulisse) (1954)</th>\n",
       "      <td>5.000000</td>\n",
       "    </tr>\n",
       "    <tr>\n",
       "      <th>Lured (1947)</th>\n",
       "      <td>5.000000</td>\n",
       "    </tr>\n",
       "    <tr>\n",
       "      <th>Follow the Bitch (1998)</th>\n",
       "      <td>5.000000</td>\n",
       "    </tr>\n",
       "    <tr>\n",
       "      <th>Bittersweet Motel (2000)</th>\n",
       "      <td>5.000000</td>\n",
       "    </tr>\n",
       "    <tr>\n",
       "      <th>Song of Freedom (1936)</th>\n",
       "      <td>5.000000</td>\n",
       "    </tr>\n",
       "    <tr>\n",
       "      <th>One Little Indian (1973)</th>\n",
       "      <td>5.000000</td>\n",
       "    </tr>\n",
       "    <tr>\n",
       "      <th>Smashing Time (1967)</th>\n",
       "      <td>5.000000</td>\n",
       "    </tr>\n",
       "    <tr>\n",
       "      <th>Schlafes Bruder (Brother of Sleep) (1995)</th>\n",
       "      <td>5.000000</td>\n",
       "    </tr>\n",
       "    <tr>\n",
       "      <th>Gate of Heavenly Peace, The (1995)</th>\n",
       "      <td>5.000000</td>\n",
       "    </tr>\n",
       "    <tr>\n",
       "      <th>Baby, The (1973)</th>\n",
       "      <td>5.000000</td>\n",
       "    </tr>\n",
       "    <tr>\n",
       "      <th>I Am Cuba (Soy Cuba/Ya Kuba) (1964)</th>\n",
       "      <td>4.800000</td>\n",
       "    </tr>\n",
       "    <tr>\n",
       "      <th>Lamerica (1994)</th>\n",
       "      <td>4.750000</td>\n",
       "    </tr>\n",
       "    <tr>\n",
       "      <th>Apple, The (Sib) (1998)</th>\n",
       "      <td>4.666667</td>\n",
       "    </tr>\n",
       "    <tr>\n",
       "      <th>Sanjuro (1962)</th>\n",
       "      <td>4.608696</td>\n",
       "    </tr>\n",
       "    <tr>\n",
       "      <th>Seven Samurai (The Magnificent Seven) (Shichinin no samurai) (1954)</th>\n",
       "      <td>4.560510</td>\n",
       "    </tr>\n",
       "    <tr>\n",
       "      <th>Shawshank Redemption, The (1994)</th>\n",
       "      <td>4.554558</td>\n",
       "    </tr>\n",
       "    <tr>\n",
       "      <th>Godfather, The (1972)</th>\n",
       "      <td>4.524966</td>\n",
       "    </tr>\n",
       "    <tr>\n",
       "      <th>Close Shave, A (1995)</th>\n",
       "      <td>4.520548</td>\n",
       "    </tr>\n",
       "    <tr>\n",
       "      <th>Usual Suspects, The (1995)</th>\n",
       "      <td>4.517106</td>\n",
       "    </tr>\n",
       "    <tr>\n",
       "      <th>Schindler's List (1993)</th>\n",
       "      <td>4.510417</td>\n",
       "    </tr>\n",
       "    <tr>\n",
       "      <th>Wrong Trousers, The (1993)</th>\n",
       "      <td>4.507937</td>\n",
       "    </tr>\n",
       "    <tr>\n",
       "      <th>Dry Cleaning (Nettoyage à sec) (1997)</th>\n",
       "      <td>4.500000</td>\n",
       "    </tr>\n",
       "    <tr>\n",
       "      <th>Inheritors, The (Die Siebtelbauern) (1998)</th>\n",
       "      <td>4.500000</td>\n",
       "    </tr>\n",
       "    <tr>\n",
       "      <th>Mamma Roma (1962)</th>\n",
       "      <td>4.500000</td>\n",
       "    </tr>\n",
       "    <tr>\n",
       "      <th>Bells, The (1926)</th>\n",
       "      <td>4.500000</td>\n",
       "    </tr>\n",
       "  </tbody>\n",
       "</table>\n",
       "</div>"
      ],
      "text/plain": [
       "                                                      Rating\n",
       "Title                                                       \n",
       "Ulysses (Ulisse) (1954)                             5.000000\n",
       "Lured (1947)                                        5.000000\n",
       "Follow the Bitch (1998)                             5.000000\n",
       "Bittersweet Motel (2000)                            5.000000\n",
       "Song of Freedom (1936)                              5.000000\n",
       "One Little Indian (1973)                            5.000000\n",
       "Smashing Time (1967)                                5.000000\n",
       "Schlafes Bruder (Brother of Sleep) (1995)           5.000000\n",
       "Gate of Heavenly Peace, The (1995)                  5.000000\n",
       "Baby, The (1973)                                    5.000000\n",
       "I Am Cuba (Soy Cuba/Ya Kuba) (1964)                 4.800000\n",
       "Lamerica (1994)                                     4.750000\n",
       "Apple, The (Sib) (1998)                             4.666667\n",
       "Sanjuro (1962)                                      4.608696\n",
       "Seven Samurai (The Magnificent Seven) (Shichini...  4.560510\n",
       "Shawshank Redemption, The (1994)                    4.554558\n",
       "Godfather, The (1972)                               4.524966\n",
       "Close Shave, A (1995)                               4.520548\n",
       "Usual Suspects, The (1995)                          4.517106\n",
       "Schindler's List (1993)                             4.510417\n",
       "Wrong Trousers, The (1993)                          4.507937\n",
       "Dry Cleaning (Nettoyage à sec) (1997)               4.500000\n",
       "Inheritors, The (Die Siebtelbauern) (1998)          4.500000\n",
       "Mamma Roma (1962)                                   4.500000\n",
       "Bells, The (1926)                                   4.500000"
      ]
     },
     "execution_count": 21,
     "metadata": {},
     "output_type": "execute_result"
    }
   ],
   "source": [
    "top_25 = titlewise_mean.sort_values('Rating', ascending = False).head(25)\n",
    "top_25"
   ]
  },
  {
   "cell_type": "code",
   "execution_count": 22,
   "metadata": {
    "id": "t6Mor73P0uW_",
    "outputId": "f3347f56-639d-4a5a-91b1-d132ecdc4727"
   },
   "outputs": [
    {
     "data": {
      "text/plain": [
       "<Figure size 576x432 with 0 Axes>"
      ]
     },
     "metadata": {},
     "output_type": "display_data"
    },
    {
     "data": {
      "image/png": "[encoded data removed]",
      "text/plain": [
       "<Figure size 432x288 with 1 Axes>"
      ]
     },
     "metadata": {},
     "output_type": "display_data"
    }
   ],
   "source": [
    "plt.figure(figsize=(8,6))\n",
    "top_25.plot(kind = 'bar')\n",
    "plt.show()"
   ]
  },
  {
   "cell_type": "markdown",
   "metadata": {
    "id": "LaN4jV-a0uW_"
   },
   "source": [
    "### 4. Find the ratings for all the movies reviewed by for a particular user of user id = 2696"
   ]
  },
  {
   "cell_type": "code",
   "execution_count": 23,
   "metadata": {
    "id": "KeTPvEta0uW_",
    "outputId": "e014cf5d-f2a6-4307-fe30-99036a43c87c"
   },
   "outputs": [
    {
     "data": {
      "text/html": [
       "<div>\n",
       "<style scoped>\n",
       "    .dataframe tbody tr th:only-of-type {\n",
       "        vertical-align: middle;\n",
       "    }\n",
       "\n",
       "    .dataframe tbody tr th {\n",
       "        vertical-align: top;\n",
       "    }\n",
       "\n",
       "    .dataframe thead th {\n",
       "        text-align: right;\n",
       "    }\n",
       "</style>\n",
       "<table border=\"1\" class=\"dataframe\">\n",
       "  <thead>\n",
       "    <tr style=\"text-align: right;\">\n",
       "      <th></th>\n",
       "      <th>MovieID</th>\n",
       "      <th>Title</th>\n",
       "      <th>Genres</th>\n",
       "      <th>UserID</th>\n",
       "      <th>Rating</th>\n",
       "      <th>Timestamp</th>\n",
       "      <th>Gender</th>\n",
       "      <th>Age</th>\n",
       "      <th>Occupation</th>\n",
       "      <th>Zip-Code</th>\n",
       "    </tr>\n",
       "  </thead>\n",
       "  <tbody>\n",
       "    <tr>\n",
       "      <th>991035</th>\n",
       "      <td>350</td>\n",
       "      <td>Client, The (1994)</td>\n",
       "      <td>Drama|Mystery|Thriller</td>\n",
       "      <td>2696</td>\n",
       "      <td>3</td>\n",
       "      <td>973308886</td>\n",
       "      <td>M</td>\n",
       "      <td>25</td>\n",
       "      <td>7</td>\n",
       "      <td>24210</td>\n",
       "    </tr>\n",
       "    <tr>\n",
       "      <th>991036</th>\n",
       "      <td>800</td>\n",
       "      <td>Lone Star (1996)</td>\n",
       "      <td>Drama|Mystery</td>\n",
       "      <td>2696</td>\n",
       "      <td>5</td>\n",
       "      <td>973308842</td>\n",
       "      <td>M</td>\n",
       "      <td>25</td>\n",
       "      <td>7</td>\n",
       "      <td>24210</td>\n",
       "    </tr>\n",
       "    <tr>\n",
       "      <th>991037</th>\n",
       "      <td>1092</td>\n",
       "      <td>Basic Instinct (1992)</td>\n",
       "      <td>Mystery|Thriller</td>\n",
       "      <td>2696</td>\n",
       "      <td>4</td>\n",
       "      <td>973308886</td>\n",
       "      <td>M</td>\n",
       "      <td>25</td>\n",
       "      <td>7</td>\n",
       "      <td>24210</td>\n",
       "    </tr>\n",
       "    <tr>\n",
       "      <th>991038</th>\n",
       "      <td>1097</td>\n",
       "      <td>E.T. the Extra-Terrestrial (1982)</td>\n",
       "      <td>Children's|Drama|Fantasy|Sci-Fi</td>\n",
       "      <td>2696</td>\n",
       "      <td>3</td>\n",
       "      <td>973308690</td>\n",
       "      <td>M</td>\n",
       "      <td>25</td>\n",
       "      <td>7</td>\n",
       "      <td>24210</td>\n",
       "    </tr>\n",
       "    <tr>\n",
       "      <th>991039</th>\n",
       "      <td>1258</td>\n",
       "      <td>Shining, The (1980)</td>\n",
       "      <td>Horror</td>\n",
       "      <td>2696</td>\n",
       "      <td>4</td>\n",
       "      <td>973308710</td>\n",
       "      <td>M</td>\n",
       "      <td>25</td>\n",
       "      <td>7</td>\n",
       "      <td>24210</td>\n",
       "    </tr>\n",
       "  </tbody>\n",
       "</table>\n",
       "</div>"
      ],
      "text/plain": [
       "        MovieID                              Title  \\\n",
       "991035      350                 Client, The (1994)   \n",
       "991036      800                   Lone Star (1996)   \n",
       "991037     1092              Basic Instinct (1992)   \n",
       "991038     1097  E.T. the Extra-Terrestrial (1982)   \n",
       "991039     1258                Shining, The (1980)   \n",
       "\n",
       "                                 Genres  UserID  Rating  Timestamp Gender  \\\n",
       "991035           Drama|Mystery|Thriller    2696       3  973308886      M   \n",
       "991036                    Drama|Mystery    2696       5  973308842      M   \n",
       "991037                 Mystery|Thriller    2696       4  973308886      M   \n",
       "991038  Children's|Drama|Fantasy|Sci-Fi    2696       3  973308690      M   \n",
       "991039                           Horror    2696       4  973308710      M   \n",
       "\n",
       "        Age  Occupation Zip-Code  \n",
       "991035   25           7    24210  \n",
       "991036   25           7    24210  \n",
       "991037   25           7    24210  \n",
       "991038   25           7    24210  \n",
       "991039   25           7    24210  "
      ]
     },
     "execution_count": 23,
     "metadata": {},
     "output_type": "execute_result"
    }
   ],
   "source": [
    "data_of_2696 = data[data['UserID']==2696]\n",
    "data_of_2696.head()"
   ]
  },
  {
   "cell_type": "code",
   "execution_count": 24,
   "metadata": {
    "id": "BsQ_BMn50uW_",
    "outputId": "4437ab3c-fdad-4d16-a825-5600ac8b71c0"
   },
   "outputs": [
    {
     "data": {
      "text/plain": [
       "MovieID       20\n",
       "Title         20\n",
       "Genres        20\n",
       "UserID        20\n",
       "Rating        20\n",
       "Timestamp     20\n",
       "Gender        20\n",
       "Age           20\n",
       "Occupation    20\n",
       "Zip-Code      20\n",
       "dtype: int64"
      ]
     },
     "execution_count": 24,
     "metadata": {},
     "output_type": "execute_result"
    }
   ],
   "source": [
    "data_of_2696.count()"
   ]
  },
  {
   "cell_type": "code",
   "execution_count": 25,
   "metadata": {
    "id": "kdmKFhIo0uW_"
   },
   "outputs": [],
   "source": [
    "plot_for_2696 = data_of_2696.pivot_table(('Rating'), index='Title')"
   ]
  },
  {
   "cell_type": "code",
   "execution_count": 26,
   "metadata": {
    "id": "t4gkJ9Le0uXA",
    "outputId": "3abd31e6-03ce-4cef-a1f7-c0f0868ca103"
   },
   "outputs": [
    {
     "data": {
      "image/png": "[encoded data removed]",
      "text/plain": [
       "<Figure size 432x288 with 1 Axes>"
      ]
     },
     "metadata": {},
     "output_type": "display_data"
    },
    {
     "data": {
      "text/plain": [
       "<Figure size 1080x576 with 0 Axes>"
      ]
     },
     "metadata": {},
     "output_type": "display_data"
    }
   ],
   "source": [
    "plot_for_2696.plot(kind = 'bar')\n",
    "plt.figure(figsize=(15,8))\n",
    "plt.show()"
   ]
  },
  {
   "cell_type": "markdown",
   "metadata": {
    "id": "uXgoz9FM0uXA"
   },
   "source": [
    "\n",
    "# Feature Engineering:"
   ]
  },
  {
   "cell_type": "markdown",
   "metadata": {
    "id": "NhMM95V00uXA"
   },
   "source": [
    "### 1. Using column genres: Finding out all the unique genres:"
   ]
  },
  {
   "cell_type": "code",
   "execution_count": 27,
   "metadata": {
    "id": "qbHqU0e90uXA",
    "outputId": "ae7dfe2f-9445-44b0-feb9-58e9231c449c"
   },
   "outputs": [
    {
     "data": {
      "text/html": [
       "<div>\n",
       "<style scoped>\n",
       "    .dataframe tbody tr th:only-of-type {\n",
       "        vertical-align: middle;\n",
       "    }\n",
       "\n",
       "    .dataframe tbody tr th {\n",
       "        vertical-align: top;\n",
       "    }\n",
       "\n",
       "    .dataframe thead th {\n",
       "        text-align: right;\n",
       "    }\n",
       "</style>\n",
       "<table border=\"1\" class=\"dataframe\">\n",
       "  <thead>\n",
       "    <tr style=\"text-align: right;\">\n",
       "      <th></th>\n",
       "      <th>MovieID</th>\n",
       "      <th>Title</th>\n",
       "      <th>Genres</th>\n",
       "      <th>UserID</th>\n",
       "      <th>Rating</th>\n",
       "      <th>Timestamp</th>\n",
       "      <th>Gender</th>\n",
       "      <th>Age</th>\n",
       "      <th>Occupation</th>\n",
       "      <th>Zip-Code</th>\n",
       "    </tr>\n",
       "  </thead>\n",
       "  <tbody>\n",
       "    <tr>\n",
       "      <th>0</th>\n",
       "      <td>1</td>\n",
       "      <td>Toy Story (1995)</td>\n",
       "      <td>Animation|Children's|Comedy</td>\n",
       "      <td>1</td>\n",
       "      <td>5</td>\n",
       "      <td>978824268</td>\n",
       "      <td>F</td>\n",
       "      <td>1</td>\n",
       "      <td>10</td>\n",
       "      <td>48067</td>\n",
       "    </tr>\n",
       "    <tr>\n",
       "      <th>1</th>\n",
       "      <td>48</td>\n",
       "      <td>Pocahontas (1995)</td>\n",
       "      <td>Animation|Children's|Musical|Romance</td>\n",
       "      <td>1</td>\n",
       "      <td>5</td>\n",
       "      <td>978824351</td>\n",
       "      <td>F</td>\n",
       "      <td>1</td>\n",
       "      <td>10</td>\n",
       "      <td>48067</td>\n",
       "    </tr>\n",
       "    <tr>\n",
       "      <th>2</th>\n",
       "      <td>150</td>\n",
       "      <td>Apollo 13 (1995)</td>\n",
       "      <td>Drama</td>\n",
       "      <td>1</td>\n",
       "      <td>5</td>\n",
       "      <td>978301777</td>\n",
       "      <td>F</td>\n",
       "      <td>1</td>\n",
       "      <td>10</td>\n",
       "      <td>48067</td>\n",
       "    </tr>\n",
       "    <tr>\n",
       "      <th>3</th>\n",
       "      <td>260</td>\n",
       "      <td>Star Wars: Episode IV - A New Hope (1977)</td>\n",
       "      <td>Action|Adventure|Fantasy|Sci-Fi</td>\n",
       "      <td>1</td>\n",
       "      <td>4</td>\n",
       "      <td>978300760</td>\n",
       "      <td>F</td>\n",
       "      <td>1</td>\n",
       "      <td>10</td>\n",
       "      <td>48067</td>\n",
       "    </tr>\n",
       "    <tr>\n",
       "      <th>4</th>\n",
       "      <td>527</td>\n",
       "      <td>Schindler's List (1993)</td>\n",
       "      <td>Drama|War</td>\n",
       "      <td>1</td>\n",
       "      <td>5</td>\n",
       "      <td>978824195</td>\n",
       "      <td>F</td>\n",
       "      <td>1</td>\n",
       "      <td>10</td>\n",
       "      <td>48067</td>\n",
       "    </tr>\n",
       "  </tbody>\n",
       "</table>\n",
       "</div>"
      ],
      "text/plain": [
       "   MovieID                                      Title  \\\n",
       "0        1                           Toy Story (1995)   \n",
       "1       48                          Pocahontas (1995)   \n",
       "2      150                           Apollo 13 (1995)   \n",
       "3      260  Star Wars: Episode IV - A New Hope (1977)   \n",
       "4      527                    Schindler's List (1993)   \n",
       "\n",
       "                                 Genres  UserID  Rating  Timestamp Gender  \\\n",
       "0           Animation|Children's|Comedy       1       5  978824268      F   \n",
       "1  Animation|Children's|Musical|Romance       1       5  978824351      F   \n",
       "2                                 Drama       1       5  978301777      F   \n",
       "3       Action|Adventure|Fantasy|Sci-Fi       1       4  978300760      F   \n",
       "4                             Drama|War       1       5  978824195      F   \n",
       "\n",
       "   Age  Occupation Zip-Code  \n",
       "0    1          10    48067  \n",
       "1    1          10    48067  \n",
       "2    1          10    48067  \n",
       "3    1          10    48067  \n",
       "4    1          10    48067  "
      ]
     },
     "execution_count": 27,
     "metadata": {},
     "output_type": "execute_result"
    }
   ],
   "source": [
    "data.head()"
   ]
  },
  {
   "cell_type": "code",
   "execution_count": 28,
   "metadata": {
    "id": "WkYDgVDV0uXA",
    "outputId": "7f0850e5-6c96-4ff3-889e-35e7d99e72d4"
   },
   "outputs": [
    {
     "data": {
      "text/plain": [
       "0                    [Animation, Children's, Comedy]\n",
       "1          [Animation, Children's, Musical, Romance]\n",
       "2                                            [Drama]\n",
       "3               [Action, Adventure, Fantasy, Sci-Fi]\n",
       "4                                       [Drama, War]\n",
       "                             ...                    \n",
       "1000204                            [Drama, Thriller]\n",
       "1000205                   [Comedy, Horror, Thriller]\n",
       "1000206                            [Comedy, Romance]\n",
       "1000207                           [Action, Thriller]\n",
       "1000208                              [Action, Drama]\n",
       "Name: Genres, Length: 1000209, dtype: object"
      ]
     },
     "execution_count": 28,
     "metadata": {},
     "output_type": "execute_result"
    }
   ],
   "source": [
    "data.Genres = data.Genres.str.split(\"|\")\n",
    "data.Genres"
   ]
  },
  {
   "cell_type": "code",
   "execution_count": 29,
   "metadata": {
    "id": "6E9zrZSf0uXA",
    "outputId": "fe69261a-514d-4400-c3bc-03617378f68a"
   },
   "outputs": [
    {
     "data": {
      "text/plain": [
       "(1000209, 10)"
      ]
     },
     "execution_count": 29,
     "metadata": {},
     "output_type": "execute_result"
    }
   ],
   "source": [
    "data.shape"
   ]
  },
  {
   "cell_type": "code",
   "execution_count": 30,
   "metadata": {
    "id": "d4uFRXMm0uXB"
   },
   "outputs": [],
   "source": [
    "data5K = data[:5000]"
   ]
  },
  {
   "cell_type": "code",
   "execution_count": 31,
   "metadata": {
    "id": "ZU51Ir-v0uXB"
   },
   "outputs": [],
   "source": [
    "x = []\n",
    "for rn in range(len(data5K)):\n",
    "    x = x + data5K.Genres[rn]"
   ]
  },
  {
   "cell_type": "code",
   "execution_count": 32,
   "metadata": {
    "id": "eSAVs91l0uXB",
    "outputId": "de85eff9-d82b-402e-f439-849eaa4384ea"
   },
   "outputs": [
    {
     "data": {
      "text/plain": [
       "0                 [Animation, Children's, Comedy]\n",
       "1       [Animation, Children's, Musical, Romance]\n",
       "2                                         [Drama]\n",
       "3            [Action, Adventure, Fantasy, Sci-Fi]\n",
       "4                                    [Drama, War]\n",
       "                          ...                    \n",
       "4995                                    [Musical]\n",
       "4996                            [Comedy, Musical]\n",
       "4997                            [Comedy, Musical]\n",
       "4998                                    [Musical]\n",
       "4999                            [Comedy, Romance]\n",
       "Name: Genres, Length: 5000, dtype: object"
      ]
     },
     "execution_count": 32,
     "metadata": {},
     "output_type": "execute_result"
    }
   ],
   "source": [
    "data5K.Genres"
   ]
  },
  {
   "cell_type": "code",
   "execution_count": 33,
   "metadata": {
    "id": "hHTY1mae0uXB",
    "jupyter": {
     "outputs_hidden": true
    },
    "outputId": "a6ae599c-ba54-4595-997e-95c6be367a3f"
   },
   "outputs": [
    {
     "name": "stdout",
     "output_type": "stream",
     "text": [
      "['Animation', \"Children's\", 'Comedy', 'Animation', \"Children's\", 'Musical', 'Romance', 'Drama', 'Action', 'Adventure', 'Fantasy', 'Sci-Fi', 'Drama', 'War', \"Children's\", 'Drama', 'Animation', \"Children's\", 'Comedy', 'Musical', 'Animation', \"Children's\", 'Musical', 'Animation', \"Children's\", 'Musical', 'Crime', 'Drama', 'Thriller', 'Animation', \"Children's\", 'Musical', 'Animation', 'Animation', 'Comedy', 'Thriller', 'Animation', \"Children's\", 'Musical', 'Musical', 'Romance', 'Adventure', \"Children's\", 'Drama', 'Musical', 'Musical', 'Animation', \"Children's\", 'Musical', \"Children's\", 'Comedy', 'Musical', 'Animation', \"Children's\", 'Musical', 'Musical', \"Children's\", 'Drama', 'Fantasy', 'Sci-Fi', 'Drama', 'Action', 'Adventure', 'Comedy', 'Romance', 'Drama', 'Drama', 'Comedy', 'Sci-Fi', 'Action', 'Adventure', 'Drama', 'Drama', 'Adventure', 'Animation', \"Children's\", 'Comedy', 'Musical', 'Drama', 'Romance', 'Drama', 'Animation', \"Children's\", 'Drama', 'Drama', 'Animation', \"Children's\", 'Action', 'Drama', 'War', 'Animation', \"Children's\", 'Comedy', 'Romance', 'Animation', \"Children's\", 'Comedy', 'Drama', 'Animation', \"Children's\", 'Action', 'Crime', 'Romance', 'Thriller', 'Comedy', 'Comedy', 'Fantasy', 'Comedy', 'Drama', 'Comedy', 'Drama', 'Animation', \"Children's\", 'Comedy', 'Drama', 'Drama', 'Animation', \"Children's\", 'Comedy', 'Drama', 'Romance', \"Children's\", 'Comedy', 'Drama', 'Animation', \"Children's\", 'Musical', 'Romance', 'Drama', 'Musical', 'Drama', 'Romance', 'War', 'Western', 'Crime', 'Drama', 'Animation', \"Children's\", 'Musical', 'Action', 'Comedy', 'Western', 'Action', 'Romance', 'Thriller', 'Western', \"Children's\", 'Comedy', 'Animation', \"Children's\", 'Comedy', 'Musical', 'Adventure', 'Drama', 'Western', 'Animation', \"Children's\", 'Musical', 'Comedy', 'Romance', 'Comedy', 'Drama', 'Romance', 'Drama', 'Romance', 'War', 'Musical', 'Romance', 'Drama', 'Romance', 'War', \"Children's\", 'Comedy', 'Western', \"Children's\", 'Comedy', 'Musical', 'Adventure', 'Animation', \"Children's\", 'Musical', 'Musical', 'Drama', 'Romance', 'Musical', 'Romance', 'Action', 'Romance', 'Comedy', 'Romance', 'Action', 'Adventure', 'Romance', 'Sci-Fi', 'War', 'Drama', 'Romance', 'Comedy', 'Musical', 'Romance', 'Comedy', 'Romance', 'Adventure', 'Animation', \"Children's\", 'Comedy', 'Musical', 'Comedy', 'Romance', 'Drama', 'Romance', 'Thriller', 'Animation', \"Children's\", 'Musical', 'Adventure', \"Children's\", 'Comedy', 'Musical', 'Romance', 'Drama', 'Romance', 'Action', 'Adventure', 'Romance', \"Children's\", 'Fantasy', 'Musical', 'Animation', \"Children's\", 'Comedy', 'Musical', 'Romance', \"Children's\", 'Comedy', 'Comedy', 'Fantasy', 'Romance', 'Comedy', 'Comedy', 'Romance', 'Action', 'Adventure', 'Comedy', 'Romance', 'Comedy', 'Romance', 'Comedy', 'Drama', 'Romance', 'Action', 'Romance', 'Thriller', 'Comedy', 'Drama', 'Drama', 'Comedy', 'Western', 'Drama', 'Comedy', 'Romance', 'Western', 'Comedy', 'Romance', 'Comedy', 'Comedy', 'Romance', 'Comedy', 'Drama', 'Action', 'Drama', 'Comedy', 'Musical', 'Musical', 'Musical', 'Action', 'Western', 'Comedy', 'Drama', 'Romance', 'Adventure', 'Drama', 'Romance', 'Sci-Fi', 'Action', 'Crime', 'Action', 'Drama', 'War', 'Animation', \"Children's\", 'Comedy', 'Comedy', 'Drama', 'Drama', 'Drama', 'Thriller', 'Drama', 'Romance', 'Drama', 'Sci-Fi', 'Drama', 'Romance', 'Drama', 'Comedy', 'Romance', 'Action', 'Crime', 'Drama', 'Drama', 'Romance', 'Drama', 'Musical', 'Drama', 'Romance', 'Action', 'Drama', 'War', 'Drama', 'Thriller', 'Drama', 'Drama', 'Romance', 'War', 'Drama', 'Thriller', 'War', 'Action', 'Romance', 'Thriller', 'Drama', 'Thriller', 'Drama', 'Horror', 'Drama', 'Romance', 'Drama', 'Romance', 'War', 'Western', 'Drama', 'Drama', 'Action', 'Thriller', 'Crime', 'Drama', 'Drama', 'Comedy', 'Drama', 'Action', 'Adventure', 'Thriller', 'Action', 'Romance', 'Thriller', 'Action', 'Drama', 'Thriller', 'Action', 'Drama', 'War', 'Comedy', 'Drama', 'Action', 'Adventure', 'Sci-Fi', 'Drama', 'Drama', 'Drama', 'Drama', 'Drama', 'War', 'Drama', 'Action', 'Crime', 'Romance', 'Comedy', 'Drama', 'Action', 'Sci-Fi', 'Thriller', 'Crime', 'Drama', 'Thriller', 'Drama', 'Action', 'Adventure', 'Thriller', 'Animation', 'Sci-Fi', 'Drama', 'Thriller', 'Drama', 'Drama', 'Romance', 'Drama', 'Action', 'Adventure', 'Romance', 'Sci-Fi', 'War', 'Crime', 'Drama', 'Comedy', 'Romance', 'Adventure', 'Animation', 'Sci-Fi', 'Thriller', 'Action', 'Drama', 'Romance', 'Drama', 'Romance', 'Drama', 'Romance', 'Drama', 'Crime', 'Drama', 'Comedy', 'Drama', 'Action', 'Drama', 'Thriller', 'War', 'Action', 'Sci-Fi', 'Thriller', 'Action', 'Adventure', 'Comedy', 'Sci-Fi', 'Crime', 'Drama', 'Mystery', 'Drama', 'Drama', 'Romance', 'Drama', 'Sci-Fi', 'Thriller', 'Drama', 'Drama', 'Drama', 'Drama', 'Drama', 'Comedy', 'Drama', 'Drama', 'Comedy', 'Crime', 'Drama', 'Mystery', 'Drama', 'Romance', 'Drama', 'Drama', 'Romance', 'Action', 'Drama', 'Romance', 'Drama', 'Drama', 'Drama', 'Action', 'Comedy', 'Drama', 'Action', 'Adventure', 'Romance', 'Action', 'Crime', 'Drama', 'Action', 'Drama', 'War', 'Crime', 'Drama', 'Action', 'Crime', 'Thriller', 'Drama', 'Romance', 'Drama', 'Romance', 'Drama', 'Drama', 'Thriller', 'Comedy', 'Drama', 'Drama', 'Drama', 'Comedy', 'Romance', 'Action', 'Drama', 'War', 'Adventure', \"Children's\", 'Drama', 'Drama', 'Action', 'Thriller', 'Drama', 'Action', 'Sci-Fi', 'Thriller', 'Action', 'Sci-Fi', 'Thriller', 'Drama', 'Mystery', 'Drama', 'Thriller', 'Action', 'Crime', 'Romance', 'Action', 'Comedy', 'Sci-Fi', 'Thriller', 'Drama', 'Drama', 'Comedy', 'Drama', 'Drama', 'Action', 'Adventure', 'Sci-Fi', 'Thriller', 'Drama', 'Drama', 'Action', 'Drama', 'Drama', 'Thriller', 'Drama', 'Drama', 'Romance', 'Drama', 'Drama', 'Animation', \"Children's\", 'Drama', 'Drama', 'Drama', 'Action', 'Thriller', 'Action', 'Drama', 'Romance', 'Thriller', 'Drama', 'Romance', 'Drama', 'Action', 'Crime', 'Action', 'Thriller', 'Drama', 'Mystery', 'Action', 'Drama', 'Drama', 'Comedy', 'Comedy', 'Drama', 'Drama', 'Romance', 'Animation', \"Children's\", 'Comedy', 'Drama', 'Thriller', 'Drama', 'Romance', 'Crime', 'Thriller', 'Crime', 'Thriller', 'Drama', 'Documentary', 'Comedy', 'Drama', 'Drama', 'Action', 'Adventure', 'Thriller', 'Comedy', 'Crime', 'Fantasy', 'Action', 'Romance', 'Thriller', 'Drama', 'Drama', 'Action', 'Thriller', 'Action', 'Adventure', 'Sci-Fi', 'Drama', 'Drama', 'Drama', 'War', 'Drama', 'Adventure', 'Drama', 'Western', 'Drama', 'Thriller', 'Comedy', 'Romance', 'Crime', 'Drama', 'Thriller', 'Animation', 'Animation', 'Comedy', 'Thriller', 'Drama', 'Drama', 'Comedy', 'Drama', 'Romance', 'Action', 'Thriller', 'Drama', 'Romance', 'War', 'Drama', 'Romance', 'War', 'Drama', 'Comedy', 'Drama', 'Crime', 'Thriller', 'Animation', 'Comedy', 'Action', 'Adventure', 'Romance', 'Sci-Fi', 'War', 'Crime', 'Drama', 'Action', 'Crime', 'Drama', 'Animation', 'Comedy', 'Action', 'Drama', 'War', 'Comedy', 'Romance', 'Comedy', 'Romance', 'Documentary', 'Thriller', 'Action', 'Adventure', 'Sci-Fi', 'Drama', 'Thriller', 'Drama', 'Romance', 'Comedy', 'Crime', 'Drama', 'Comedy', 'Crime', 'Action', 'Adventure', 'Thriller', 'Drama', 'Sci-Fi', 'Crime', 'Film-Noir', 'Mystery', 'Thriller', 'Drama', 'Romance', 'Drama', 'Sci-Fi', 'Thriller', 'Romance', 'Drama', 'Drama', 'Drama', 'Romance', 'Comedy', 'Romance', 'Comedy', 'Drama', 'Action', 'Crime', 'Romance', 'Sci-Fi', 'Thriller', 'Comedy', 'Drama', 'Action', 'Drama', 'War', 'Drama', 'Romance', 'Crime', 'Drama', 'Action', 'Crime', 'Thriller', 'Animation', \"Children's\", 'Comedy', 'Comedy', 'Drama', 'Animation', \"Children's\", 'Comedy', 'Action', 'Sci-Fi', 'Thriller', 'Comedy', 'Action', 'Crime', 'Romance', 'Thriller', 'Comedy', 'Drama', 'Drama', 'War', 'Drama', 'Drama', 'Animation', \"Children's\", 'Comedy', 'Drama', 'Thriller', 'Drama', 'Drama', 'Drama', 'Comedy', 'Comedy', 'Drama', 'Drama', 'Drama', 'Comedy', 'Crime', 'Drama', 'Action', 'Romance', 'Thriller', 'Drama', 'Thriller', 'Drama', 'Thriller', 'Action', 'Thriller', 'Action', 'Crime', 'Animation', \"Children's\", 'Comedy', 'Action', 'Adventure', 'Thriller', 'Action', 'Sci-Fi', 'Horror', 'Sci-Fi', 'Thriller', 'Drama', 'Comedy', 'Animation', \"Children's\", 'Comedy', 'Adventure', \"Children's\", 'Fantasy', 'Comedy', 'Romance', 'Drama', 'Sci-Fi', 'Drama', 'Sci-Fi', 'Animation', \"Children's\", 'Musical', 'Romance', 'Drama', 'Comedy', 'Action', 'Drama', 'War', 'Documentary', 'Drama', 'Action', 'Adventure', 'Comedy', 'Crime', 'Comedy', 'Comedy', 'Comedy', 'Action', 'Adventure', 'Comedy', 'Comedy', 'Drama', 'Horror', 'Action', 'Adventure', 'Fantasy', 'Sci-Fi', 'Comedy', 'Drama', 'Drama', 'Action', 'Drama', 'Thriller', 'Action', 'Adventure', 'Sci-Fi', \"Children's\", 'Comedy', 'Fantasy', 'Drama', 'Action', 'Adventure', 'Sci-Fi', 'Comedy', 'Comedy', 'Romance', 'Comedy', 'Comedy', 'Drama', 'Romance', 'Comedy', 'Romance', 'War', 'Comedy', 'Romance', 'Animation', \"Children's\", 'Musical', 'Comedy', 'Crime', 'Fantasy', 'Action', 'Comedy', 'Western', 'Comedy', 'Comedy', 'Sci-Fi', 'Action', 'Adventure', 'Sci-Fi', 'Comedy', 'Drama', 'War', 'Comedy', 'Romance', 'Film-Noir', 'Sci-Fi', 'Comedy', 'Comedy', 'Romance', 'Thriller', \"Children's\", 'Comedy', 'Musical', \"Children's\", 'Comedy', 'Comedy', 'Romance', 'Thriller', 'Animation', \"Children's\", 'Comedy', 'Musical', 'Action', 'Sci-Fi', 'Thriller', 'Adventure', 'Drama', 'Western', 'Action', 'Adventure', 'Crime', 'Drama', 'Animation', \"Children's\", 'Musical', 'Animation', \"Children's\", 'Musical', 'Animation', \"Children's\", 'Comedy', 'Romance', 'Action', 'Adventure', 'Mystery', 'Action', 'Adventure', 'Fantasy', 'Comedy', 'Sci-Fi', 'Animation', 'Comedy', 'Animation', 'Comedy', 'Thriller', 'Sci-Fi', 'War', 'Comedy', 'Drama', 'Action', 'Sci-Fi', 'War', 'Comedy', 'Drama', 'Romance', 'Comedy', 'Action', 'Crime', 'Drama', 'Comedy', 'Romance', 'Musical', 'Romance', 'Drama', 'Romance', 'Mystery', 'Thriller', 'Drama', 'Romance', 'War', 'Film-Noir', 'Mystery', 'Musical', 'Romance', 'Comedy', 'Romance', 'Comedy', 'Romance', 'Musical', 'Adventure', \"Children's\", 'Drama', 'Musical', 'Drama', 'Romance', 'War', 'Drama', 'Drama', 'Mystery', 'Sci-Fi', 'Thriller', 'Drama', 'Romance', 'Musical', 'Drama', 'Romance', 'Drama', 'Drama', 'Musical', 'Action', 'Adventure', 'Romance', 'War', 'Drama', 'Adventure', \"Children's\", 'Fantasy', \"Children's\", 'Drama', 'Adventure', \"Children's\", \"Children's\", 'Comedy', 'Adventure', \"Children's\", 'Fantasy', 'Sci-Fi', 'Comedy', 'Animation', \"Children's\", 'Musical', 'Animation', \"Children's\", 'Animation', \"Children's\", \"Children's\", 'Comedy', 'Musical', 'Adventure', 'Animation', \"Children's\", 'Musical', 'Adventure', \"Children's\", 'Musical', 'Animation', \"Children's\", 'Musical', 'Musical', 'Comedy', 'Drama', 'Romance', 'Adventure', \"Children's\", 'Comedy', 'Fantasy', 'Comedy', 'Comedy', 'Crime', 'Drama', 'Musical', 'Romance', 'Comedy', \"Children's\", 'Drama', 'Fantasy', 'Sci-Fi', 'Action', 'Romance', 'Drama', 'Drama', 'Comedy', 'Action', 'Adventure', 'Sci-Fi', 'Thriller', 'Action', 'Adventure', 'Sci-Fi', 'Thriller', 'Comedy', 'Comedy', 'Animation', 'Comedy', 'Action', 'Adventure', 'Drama', 'Sci-Fi', 'War', 'Action', 'Adventure', 'Comedy', 'Romance', 'Action', 'Adventure', 'Action', 'Sci-Fi', 'Thriller', 'War', 'Action', 'Western', 'Drama', 'Adventure', 'War', 'Action', 'Adventure', 'Romance', 'Sci-Fi', 'War', 'Action', 'Horror', 'Sci-Fi', 'Thriller', 'Action', 'Adventure', 'Comedy', 'Horror', 'Sci-Fi', 'Action', 'Comedy', 'Musical', 'Action', 'Crime', 'Drama', 'Animation', 'Comedy', 'Drama', 'Comedy', 'Romance', 'Action', 'Drama', 'War', 'Comedy', 'Crime', 'Action', 'Sci-Fi', 'Thriller', 'Comedy', 'Drama', 'Drama', 'Romance', 'Drama', 'War', 'Film-Noir', 'Mystery', 'Thriller', 'Drama', 'Sci-Fi', 'Adventure', 'Comedy', 'War', 'Comedy', 'Adventure', 'Comedy', 'Drama', 'Comedy', 'Romance', 'Comedy', 'Mystery', 'Thriller', 'Comedy', 'Sci-Fi', 'Drama', 'Comedy', 'Drama', 'Comedy', 'Horror', 'Animation', \"Children's\", 'Musical', 'Western', 'Drama', 'Romance', 'Action', 'Adventure', 'Drama', 'Action', 'Adventure', 'Comedy', 'Drama', 'Comedy', 'War', 'Drama', 'Action', 'Comedy', 'Western', 'Comedy', 'Romance', 'Action', 'Horror', 'Sci-Fi', 'Thriller', 'Horror', 'Romance', 'Horror', 'Action', 'Adventure', 'Sci-Fi', 'Drama', 'Romance', 'Action', 'Adventure', 'Sci-Fi', 'Action', 'Adventure', 'Sci-Fi', 'Action', 'Adventure', 'Sci-Fi', 'Action', 'Adventure', 'Sci-Fi', 'Action', 'Adventure', 'Sci-Fi', 'Action', 'Adventure', 'Comedy', 'Crime', 'Comedy', 'Musical', 'Romance', 'Action', 'Horror', 'Comedy', 'Action', 'Romance', 'War', 'Comedy', 'Romance', 'Drama', 'Comedy', 'Romance', 'Comedy', 'Comedy', 'Action', 'Adventure', 'Sci-Fi', 'Thriller', 'Adventure', 'Animation', \"Children's\", 'Comedy', 'Musical', 'Action', 'Sci-Fi', 'Thriller', 'Action', 'Adventure', 'Comedy', 'Sci-Fi', \"Children's\", 'Fantasy', 'Drama', 'Sci-Fi', 'Action', 'Drama', 'War', 'Crime', 'Film-Noir', 'Mystery', 'Thriller', 'Drama', 'Drama', 'Romance', 'Drama', 'Sci-Fi', 'Thriller', \"Children's\", 'Drama', 'Fantasy', 'Action', 'Adventure', 'Sci-Fi', 'War', 'Drama', 'Action', 'Horror', 'Sci-Fi', 'Drama', 'Drama', 'Romance', 'Horror', 'Comedy', 'Drama', 'Action', 'Sci-Fi', 'Thriller', 'Comedy', 'Drama', 'Action', 'Comedy', 'Crime', 'Drama', 'Sci-Fi', 'Thriller', 'Comedy', 'War', 'Musical', 'Romance', 'Comedy', 'Action', 'Drama', 'Drama', 'Romance', 'Drama', 'Adventure', \"Children's\", 'Fantasy', 'Action', 'Comedy', 'Crime', 'Drama', 'Action', 'Comedy', 'Crime', 'Drama', 'Action', 'Comedy', 'Crime', 'Drama', 'Comedy', 'Horror', 'Adventure', \"Children's\", 'Fantasy', 'Action', 'Adventure', 'Romance', 'Sci-Fi', 'Thriller', 'Comedy', 'Sci-Fi', 'Comedy', 'Sci-Fi', 'Western', \"Children's\", 'Comedy', 'Fantasy', 'Animation', \"Children's\", 'Fantasy', 'Sci-Fi', 'Animation', \"Children's\", \"Children's\", 'Comedy', 'Action', 'Adventure', \"Children's\", 'Comedy', 'Adventure', \"Children's\", 'Fantasy', 'Adventure', \"Children's\", 'Drama', 'Romance', 'Adventure', \"Children's\", 'Sci-Fi', \"Children's\", 'Comedy', 'Musical', 'Adventure', \"Children's\", 'Comedy', 'Fantasy', 'Sci-Fi', 'Drama', 'Romance', 'War', 'Comedy', 'Adventure', \"Children's\", 'Animation', \"Children's\", 'Comedy', 'Musical', 'Animation', \"Children's\", 'Comedy', 'Musical', 'Romance', 'Animation', \"Children's\", 'Comedy', 'Musical', 'Romance', \"Children's\", 'Comedy', 'Animation', \"Children's\", 'Fantasy', 'Musical', 'Animation', \"Children's\", \"Children's\", 'Sci-Fi', 'Adventure', \"Children's\", 'Fantasy', 'Sci-Fi', 'Action', 'Adventure', 'Sci-Fi', 'Animation', \"Children's\", 'Musical', 'Comedy', 'Fantasy', 'Romance', 'Action', 'Adventure', 'Fantasy', 'Sci-Fi', 'Comedy', 'Romance', 'Comedy', 'Comedy', 'Action', 'Adventure', 'Comedy', 'Drama', 'Romance', 'Adventure', 'Comedy', 'Adventure', 'Musical', 'Comedy', 'Animation', \"Children's\", 'Animation', \"Children's\", 'Drama', 'Fantasy', \"Children's\", 'Fantasy', 'Sci-Fi', 'Adventure', \"Children's\", 'Fantasy', 'Comedy', 'Fantasy', 'Action', 'Adventure', 'Fantasy', 'Comedy', 'Drama', 'Drama', 'Romance', 'Animation', \"Children's\", 'Comedy', 'Musical', 'Comedy', 'Drama', 'Drama', 'Romance', 'Comedy', 'Comedy', 'Drama', 'Drama', 'Animation', \"Children's\", 'Comedy', 'Comedy', 'Comedy', 'Comedy', 'Action', 'Sci-Fi', 'Comedy', 'Romance', 'Drama', 'Adventure', \"Children's\", 'Fantasy', 'Action', 'Adventure', 'Comedy', 'Romance', 'Comedy', 'Sci-Fi', 'Comedy', 'Comedy', 'Romance', 'Comedy', 'Drama', 'Comedy', 'Drama', 'Fantasy', 'Adventure', 'Comedy', 'Comedy', 'Romance', 'Romance', 'Comedy', 'Sci-Fi', 'Drama', 'Action', 'Sci-Fi', 'Action', 'Sci-Fi', 'Action', 'Sci-Fi', 'Thriller', 'Comedy', 'Action', 'Adventure', 'Horror', 'Thriller', 'Comedy', 'Fantasy', 'Action', 'Adventure', 'Fantasy', 'Sci-Fi', 'Action', 'Adventure', 'Sci-Fi', 'Comedy', 'Horror', 'Musical', 'Sci-Fi', 'Action', 'Sci-Fi', 'War', 'Documentary', 'Comedy', 'Horror', 'Comedy', 'Horror', 'Comedy', 'Horror', 'Musical', 'Thriller', 'Comedy', 'Comedy', 'Comedy', 'Comedy', 'Fantasy', 'Comedy', 'Drama', 'Action', 'Horror', 'Thriller', 'Comedy', 'Drama', 'Comedy', 'Musical', 'Action', 'Drama', 'Fantasy', 'Romance', 'Comedy', 'Comedy', 'Comedy', 'Musical', 'Action', 'Drama', 'Drama', 'Thriller', 'Adventure', 'Fantasy', 'Sci-Fi', 'Comedy', 'Animation', \"Children's\", 'Comedy', 'Drama', 'War', 'Comedy', 'Drama', 'Western', 'Comedy', 'War', 'Comedy', 'Comedy', 'Comedy', 'Drama', 'Comedy', 'Romance', 'Comedy', 'Romance', 'Drama', 'Comedy', 'Drama', 'Romance', 'Animation', \"Children's\", 'Comedy', 'Action', 'Adventure', 'Fantasy', 'Drama', 'Romance', 'Comedy', 'Drama', 'Adventure', 'Comedy', 'Sci-Fi', 'Comedy', 'Drama', 'Drama', 'Comedy', 'Crime', 'Drama', 'Comedy', 'Comedy', 'Drama', 'Drama', 'Romance', 'Comedy', 'Horror', 'Drama', 'Comedy', 'Drama', 'Comedy', 'Romance', 'Drama', 'Comedy', 'Drama', 'Drama', 'Mystery', 'Comedy', 'Drama', 'Action', \"Children's\", 'Fantasy', 'Action', \"Children's\", 'Fantasy', 'Drama', 'Comedy', 'Drama', 'Comedy', 'Fantasy', 'Drama', 'Sci-Fi', 'Comedy', 'Adventure', 'Fantasy', 'Comedy', 'Drama', 'Comedy', 'Romance', 'Comedy', 'Comedy', 'Drama', 'Action', 'Sci-Fi', 'Comedy', 'Comedy', 'Drama', 'Romance', 'Comedy', 'Western', 'Musical', 'Comedy', 'Adventure', 'Drama', 'Romance', 'Sci-Fi', 'Crime', 'Drama', 'Sci-Fi', 'Action', 'Sci-Fi', 'Action', 'Sci-Fi', 'Action', 'Sci-Fi', 'Drama', 'Animation', \"Children's\", 'Comedy', 'Comedy', 'Comedy', 'Comedy', 'Comedy', 'Comedy', 'Horror', 'Comedy', 'Animation', \"Children's\", 'Comedy', 'Adventure', \"Children's\", 'Fantasy', 'Action', 'Adventure', 'Thriller', 'Drama', 'Romance', 'Drama', 'Adventure', 'Sci-Fi', \"Children's\", 'Comedy', 'Drama', 'Action', 'Adventure', 'Crime', 'Thriller', 'Animation', \"Children's\", 'Musical', 'Romance', 'Crime', 'Thriller', 'Adventure', 'Drama', 'Action', 'Thriller', 'Action', 'Drama', 'War', 'Action', 'Adventure', 'Comedy', 'Crime', 'Adventure', \"Children's\", 'Action', 'Romance', 'Thriller', 'Action', 'Adventure', 'Drama', 'Romance', 'Action', 'Adventure', 'Drama', 'Romance', 'Comedy', 'Drama', 'Drama', 'Romance', 'Action', 'Adventure', 'Fantasy', 'Sci-Fi', 'Drama', \"Children's\", 'Drama', 'Drama', 'Romance', 'War', 'Western', 'Action', 'Thriller', 'Thriller', 'Action', 'Drama', 'Thriller', 'Crime', 'Drama', 'Drama', 'Romance', 'Animation', \"Children's\", 'Action', 'Comedy', 'Musical', 'Sci-Fi', 'Action', 'Romance', 'Thriller', 'Animation', \"Children's\", 'Musical', 'Comedy', 'Crime', 'Fantasy', 'Action', 'Comedy', 'Western', 'Action', 'Romance', 'Thriller', 'Action', 'Adventure', 'Comedy', 'Romance', 'Action', 'Sci-Fi', 'Drama', 'Adventure', \"Children's\", 'Action', 'Adventure', 'Crime', 'Drama', 'Thriller', 'Action', 'Comedy', 'War', 'Drama', 'Action', 'Comedy', 'Action', 'Crime', 'Drama', 'Drama', 'War', \"Children's\", 'Drama', 'Comedy', 'Crime', 'Horror', 'Action', 'Adventure', \"Children's\", 'Sci-Fi', \"Children's\", 'Comedy', 'Musical', 'Action', 'Adventure', 'Comedy', 'Action', 'Crime', 'Romance', \"Children's\", 'Comedy', 'Animation', \"Children's\", 'Comedy', 'Musical', 'Action', 'Sci-Fi', 'Thriller', 'Adventure', 'Drama', 'Western', 'Action', 'Adventure', 'Crime', 'Drama', 'Animation', \"Children's\", 'Musical', 'Animation', \"Children's\", 'Musical', 'Animation', \"Children's\", 'Animation', \"Children's\", 'Action', 'Adventure', 'Mystery', 'Action', 'Adventure', 'Fantasy', 'Action', 'Adventure', 'Romance', 'Thriller', 'Action', 'Sci-Fi', 'Animation', 'Sci-Fi', 'Drama', 'Action', 'Sci-Fi', 'War', 'Animation', \"Children's\", 'Musical', 'Comedy', 'Drama', 'Romance', 'Action', 'Thriller', 'Drama', 'Romance', 'Adventure', \"Children's\", 'Drama', 'Musical', 'Drama', 'Romance', 'War', 'Action', 'Adventure', 'Action', 'Adventure', 'Romance', 'War', \"Children's\", 'Comedy', \"Children's\", 'Drama', 'Animation', \"Children's\", 'Musical', 'Animation', \"Children's\", \"Children's\", 'Comedy', 'Musical', 'Animation', \"Children's\", 'Musical', 'Animation', \"Children's\", 'Musical', 'Animation', \"Children's\", 'Action', 'Thriller', 'Action', 'Adventure', 'Animation', \"Children's\", 'Comedy', 'Adventure', \"Children's\", 'Comedy', 'Fantasy', 'Crime', 'Thriller', 'Drama', 'Romance', 'War', \"Children's\", 'Drama', 'Fantasy', 'Sci-Fi', 'Comedy', 'Fantasy', 'Drama', 'Drama', 'Drama', 'Action', 'Adventure', 'Drama', 'Sci-Fi', 'War', 'Action', 'Adventure', 'Comedy', 'Romance', 'Action', 'Adventure', 'Action', 'Sci-Fi', 'Thriller', 'War', 'Action', 'Western', 'Drama', 'Action', 'Adventure', 'Romance', 'Sci-Fi', 'War', 'Action', 'Adventure', 'Comedy', 'Horror', 'Sci-Fi', 'Comedy', 'Crime', 'Action', 'Sci-Fi', 'Thriller', 'Action', 'Drama', 'War', 'Drama', 'Adventure', 'Comedy', 'Drama', 'Drama', 'Adventure', 'Animation', 'Sci-Fi', 'Thriller', 'Action', 'Adventure', 'Animation', \"Children's\", 'Musical', 'Action', 'Adventure', 'Film-Noir', 'Thriller', 'Drama', 'Romance', \"Children's\", 'Comedy', 'Action', 'Adventure', 'Comedy', 'Crime', 'Action', 'Comedy', 'Western', 'Action', 'Comedy', 'Western', 'Action', 'Horror', 'Action', 'Comedy', 'Sci-Fi', 'War', 'Crime', 'Drama', 'Sci-Fi', 'Action', 'Romance', 'War', 'Drama', 'Action', 'Adventure', 'Thriller', 'Comedy', 'Crime', 'Action', 'Sci-Fi', 'Action', 'Adventure', 'Sci-Fi', 'Thriller', 'Action', 'Adventure', 'Thriller', 'Action', 'Adventure', 'Crime', 'Action', 'Adventure', 'Comedy', 'Sci-Fi', 'Action', 'Adventure', 'Action', 'Adventure', 'Sci-Fi', 'Thriller', 'Action', 'Adventure', 'Crime', 'Film-Noir', 'Mystery', 'Thriller', 'Drama', 'Drama', 'Romance', 'Drama', 'Romance', \"Children's\", 'Drama', 'Fantasy', 'Action', 'Adventure', 'Sci-Fi', 'War', 'Drama', 'Drama', 'Drama', 'Romance', 'Thriller', 'Animation', \"Children's\", 'Musical', 'Action', 'Horror', 'Sci-Fi', \"Children's\", 'Comedy', 'Fantasy', 'Comedy', 'Crime', 'Drama', 'Mystery', 'Drama', 'Romance', 'Comedy', 'Crime', 'Mystery', 'Thriller', 'Action', \"Children's\", 'Comedy', 'Drama', 'Action', 'Drama', 'Romance', 'Crime', 'Drama', 'Crime', 'Drama', 'Mystery', 'Thriller', 'Drama', 'Action', 'Drama', 'Sci-Fi', 'Thriller', 'Action', 'Sci-Fi', 'Animation', \"Children's\", 'Action', 'Comedy', 'Crime', 'Drama', 'Action', 'Drama', 'Drama', 'Drama', 'War', 'Drama', 'Adventure', \"Children's\", 'Fantasy', 'Comedy', 'Drama', 'Action', 'Comedy', 'Crime', 'Drama', 'Action', 'Comedy', 'Crime', 'Drama', 'Action', 'Comedy', 'Crime', 'Drama', 'Adventure', \"Children's\", 'Fantasy', 'Action', 'Adventure', 'Romance', \"Children's\", 'Comedy', 'Animation', \"Children's\", 'Action', 'Drama', 'Drama', 'Romance', 'Fantasy', 'Sci-Fi', 'Drama', 'Romance', 'Action', 'Drama', 'War', \"Children's\", 'Comedy', \"Children's\", 'Comedy', 'Adventure', \"Children's\", 'Comedy', 'Fantasy', 'Sci-Fi', 'Drama', 'Mystery', 'Animation', \"Children's\", 'Comedy', 'Musical', 'Animation', \"Children's\", 'Comedy', 'Musical', 'Romance', 'Animation', \"Children's\", 'Comedy', 'Musical', 'Romance', \"Children's\", 'Comedy', \"Children's\", 'Musical', 'Animation', \"Children's\", 'Animation', \"Children's\", 'Fantasy', 'Musical', 'Animation', \"Children's\", 'Animation', \"Children's\", 'Adventure', \"Children's\", 'Fantasy', 'Sci-Fi', 'Animation', \"Children's\", 'Musical', 'Comedy', 'Fantasy', 'Romance', 'Action', 'Adventure', 'Fantasy', 'Sci-Fi', 'Action', 'Adventure', 'Adventure', 'Animation', \"Children's\", 'Sci-Fi', 'Animation', \"Children's\", 'Adventure', 'Comedy', 'Animation', \"Children's\", 'Animation', \"Children's\", \"Children's\", 'Fantasy', 'Sci-Fi', 'Animation', \"Children's\", 'Comedy', 'Animation', \"Children's\", 'Comedy', 'Adventure', 'Fantasy', 'Romance', 'Comedy', 'Drama', 'Romance', 'Action', 'Adventure', 'Adventure', \"Children's\", 'Fantasy', 'Action', 'Adventure', 'Horror', 'Action', 'Adventure', 'Fantasy', 'Action', 'Crime', 'Drama', 'Comedy', 'Drama', 'Romance', 'Action', 'Comedy', 'Fantasy', 'Crime', 'Drama', 'Action', 'Crime', 'Thriller', 'Drama', 'Romance', 'Animation', \"Children's\", 'Drama', 'Drama', 'Animation', \"Children's\", 'Comedy', 'Action', 'Adventure', 'Drama', 'Action', 'Adventure', 'Comedy', \"Children's\", 'Comedy', 'Crime', 'Thriller', 'Animation', 'Musical', 'Action', 'War', 'Action', 'War', 'Action', 'Adventure', 'Mystery', 'Action', 'Adventure', 'Drama', 'Action', 'Adventure', 'Drama', 'Adventure', \"Children's\", 'Sci-Fi', 'Adventure', 'Comedy', 'Comedy', 'Crime', 'Thriller', 'Drama', 'Action', 'Crime', 'Action', 'Adventure', 'Horror', 'Thriller', 'Comedy', 'Fantasy', 'Action', 'Adventure', 'Fantasy', 'Sci-Fi', 'Drama', 'Mystery', 'Action', 'Sci-Fi', 'Western', 'Comedy', 'Action', 'Adventure', 'Comedy', 'Action', 'Adventure', 'Comedy', 'Drama', 'Action', 'Thriller', 'Crime', 'Drama', 'Thriller', 'Comedy', 'Fantasy', 'Action', 'Sci-Fi', 'Action', 'Horror', 'Thriller', 'Comedy', 'Drama', 'Action', 'Drama', 'Fantasy', 'Romance', 'Action', 'Drama', 'Action', 'Adventure', 'Sci-Fi', 'Thriller', 'Action', 'Action', 'Action', 'Western', \"Children's\", 'Comedy', 'Drama', 'Adventure', 'Animation', 'Film-Noir', 'Action', 'Action', 'Animation', \"Children's\", 'Comedy', 'Drama', 'Romance', 'Adventure', 'Comedy', 'Sci-Fi', 'Comedy', 'Crime', 'Drama', 'Comedy', 'Drama', 'Action', 'Drama', 'Romance', 'Thriller', 'Drama', 'Adventure', 'Romance', 'Sci-Fi', \"Children's\", 'Comedy', \"Children's\", 'Comedy', \"Children's\", 'Comedy', \"Children's\", 'Comedy', 'Action', 'Drama', 'Action', \"Children's\", 'Fantasy', 'Action', \"Children's\", 'Fantasy', 'Action', \"Children's\", 'Fantasy', 'Comedy', 'Drama', 'War', 'Adventure', 'Drama', 'Thriller', 'Adventure', 'Fantasy', 'Romance', 'Adventure', 'Fantasy', 'Adventure', 'Western', 'Comedy', 'Drama', 'Action', 'Sci-Fi', 'Thriller', 'Action', 'Drama', 'Action', 'Thriller', 'Action', 'Action', 'Action', 'Drama', 'Romance', 'Action', 'Adventure', 'Sci-Fi', 'Action', 'Sci-Fi', 'Action', 'Sci-Fi', 'Action', 'Adventure', 'Romance', 'Thriller', 'Drama', 'Animation', \"Children's\", 'Comedy', 'Action', 'Drama', 'War', 'Action', 'Sci-Fi', 'Action', 'Adventure', 'Fantasy', 'Action', 'Adventure', 'Fantasy', 'Comedy', 'Animation', \"Children's\", 'Comedy', 'Action', 'Adventure', 'Thriller', 'Drama', 'Romance', 'Drama', 'Sci-Fi', \"Children's\", 'Comedy', 'Drama', 'Crime', 'Thriller', 'Sci-Fi', 'Thriller', 'Action', 'Drama', 'War', 'Drama', 'Thriller', 'Action', 'Thriller', 'Action', 'Crime', 'Sci-Fi', 'Comedy', 'Action', 'Adventure', 'Fantasy', 'Sci-Fi', 'Drama', 'Action', 'Adventure', 'Sci-Fi', 'Comedy', 'Horror', 'Comedy', 'Romance', 'War', 'Animation', \"Children's\", 'Musical', 'Action', 'Comedy', 'Western', 'Action', 'Romance', 'Thriller', 'Action', 'Adventure', 'Comedy', 'Romance', 'Action', 'Sci-Fi', 'Action', 'Comedy', 'Action', 'Thriller', 'Action', 'Adventure', 'Sci-Fi', 'Drama', 'War', 'Animation', \"Children's\", 'Comedy', 'Musical', 'Action', 'Sci-Fi', 'Thriller', 'Action', 'Adventure', 'Crime', 'Drama', 'Drama', 'Thriller', 'Animation', \"Children's\", 'Musical', 'Animation', \"Children's\", 'Musical', 'Animation', \"Children's\", 'Action', 'Adventure', 'Mystery', 'Animation', 'Action', 'Adventure', 'Thriller', 'Animation', 'Sci-Fi', 'Comedy', 'Horror', 'Action', 'Crime', 'Drama', 'Horror', 'Adventure', \"Children's\", 'Drama', 'Musical', 'Action', 'Adventure', 'Animation', \"Children's\", 'Musical', 'Animation', \"Children's\", 'Animation', \"Children's\", 'Musical', 'Action', 'Thriller', 'Adventure', \"Children's\", 'Comedy', 'Fantasy', 'Comedy', 'Drama', 'War', \"Children's\", 'Drama', 'Fantasy', 'Sci-Fi', 'Action', 'Adventure', 'Sci-Fi', 'Thriller', 'Animation', 'Comedy', 'Comedy', 'Romance', 'Drama', 'Action', 'Adventure', 'Drama', 'Sci-Fi', 'War', 'Action', 'Adventure', 'Comedy', 'Romance', 'Action', 'Adventure', 'Action', 'Sci-Fi', 'Thriller', 'War', 'Sci-Fi', 'Action', 'Adventure', 'Romance', 'Sci-Fi', 'War', 'Action', 'Horror', 'Sci-Fi', 'Thriller', 'Action', 'Adventure', 'Comedy', 'Horror', 'Sci-Fi', 'Horror', 'Thriller', 'Action', 'Comedy', 'Musical', 'Comedy', 'Crime', 'Action', 'Sci-Fi', 'Thriller', 'Horror', 'Adventure', 'Comedy', 'Drama', 'Action', 'Adventure', 'Comedy', 'Horror', 'Adventure', 'War', 'Comedy', 'Romance', 'Comedy', 'Sci-Fi', 'Action', 'Adventure', 'Action', 'Drama', 'Romance', 'Comedy', 'Horror', 'Animation', \"Children's\", 'Musical', 'Action', 'Adventure', 'Sci-Fi', 'Comedy', 'Romance', 'Horror', 'Horror', 'Horror', 'Sci-Fi', 'Horror', 'Romance', 'Horror', 'Horror', 'Horror', 'Action', 'Adventure', 'Sci-Fi', 'Action', 'Thriller', 'Action', 'Adventure', 'Sci-Fi', 'Action', 'Adventure', 'Sci-Fi', 'Action', 'Adventure', 'Sci-Fi', 'Action', 'Adventure', 'Sci-Fi', 'Action', 'Adventure', 'Sci-Fi', 'Action', 'Adventure', 'Sci-Fi', 'Action', 'Horror', 'Horror', 'Thriller', 'Action', 'Comedy', 'Action', 'Sci-Fi', 'Action', 'Adventure', 'Thriller', 'Action', 'Sci-Fi', 'Thriller', 'Action', 'Adventure', 'Comedy', 'Sci-Fi', 'Drama', 'Sci-Fi', 'Action', 'Mystery', 'Romance', 'Thriller', 'Action', 'Thriller', 'Action', 'Thriller', 'Horror', 'Mystery', 'Thriller', 'Crime', 'Horror', 'Mystery', 'Thriller', 'Drama', 'Horror', 'Drama', 'Horror', 'Thriller', 'Action', 'Romance', 'Thriller', 'Comedy', 'Horror', 'Action', 'Comedy', 'Musical', 'Action', 'Thriller', 'Mystery', 'Sci-Fi', 'Thriller', 'Comedy', 'Action', 'Comedy', 'Crime', 'Drama', 'Drama', 'Horror', 'Horror', 'Horror', 'Thriller', 'Horror', 'Action', 'Comedy', 'Crime', 'Drama', 'Action', 'Comedy', 'Crime', 'Drama', 'Action', 'Comedy', 'Crime', 'Drama', 'Comedy', 'Horror', 'Fantasy', 'Sci-Fi', 'Action', 'Drama', 'War', 'Comedy', 'Documentary', 'Animation', \"Children's\", 'Comedy', 'Musical', 'Animation', \"Children's\", 'Comedy', 'Musical', 'Romance', 'Animation', \"Children's\", 'Comedy', 'Musical', 'Romance', 'Animation', \"Children's\", 'Animation', \"Children's\", 'Fantasy', 'Musical', 'Animation', \"Children's\", 'Action', 'Adventure', 'Sci-Fi', 'Animation', \"Children's\", 'Musical', 'Adventure', \"Children's\", 'Action', 'Adventure', 'Animation', \"Children's\", 'Animation', \"Children's\", 'Horror', 'Thriller', 'Comedy', 'Comedy', 'Comedy', 'Comedy', 'Drama', 'Drama', 'Horror', 'Mystery', 'Thriller', 'Action', 'Thriller', 'Animation', \"Children's\", 'Comedy', 'Action', 'Adventure', 'Horror', 'Action', 'Adventure', 'Horror', 'Action', 'Action', 'Sci-Fi', 'Animation', 'Musical', 'Action', 'Adventure', 'Mystery', 'Comedy', 'Horror', 'Sci-Fi', 'Horror', 'Sci-Fi', 'Horror', 'Sci-Fi', 'Action', 'Thriller', 'Comedy', 'Romance', 'Action', 'Sci-Fi', 'Thriller', 'Western', 'Action', 'Sci-Fi', 'Action', 'Crime', 'Action', 'Sci-Fi', 'Thriller', 'Comedy', 'Comedy', 'Action', 'Sci-Fi', 'Thriller', 'Comedy', 'Fantasy', 'Action', 'Adventure', 'Fantasy', 'Sci-Fi', 'Horror', 'Romance', 'Horror', 'Action', 'Adventure', 'Sci-Fi', 'Horror', 'Horror', 'Horror', 'Horror', 'Horror', 'Horror', 'Action', 'Sci-Fi', 'War', 'Comedy', 'Animation', \"Children's\", 'Action', 'Crime', 'Romance', 'Comedy', 'Action', 'Comedy', 'Sci-Fi', 'Thriller', 'Animation', 'Comedy', 'Thriller', 'Horror', 'Horror', 'Thriller', 'Comedy', 'Horror', 'Comedy', 'Horror', 'Horror', 'Thriller', 'Action', 'Adventure', \"Children's\", 'Comedy', 'Comedy', 'Horror', 'Musical', 'Animation', \"Children's\", 'Thriller', 'Comedy', 'Horror', 'Horror', 'Horror', 'Comedy', 'Thriller', 'Comedy', 'Drama', 'Comedy', 'Comedy', 'Romance', 'Comedy', 'Action', 'Action', 'Action', 'Drama', 'Drama', 'Horror', 'Adventure', 'Animation', 'Film-Noir', 'Action', 'Action', 'Action', 'Action', 'Horror', 'Romance', 'Action', 'Thriller', 'Animation', \"Children's\", 'Comedy', 'Comedy', 'Drama', 'Adventure', 'Comedy', 'Sci-Fi', 'Drama', 'Mystery', 'Thriller', 'Action', 'Comedy', 'Animation', \"Children's\", 'Comedy', 'Horror', 'Horror', 'Mystery', 'Thriller', 'Comedy', 'Drama', 'Drama', 'Thriller', 'Comedy', 'Adventure', 'Drama', 'Thriller', 'Drama', 'Sci-Fi', 'Drama', 'Thriller', 'Action', 'Sci-Fi', 'Thriller', 'Comedy', 'Comedy', 'Action', 'Thriller', 'Action', 'Action', 'Action', 'Action', 'Romance', 'Sci-Fi', 'Action', 'Crime', 'Drama', 'Sci-Fi', 'Action', 'Crime', 'Action', 'Crime', 'Comedy', 'Action', 'Sci-Fi', 'Sci-Fi', 'Thriller', 'Action', 'Adventure', 'Fantasy', 'Comedy', 'Horror', 'Horror', 'Comedy', 'Animation', \"Children's\", 'Comedy', 'Comedy', 'Animation', \"Children's\", 'Comedy', 'Musical', 'Animation', \"Children's\", 'Action', 'Adventure', 'Romance', 'Sci-Fi', 'War', 'Adventure', 'Animation', 'Sci-Fi', 'Thriller', 'Crime', 'Horror', 'Mystery', 'Thriller', 'Animation', \"Children's\", 'Animation', \"Children's\", 'Animation', \"Children's\", 'Comedy', 'Animation', 'Musical', 'Animation', 'Comedy', 'Action', 'Sci-Fi', 'Western', 'Animation', \"Children's\", 'Animation', \"Children's\", 'Adventure', 'Animation', 'Film-Noir', 'Action', 'Adventure', 'Animation', 'Drama', 'War', 'Action', 'Comedy', 'Action', 'Sci-Fi', 'Adventure', 'Animation', 'Sci-Fi', 'Comedy', 'Animation', \"Children's\", 'Comedy', 'Adventure', \"Children's\", 'Fantasy', 'Action', 'Crime', 'Thriller', 'Comedy', 'Drama', 'Romance', 'Drama', 'Thriller', 'Action', 'Comedy', 'Drama', 'Adventure', 'Sci-Fi', 'Drama', 'Sci-Fi', \"Children's\", 'Comedy', 'Drama', 'Comedy', 'Romance', 'Comedy', 'Drama', 'Crime', 'Thriller', 'Crime', 'Thriller', 'Comedy', 'Adventure', \"Children's\", 'Fantasy', 'Action', 'Comedy', 'Crime', 'Horror', 'Thriller', 'Sci-Fi', 'Thriller', 'Drama', 'Thriller', 'Comedy', 'Drama', 'Thriller', 'War', 'Documentary', 'Comedy', 'Horror', 'Sci-Fi', 'Action', 'Crime', 'Sci-Fi', 'Comedy', 'Drama', 'Action', 'Adventure', 'Fantasy', 'Sci-Fi', 'Crime', 'Drama', 'Romance', 'Thriller', 'Crime', 'Drama', 'Action', 'Adventure', 'Sci-Fi', \"Children's\", 'Comedy', 'Fantasy', 'Thriller', 'Action', 'Comedy', 'Musical', 'Sci-Fi', 'Action', 'Adventure', 'Sci-Fi', 'Comedy', 'Comedy', 'Romance', 'Comedy', 'Crime', 'Fantasy', 'Action', 'Romance', 'Thriller', 'Crime', 'Drama', 'Comedy', 'Sci-Fi', 'Action', 'Sci-Fi', 'Action', 'Thriller', 'Action', 'Adventure', 'Sci-Fi', 'Action', 'Crime', 'Drama', 'Crime', 'Thriller', 'Film-Noir', 'Sci-Fi', \"Children's\", 'Comedy', 'Musical', 'Action', 'Crime', 'Romance', 'Documentary', 'Action', 'Sci-Fi', 'Thriller', 'Action', 'Adventure', 'Crime', 'Drama', 'Drama', 'Thriller', 'Animation', \"Children's\", 'Musical', 'Crime', 'Drama', 'Thriller', 'Action', 'Adventure', 'Animation', 'Horror', 'Sci-Fi', 'Action', 'Adventure', 'Mystery', 'Crime', 'Thriller', 'Animation', \"Children's\", 'Musical', 'Comedy', 'Sci-Fi', 'Adventure', 'Sci-Fi', 'Animation', 'Animation', 'Comedy', 'Thriller', 'Action', 'Sci-Fi', 'Thriller', 'Sci-Fi', 'War', 'Action', 'Sci-Fi', 'War', 'Comedy', 'Fantasy', 'Romance', 'Sci-Fi', 'Action', 'Crime', 'Drama', 'Crime', 'Drama', 'Romance', 'Thriller', 'Mystery', 'Thriller', 'Mystery', 'Thriller', 'Drama', 'Thriller', 'Comedy', 'Mystery', 'Romance', 'Thriller', 'Comedy', 'Romance', 'Drama', 'Mystery', 'Sci-Fi', 'Thriller', 'Comedy', 'Horror', 'Sci-Fi', 'Adventure', \"Children's\", 'Fantasy', 'Adventure', \"Children's\", 'Fantasy', 'Sci-Fi', 'Action', 'Thriller', 'Comedy', 'Drama', 'Adventure', \"Children's\", 'Comedy', 'Fantasy', 'Comedy', 'Sci-Fi', 'Crime', 'Thriller', 'Drama', 'War', \"Children's\", 'Drama', 'Fantasy', 'Sci-Fi', 'Action', 'Adventure', 'Sci-Fi', 'Thriller', 'Action', 'Adventure', 'Sci-Fi', 'Thriller', 'Animation', 'Comedy', 'Comedy', 'Crime', 'Drama', 'Film-Noir', 'Comedy', 'Romance', 'Documentary', 'Action', 'Adventure', 'Drama', 'Sci-Fi', 'War', 'Sci-Fi', 'Action', 'Sci-Fi', 'Thriller', 'War', 'Adventure', 'War', 'Sci-Fi', 'Mystery', 'Thriller', 'Crime', 'Drama', 'Action', 'Horror', 'Sci-Fi', 'Thriller', 'Action', 'Adventure', 'Comedy', 'Horror', 'Sci-Fi', 'Action', 'Thriller', 'Horror', 'Thriller', 'Action', 'Crime', 'Drama', 'Action', 'Drama', 'War', 'Animation', 'Comedy', 'Crime', 'Drama', 'Thriller', 'Comedy', 'Crime', 'Action', 'Sci-Fi', 'Thriller', 'Comedy', 'Drama', 'Crime', 'Film-Noir', 'Thriller', 'Thriller', 'Film-Noir', 'Mystery', 'Thriller', 'Horror', 'Comedy', 'Romance', 'Film-Noir', 'Thriller', 'Comedy', 'Mystery', 'Thriller', 'Adventure', 'Animation', 'Sci-Fi', 'Thriller', 'Drama', 'Sci-Fi', 'Crime', 'Action', 'Horror', 'Sci-Fi', 'Thriller', 'Thriller', 'Action', 'Adventure', 'Sci-Fi', 'Action', 'Adventure', 'Sci-Fi', 'Action', 'Adventure', 'Sci-Fi', 'Action', 'Adventure', 'Sci-Fi', 'Action', 'Horror', 'Crime', 'Drama', 'Sci-Fi', 'Horror', 'Thriller', 'Comedy', 'Crime', 'Comedy', 'Action', 'Sci-Fi', 'Action', 'Adventure', 'Sci-Fi', 'Thriller', 'Action', 'Sci-Fi', 'Thriller', 'Action', 'Adventure', 'Comedy', 'Sci-Fi', 'Drama', 'Sci-Fi', 'Action', 'Thriller', 'Crime', 'Film-Noir', 'Mystery', 'Thriller', 'Mystery', 'Thriller', 'Crime', 'Horror', 'Mystery', 'Thriller', 'Drama', 'Sci-Fi', 'Thriller', 'Drama', 'Romance', 'Thriller', 'Action', 'Adventure', 'Sci-Fi', 'War', 'Action', 'Horror', 'Sci-Fi', 'Crime', 'Drama', 'Comedy', 'Drama', 'Film-Noir', 'Sci-Fi', 'Thriller', 'Comedy', 'Drama', 'Crime', 'Drama', 'Mystery', 'Thriller', 'Comedy', 'Thriller', 'Action', 'Drama', 'Sci-Fi', 'Thriller', 'Comedy', 'Drama', 'Mystery', 'Sci-Fi', 'Thriller', 'Action', 'Crime', 'Romance', 'Action', 'Crime', 'Drama', 'Thriller', 'Comedy', 'Drama', 'Comedy', 'Sci-Fi', 'Adventure', \"Children's\", 'Fantasy', 'Horror', 'Thriller', 'Horror', 'Action', 'Comedy', 'Crime', 'Drama', 'Adventure', \"Children's\", 'Fantasy', 'Sci-Fi', 'Thriller', 'Comedy', 'Sci-Fi', 'Comedy', 'Sci-Fi', 'Western', 'Fantasy', 'Sci-Fi', 'Adventure', \"Children's\", 'Comedy', 'Fantasy', 'Sci-Fi', 'Comedy', 'Documentary', \"Children's\", 'Sci-Fi', 'Comedy', 'Fantasy', 'Romance', 'Action', 'Adventure', 'Fantasy', 'Sci-Fi', 'Comedy', 'Romance', 'Drama', 'Sci-Fi', 'Horror', 'Thriller', 'Horror', \"Children's\", 'Fantasy', 'Sci-Fi', 'Comedy', 'Horror', 'Comedy', 'Horror', 'Horror', 'Thriller', 'Comedy', 'Fantasy', 'Thriller', 'Action', 'Adventure', 'Fantasy', 'Drama', 'Thriller', 'War', 'Comedy', 'Action', 'Comedy', 'Fantasy', 'Comedy', 'Romance', 'Crime', 'Drama', 'Action', 'Crime', 'Thriller', 'Action', 'Horror', 'Sci-Fi', 'Thriller', 'Comedy', 'Drama', 'Mystery', 'Sci-Fi', 'Action', 'Adventure', 'Sci-Fi', 'Thriller', 'War', 'Animation', \"Children's\", 'Comedy', \"Children's\", 'Comedy', 'Comedy', 'Crime', 'Thriller', 'Action', 'Sci-Fi', 'Comedy', 'Comedy', 'Romance', 'Comedy', 'Sci-Fi', 'Action', 'Drama', 'Action', 'Drama', 'Action', 'Drama', 'Drama', 'Thriller', 'Horror', 'Sci-Fi', 'Horror', 'Sci-Fi', 'Comedy', 'Romance', 'Crime', 'Action', 'Sci-Fi', 'Thriller', 'Western', 'Action', 'Adventure', 'Sci-Fi', 'Action', 'Sci-Fi', 'Action', 'Sci-Fi', 'Action', 'Sci-Fi', 'Comedy', 'Crime', 'Thriller', 'Horror', 'Sci-Fi', 'Thriller', 'Horror', 'Sci-Fi', 'Thriller', 'Action', 'Sci-Fi', 'Thriller', 'Comedy', 'Action', 'Sci-Fi', 'Thriller', 'Action', 'Adventure', 'Horror', 'Thriller', 'Action', 'Adventure', 'Fantasy', 'Sci-Fi', 'Action', 'Adventure', 'Sci-Fi', 'Action', 'Adventure', 'Sci-Fi', 'Action', 'Adventure', 'Sci-Fi', 'Action', 'Adventure', 'Sci-Fi', 'Comedy', 'Horror', 'Musical', 'Sci-Fi', 'Action', 'Crime', 'Romance', 'Action', 'Comedy', 'Sci-Fi', 'Thriller', 'Drama', 'Action', 'Sci-Fi', 'Thriller', 'Crime', 'Film-Noir', 'Animation', \"Children's\", 'Thriller', 'Comedy', 'Fantasy', 'Action', 'Sci-Fi', 'Comedy', 'Drama', 'Adventure', 'Thriller', 'Action', 'Drama', 'Fantasy', 'Romance', 'Horror', 'Sci-Fi', 'Action', 'Crime', 'Drama', 'Action', 'Adventure', 'Sci-Fi', 'Thriller', 'Crime', 'Thriller', 'Action', 'Crime', 'Thriller', 'Adventure', 'Fantasy', 'Sci-Fi', 'Comedy', 'Action', 'Crime', 'Sci-Fi', 'Comedy', 'Action', 'Adventure', 'Animation', 'Sci-Fi', 'Mystery', 'Romance', 'Thriller', 'Comedy', 'Adventure', 'Comedy', 'Sci-Fi', 'Thriller', 'Action', 'Adventure', 'Comedy', 'Crime', 'Comedy', 'Drama', 'Romance', 'Drama', 'Thriller', 'Adventure', 'Comedy', 'Sci-Fi', 'Comedy', 'Action', 'Thriller', 'Action', 'Crime', 'Action', 'Comedy', 'Crime', 'Drama', 'Action', 'Sci-Fi', 'Documentary', 'Comedy', 'Romance', \"Children's\", 'Comedy', 'Drama', 'Thriller', 'Crime', 'Film-Noir', 'Drama', 'Sci-Fi', 'Sci-Fi', 'Thriller', 'Adventure', 'Fantasy', 'Romance', 'Adventure', 'Fantasy', 'Drama', 'Sci-Fi', 'Thriller', 'Comedy', 'Drama', 'Thriller', 'Comedy', 'Crime', 'Drama', 'Comedy', 'Action', 'Sci-Fi', 'Thriller', 'Thriller', 'Comedy', 'Drama', 'Action', 'Horror', 'Sci-Fi', 'Action', 'Drama', 'Comedy', 'Action', 'Thriller', 'Action', 'Romance', 'Sci-Fi', 'Action', 'Adventure', 'Sci-Fi', 'Adventure', 'Drama', 'Romance', 'Sci-Fi', 'Drama', 'Sci-Fi', 'Crime', 'Drama', 'Sci-Fi', 'Action', 'Sci-Fi', 'Action', 'Sci-Fi', 'Horror', 'Thriller', 'Action', 'Comedy', 'Crime', 'Drama', 'Animation', \"Children's\", 'Comedy', 'Action', 'Crime', 'Thriller', 'Adventure', 'Crime', 'Sci-Fi', 'Thriller', 'Comedy', 'Action', 'Sci-Fi', 'Comedy', 'Action', 'Adventure', 'Fantasy', 'Drama', 'Fantasy', 'Drama', 'Thriller', 'Animation', \"Children's\", 'Comedy', 'Comedy', 'Romance', 'Comedy', 'Drama', 'Comedy', 'Comedy', 'Romance', 'Comedy', 'Drama', 'Romance', 'Drama', 'Thriller', 'Comedy', 'Comedy', 'Romance', 'Comedy', 'Drama', 'Animation', \"Children's\", 'Musical', 'Romance', 'Drama', 'Comedy', 'Romance', 'Drama', 'Romance', 'Drama', 'Action', 'Thriller', 'Comedy', 'Comedy', 'Romance', 'Comedy', 'Romance', 'Comedy', 'Comedy', 'Action', 'Adventure', 'Mystery', 'Sci-Fi', 'Drama', 'Thriller', 'War', 'Action', 'Adventure', 'Drama', 'Romance', 'Sci-Fi', 'Thriller', 'Comedy', 'Drama', 'Romance', 'Action', 'Crime', 'Sci-Fi', 'Drama', 'Romance', 'Action', 'Adventure', 'Comedy', 'Drama', 'Thriller', 'Comedy', 'Comedy', 'Comedy', 'Romance', 'Comedy', 'Romance', 'Comedy', 'Comedy', 'Romance', 'Action', 'Adventure', 'Fantasy', 'Sci-Fi', 'Drama', 'Comedy', 'Comedy', 'Romance', 'Comedy', 'Action', 'Adventure', 'Western', 'Action', \"Children's\", 'Comedy', 'Fantasy', 'Drama', 'Comedy', 'Drama', 'Comedy', 'Romance', 'Comedy', 'Drama', 'Mystery', 'Thriller', 'Comedy', 'Romance', 'War', 'Drama', 'Romance', 'Animation', \"Children's\", 'Musical', 'Action', 'Comedy', 'Western', 'Comedy', 'Action', 'Romance', 'Thriller', 'Comedy', 'Romance', 'Action', 'Adventure', 'Comedy', 'Romance', 'Drama', 'Drama', 'Comedy', 'Western', 'Drama', 'Comedy', 'Comedy', 'Western', 'Comedy', 'Sci-Fi', 'Comedy', 'Romance', 'Comedy', 'Comedy', 'Comedy', 'Drama', 'Drama', 'Thriller', 'Adventure', \"Children's\", 'Drama', 'Crime', 'Drama', 'Thriller', 'Action', 'Comedy', 'War', 'Comedy', 'Comedy', 'Romance', 'Comedy', 'Drama', 'Action', 'Adventure', 'Sci-Fi', 'Comedy', 'Western', 'Drama', 'Comedy', 'Romance', 'Comedy', 'Action', 'Drama', 'Action', 'Drama', 'Mystery', 'Comedy', 'Drama', 'Drama', 'Comedy', 'Romance', 'Thriller', 'Comedy', 'Comedy', 'Romance', 'Comedy', \"Children's\", 'Comedy', 'Comedy', 'Romance', 'Thriller', 'Animation', \"Children's\", 'Comedy', 'Musical', 'Action', 'Sci-Fi', 'Thriller', 'Action', 'Adventure', 'Crime', 'Drama', 'Drama', 'Thriller', 'Animation', \"Children's\", 'Musical', 'Comedy', 'Romance', 'Drama', 'Romance', 'Adventure', \"Children's\", 'Comedy', 'Drama', 'Thriller', 'Action', 'Adventure', 'Mystery', 'Adventure', 'Animation', \"Children's\", 'Comedy', 'Fantasy', 'Action', 'Comedy', 'Romance', 'Comedy', 'Drama', 'Horror', 'Action', 'Adventure', 'Romance', 'Thriller', 'Comedy', 'Crime', 'Comedy', 'Drama', 'Action', 'Sci-Fi', 'War', 'Comedy', 'Comedy', 'Fantasy', 'Romance', 'Sci-Fi', 'Comedy', 'Romance', 'Comedy', 'Comedy', 'Drama', 'Thriller', 'Comedy', 'Romance', 'Drama', 'Romance', 'Drama', 'Drama', 'Thriller', \"Children's\", 'Drama', 'Adventure', \"Children's\", 'Comedy', \"Children's\", 'Comedy', \"Children's\", 'Comedy', 'Musical', 'Musical', 'Adventure', \"Children's\", 'Comedy', 'Fantasy', 'Comedy', 'Crime', 'Drama', 'Musical', 'Romance', 'Drama', 'War', 'Mystery', 'Thriller', \"Children's\", 'Drama', 'Fantasy', 'Sci-Fi', 'Action', 'Romance', 'Action', 'Romance', 'Comedy', 'Fantasy', 'Comedy', 'Crime', 'Drama', 'Film-Noir', 'Drama', 'Action', 'Adventure', 'Drama', 'Sci-Fi', 'War', 'Action', 'Adventure', 'Action', 'Western', 'Action', 'Comedy', 'Musical', 'Action', 'Sci-Fi', 'Thriller', 'Drama', 'Drama', 'Romance', 'Adventure', 'Comedy', 'Drama', 'Comedy', 'Romance', 'Comedy', 'Sci-Fi', 'Drama', 'Comedy', 'Action', 'Adventure', 'Drama', 'Musical', 'War', 'Drama', 'Comedy', 'Romance', 'Horror', 'Action', 'Thriller', 'Action', 'Adventure', 'Sci-Fi', 'Comedy', 'Musical', 'Romance', 'Comedy', 'Musical', 'Romance', 'Action', 'Horror', 'Action', 'Horror', 'Comedy', 'Action', 'Comedy', 'Sci-Fi', 'War', 'Drama', 'Romance', 'Comedy', 'Comedy', 'Romance', 'Mystery', 'Thriller', 'Comedy', 'Comedy', 'Romance', 'Comedy', 'Comedy', 'Romance', 'Comedy', 'Drama', 'Romance', 'Comedy', 'Comedy', 'Romance', 'Action', 'Adventure', 'Sci-Fi', 'Thriller', 'Action', 'Romance', 'Thriller', 'Comedy', 'Romance', 'Drama', 'Sci-Fi', 'Action', 'Drama', 'War', \"Children's\", 'Comedy', 'Comedy', 'Romance', 'Action', 'Mystery', 'Romance', 'Thriller', 'Action', 'Thriller', 'Mystery', 'Thriller', 'Comedy', 'Horror', 'Mystery', 'Thriller', 'Crime', 'Horror', 'Mystery', 'Thriller', 'Comedy', 'Drama', 'Drama', 'Comedy', 'Mystery', 'Comedy', 'Drama', 'Comedy', 'Crime', 'Drama', 'Mystery', \"Children's\", 'Comedy', 'Drama', 'Romance', 'Action', 'Romance', 'Thriller', 'Comedy', 'Romance', 'Adventure', 'Sci-Fi', 'Thriller', 'Comedy', 'Drama', 'Action', 'Drama', 'Romance', 'Drama', 'Action', 'Drama', 'Thriller', 'Action', 'Drama', 'Sci-Fi', 'Thriller', 'Drama', 'Comedy', 'Comedy', 'Drama', 'Romance', 'Action', 'Adventure', 'Sci-Fi', 'Thriller', 'Comedy', 'Musical', 'Romance', 'Action', 'Drama', 'Drama', 'Drama', 'Comedy', 'Drama', 'Drama', 'Comedy', 'Comedy', 'Drama', 'Horror', 'Thriller', 'Horror', 'Comedy', 'Horror', 'Comedy', 'Horror', 'Comedy', 'Sci-Fi', 'Comedy', 'Sci-Fi', 'Western', \"Children's\", 'Comedy', 'Drama', 'Romance', \"Children's\", 'Comedy', \"Children's\", 'Comedy', 'Sci-Fi', 'Adventure', \"Children's\", 'Comedy', 'Fantasy', 'Sci-Fi', \"Children's\", 'Drama', 'Animation', \"Children's\", 'Comedy', 'Musical', 'Romance', \"Children's\", 'Comedy', 'Comedy', 'Fantasy', 'Romance', 'Drama', 'War', 'Comedy', 'Comedy', 'Comedy', 'Animation', \"Children's\", 'Comedy', 'Comedy', 'Drama', 'Romance', 'Drama', 'Romance', 'Drama', 'Romance', 'Comedy', 'Fantasy', 'Comedy', 'Drama', 'Romance', 'Comedy', 'Drama', 'Comedy', 'Comedy', 'Drama', 'Romance', 'Comedy', 'Romance', 'Comedy', 'Comedy', 'Drama', 'Romance', 'Comedy', 'Romance', 'Crime', 'Drama', 'Drama', 'Drama', 'Romance', 'Comedy', 'Drama', 'Drama', 'Drama', 'Romance', 'Comedy', 'Comedy', 'Romance', 'Comedy', 'Drama', 'Animation', \"Children's\", 'Comedy', 'Comedy', 'Romance', 'Comedy', 'Comedy', 'Crime', 'Comedy', 'Drama', 'Action', 'Action', 'War', 'Action', 'Adventure', 'Comedy', 'Romance', 'Comedy', 'Sci-Fi', 'Action', 'Drama', 'Action', 'Drama', 'Action', 'Drama', 'Comedy', 'Drama', 'Comedy', 'Comedy', 'Romance', 'Adventure', \"Children's\", 'Drama', 'Comedy', 'Drama', 'Horror', 'Comedy', 'Comedy', 'Romance', 'Adventure', 'Comedy', 'Comedy', 'Action', 'Adventure', 'Sci-Fi', 'Comedy', 'Drama', 'Comedy', 'Romance', 'Comedy', 'Fantasy', 'Action', 'Adventure', 'Fantasy', 'Sci-Fi', 'Comedy', 'Animation', 'Comedy', 'Action', 'Sci-Fi', 'Western', 'Comedy', 'Drama', 'Comedy', 'Horror', 'Comedy', 'Romance', 'Comedy', 'Horror', 'Musical', 'Comedy', 'Comedy', 'Comedy', 'Comedy', 'Comedy', 'Comedy', 'Fantasy', 'Comedy', 'Action', 'Romance', 'Thriller', 'Comedy', 'Romance', 'Adventure', 'Romance', 'Comedy', 'Drama', 'Drama', 'Mystery', 'Romance', 'Action', 'Thriller', 'Drama', 'War', 'Drama', 'Romance', 'Comedy', 'Action', 'Adventure', 'Sci-Fi', 'Thriller', 'Comedy', 'Drama', 'Romance', 'Adventure', 'Drama', 'Romance', \"Children's\", 'Comedy', 'Comedy', 'Comedy', 'Thriller', 'Thriller', 'Action', 'Thriller', 'Drama', 'Drama', 'Thriller', 'Comedy', 'Drama', 'Romance', 'Animation', \"Children's\", 'Comedy', 'Comedy', 'Drama', 'Comedy', 'Drama', 'Sci-Fi', 'Drama', 'Drama', 'Romance', 'Comedy', 'Thriller', 'Comedy', 'Crime', 'Comedy', 'Thriller', 'Drama', 'Comedy', 'Comedy', 'Comedy', 'Drama', 'Action', 'Drama', 'Romance', 'Thriller', 'Drama', 'Romance', 'Comedy', 'Drama', 'Romance', 'Comedy', 'Action', 'Comedy', 'Adventure', 'Romance', 'Sci-Fi', 'Action', 'Animation', \"Children's\", 'Comedy', 'Drama', 'Drama', 'Drama', 'Comedy', 'Comedy', 'Crime', 'Drama', 'Drama', 'Action', 'Drama', 'Comedy', 'Comedy', 'Romance', 'Drama', 'Drama', 'Romance', 'Action', 'War', 'Comedy', 'Drama', 'War', 'Comedy', 'Adventure', 'Fantasy', 'Comedy', 'Drama', 'Comedy', 'Romance', 'Drama', 'Comedy', 'Drama', 'Comedy', 'Comedy', 'Drama', 'Drama', 'Romance', 'Comedy', 'Drama', 'Comedy', 'Action', 'Drama', 'Romance', 'Thriller', 'Comedy', 'Comedy', 'Drama', 'Comedy', 'Comedy', 'Romance', 'Action', 'Romance', 'Sci-Fi', 'Drama', 'Romance', 'Thriller', 'Comedy', 'Comedy', 'Comedy', 'Action', 'Sci-Fi', 'Action', 'Adventure', 'Romance', 'Thriller', 'Drama', 'Comedy', 'Thriller', 'Comedy', 'Animation', \"Children's\", 'Comedy', 'Drama', 'Romance', 'Drama', 'Sci-Fi', 'Comedy', 'Romance', 'Crime', 'Thriller', 'Crime', 'Thriller', 'Comedy', 'Action', 'Adventure', 'Fantasy', 'Sci-Fi', 'Drama', 'Romance', 'War', 'Western', 'Crime', 'Drama', 'Romance', 'Thriller', 'Drama', 'Drama', 'Comedy', 'Romance', 'Drama', 'Thriller', 'Action', 'Adventure', 'Sci-Fi', 'Drama', 'War', \"Children's\", 'Comedy', 'Musical', 'Drama', 'Thriller', 'Crime', 'Drama', 'Thriller', 'Action', 'Adventure', 'Mystery', 'Drama', 'Drama', 'Drama', 'Comedy', 'Romance', 'Musical', 'Romance', 'Comedy', 'Musical', 'Drama', 'Romance', 'Mystery', 'Thriller', 'Mystery', 'Thriller', 'Drama', 'Romance', 'War', 'Comedy', 'Romance', 'Adventure', \"Children's\", 'Drama', 'Musical', 'Romance', 'Thriller', 'Film-Noir', 'Romance', 'Thriller', 'Drama', \"Children's\", 'Drama', 'Fantasy', 'Sci-Fi', 'Comedy', 'Crime', 'Drama', 'Film-Noir', 'Drama', 'Action', 'Adventure', 'Drama', 'Sci-Fi', 'War', 'Action', 'Adventure', 'Comedy', 'Romance', 'Action', 'Adventure', 'Action', 'Sci-Fi', 'Thriller', 'War', 'Drama', 'War', 'Action', 'Adventure', 'Romance', 'Sci-Fi', 'War', 'Action', 'Horror', 'Sci-Fi', 'Thriller', 'Drama', 'War', 'Drama', 'Comedy', 'Romance', 'Action', 'Sci-Fi', 'Thriller', 'Comedy', 'Drama', 'Romance', 'Drama', 'Romance', 'Thriller', 'Comedy', 'Romance', 'Western', 'Drama', 'Action', 'Drama', 'Romance', 'Comedy', 'Horror', 'Film-Noir', 'Mystery', 'Comedy', 'Action', 'Adventure', 'Drama', 'Action', 'Horror', 'Drama', 'Comedy', 'Crime', 'Film-Noir', 'Mystery', 'Thriller', 'Drama', 'Drama', 'Film-Noir', 'Sci-Fi', 'Thriller', 'Action', 'Comedy', 'Drama', 'Comedy', 'Drama', 'Comedy', 'Drama', 'Horror', 'Comedy', 'Sci-Fi', 'Drama', 'Romance', 'Animation', \"Children's\", 'Animation', \"Children's\", 'Comedy', 'Musical', 'Romance', 'Drama', 'Comedy', 'Fantasy', 'Comedy', 'Drama', 'Romance', 'Comedy', 'Drama', 'Comedy', 'Comedy', 'Romance', 'Drama', 'Horror', 'Thriller', 'Action', 'Sci-Fi', 'Thriller', 'Comedy', 'Comedy', 'Horror', 'Musical', 'Sci-Fi', 'Thriller', 'Comedy', 'Fantasy', 'Comedy', 'Drama', 'Action', 'Thriller', 'Drama', 'Comedy', 'Action', 'Comedy', 'Action', 'Adventure', 'Animation', 'Comedy', 'Romance', 'Thriller', 'Comedy', 'Drama', 'Crime', 'Drama', 'Film-Noir', 'Thriller', 'Drama', 'Sci-Fi', 'Comedy', 'Drama', 'Comedy', 'Western', 'Action', 'Sci-Fi', 'Animation', \"Children's\", 'Comedy', 'Comedy', 'Romance', 'Comedy', 'Drama', 'Romance', 'Drama', 'Romance', \"Children's\", 'Comedy', 'Drama', 'Comedy', 'Romance', 'Action', 'Romance', 'Thriller', 'Drama', 'Romance', 'Comedy', 'Romance', 'Drama', 'Comedy', 'Romance', 'Action', 'Romance', 'Thriller', 'Comedy', 'Romance', 'War', 'Action', 'Adventure', 'Comedy', 'Romance', 'Comedy', 'Adventure', \"Children's\", 'Drama', 'Comedy', 'Romance', 'Drama', 'Comedy', 'Romance', 'Comedy', 'Romance', 'Thriller', 'Comedy', 'Romance', 'Comedy', 'Romance', 'Thriller', 'Comedy', 'Romance', 'Drama', 'Romance', 'Comedy', 'Romance', 'Animation', 'Comedy', 'Thriller', \"Children's\", 'Comedy', 'Comedy', 'Drama', 'Romance', 'Adventure', \"Children's\", 'Drama', 'Musical', 'Comedy', 'Romance', 'Thriller', \"Children's\", 'Comedy', 'Musical', 'Comedy', 'Comedy', \"Children's\", 'Drama', 'Fantasy', 'Sci-Fi', 'Action', 'Romance', 'Animation', 'Comedy', 'Comedy', 'Romance', 'Action', 'Adventure', 'Drama', 'Sci-Fi', 'War', 'Action', 'Adventure', 'Comedy', 'Romance', 'Drama', 'Horror', 'Thriller', 'Horror', 'Adventure', 'Comedy', 'Drama', 'Comedy', 'Sci-Fi', 'Comedy', 'Horror', 'Comedy', 'Comedy', 'Romance', 'Horror', 'Comedy', 'Musical', 'Romance', 'Action', 'Horror', 'Drama', 'Romance', 'Comedy', 'Romance', 'Action', 'Romance', 'Thriller', 'Comedy', 'Crime', 'Comedy', 'Romance', 'Comedy', 'Romance', 'Action', 'Mystery', 'Romance', 'Thriller', 'Comedy', 'Crime', 'Horror', 'Mystery', 'Thriller', 'Drama', 'Romance', 'Drama', 'Horror', 'Thriller', 'Drama', 'Romance', 'Action', 'Romance', 'Thriller', 'Drama', 'Romance', 'Comedy', 'Drama', 'Romance', 'Comedy', 'Drama', 'Romance', 'Comedy', 'Drama', 'Romance', 'Comedy', 'Comedy', 'Drama', 'Horror', 'Thriller', 'Horror', 'Action', 'Comedy', 'Crime', 'Drama', 'Action', 'Comedy', 'Crime', 'Drama', 'Comedy', 'Sci-Fi', 'Adventure', \"Children's\", 'Comedy', 'Fantasy', 'Sci-Fi', 'Comedy', 'Animation', \"Children's\", 'Comedy', 'Musical', 'Romance', 'Comedy', 'Fantasy', 'Romance', 'Comedy', 'Romance', 'Comedy', 'Adventure', 'Comedy', 'Comedy', 'Comedy', 'Comedy', 'Drama', 'Romance', 'Horror', 'Thriller', 'Comedy', 'Fantasy', 'Comedy', 'Drama', 'Romance', 'Comedy', 'Drama', 'Romance', 'Comedy', 'Comedy', 'Drama', 'Drama', 'Comedy', 'Romance', 'Comedy', 'Comedy', 'Comedy', 'Comedy', 'Comedy', 'Comedy', 'Comedy', 'Comedy', 'Romance', 'Action', 'Adventure', 'Comedy', 'Romance', 'Comedy', 'Mystery', 'Comedy', 'Comedy', 'Comedy', 'Romance', 'Drama', 'Comedy', 'Romance', 'Adventure', 'Comedy', 'Comedy', 'Western', 'Comedy', 'Romance', 'Comedy', 'Romance', 'Comedy', 'Romance', 'Comedy', 'Romance', 'Comedy', 'Romance', 'Animation', 'Comedy', 'Horror', 'Comedy', 'Horror', 'Action', 'Adventure', 'Comedy', 'Comedy', 'Horror', 'Comedy', 'Comedy', 'Comedy', 'Comedy', 'Comedy', 'Comedy', 'Drama', 'Comedy', 'Drama', 'Comedy', 'Romance', 'Comedy', 'Comedy', 'Comedy', 'Sci-Fi', 'Comedy', 'Comedy', 'Comedy', 'Action', 'Adventure', 'Comedy', 'Crime', 'Thriller', 'Comedy', 'Action', 'Drama', 'Romance', 'Thriller', 'Drama', 'Romance', 'Comedy', 'Horror', 'Adventure', 'Romance', 'Sci-Fi', 'Comedy', 'Romance', 'Comedy', 'Comedy', 'Comedy', 'Drama', 'Comedy', 'Drama', 'Comedy', 'Comedy', 'Horror', 'Drama', 'Thriller', 'Comedy', 'Romance', 'Comedy', 'Drama', 'Comedy', 'Romance', 'Comedy', 'Drama', 'Drama', 'Comedy', 'Comedy', 'Action', 'Thriller', 'Comedy', 'Comedy', 'Horror', 'Comedy', 'Animation', \"Children's\", 'Comedy', 'Action', 'Crime', 'Thriller', 'Comedy', 'Romance', 'Action', 'Adventure', 'Thriller', 'Comedy', 'Drama', 'Romance', 'Drama', 'Thriller', 'Action', 'Comedy', 'Drama', 'Drama', 'Drama', 'Sci-Fi', \"Children's\", 'Comedy', 'Drama', 'Crime', 'Thriller', 'Action', 'Drama', 'War', 'Drama', 'Thriller', 'Comedy', 'Drama', 'Thriller', 'War', 'Crime', 'Film-Noir', 'Mystery', 'Thriller', 'Action', 'Thriller', 'Action', 'Sci-Fi', 'Thriller', 'Comedy', 'Horror', 'Sci-Fi', 'Action', 'Crime', 'Sci-Fi', 'Comedy', 'Drama', 'Thriller', 'Comedy', 'Drama', 'Drama', 'Comedy', 'Drama', 'Documentary', 'Drama', 'Fantasy', 'Romance', 'Thriller', 'Comedy', 'Sci-Fi', 'Action', 'Adventure', 'Fantasy', 'Sci-Fi', 'Action', 'Drama', 'Thriller', 'Crime', 'Drama', 'Action', 'Adventure', 'Sci-Fi', 'Action', 'Adventure', 'Sci-Fi', 'Action', 'Adventure', 'Thriller', 'Comedy', 'Romance', 'War', 'Action', 'Comedy', 'Western', 'Action', 'Romance', 'Thriller', 'Action', 'Adventure', 'Comedy', 'Romance', 'Comedy', 'Comedy', 'Drama', 'Thriller', 'Action', 'Thriller', 'Action', 'Comedy', 'War', 'Action', 'Thriller', 'Action', 'Adventure', 'Sci-Fi', 'Comedy', 'Action', 'Drama', 'Drama', 'Drama', 'War', 'Film-Noir', 'Sci-Fi', \"Children's\", 'Comedy', 'Musical', 'Western', 'Action', 'Crime', 'Romance', 'Documentary', 'Documentary', 'Comedy', 'Romance', 'Thriller', 'Animation', \"Children's\", 'Comedy', 'Musical', 'Action', 'Sci-Fi', 'Thriller', 'Action', 'Adventure', 'Crime', 'Drama', 'Drama', 'Thriller', 'Animation', \"Children's\", 'Musical', 'Comedy', 'Romance', 'Crime', 'Drama', 'Thriller', 'Action', 'Adventure', 'Animation', 'Horror', 'Sci-Fi', 'Drama', 'War', 'Action', 'Adventure', 'Mystery', 'Comedy', 'Romance', 'Action', 'Adventure', 'Thriller', 'Action', 'Sci-Fi', 'War', 'Comedy', 'Comedy', 'Fantasy', 'Romance', 'Sci-Fi', 'Comedy', 'Romance', 'Action', 'Crime', 'Drama', 'Crime', 'Drama', 'Romance', 'Thriller', 'Drama', 'Romance', 'War', 'Drama', 'Mystery', 'Sci-Fi', 'Thriller', 'Action', 'Adventure', 'Romance', 'War', 'Action', 'Thriller', 'Comedy', 'War', 'Comedy', 'Comedy', 'Comedy', 'Musical', 'Drama', 'War', 'Mystery', 'Thriller', 'Drama', 'Romance', 'War', \"Children's\", 'Drama', 'Fantasy', 'Sci-Fi', 'Action', 'Romance', 'Action', 'Adventure', 'Sci-Fi', 'Thriller', 'Comedy', 'Comedy', 'Documentary', 'Comedy', 'Drama', 'Romance', 'Documentary', 'Documentary', 'Action', 'Adventure', 'Drama', 'Sci-Fi', 'War', 'Action', 'Adventure', 'Comedy', 'Romance', 'Action', 'Adventure', 'Action', 'Sci-Fi', 'Thriller', 'War', 'Action', 'Western', 'Drama', 'War', 'Action', 'Adventure', 'Romance', 'Sci-Fi', 'War', 'Action', 'Horror', 'Sci-Fi', 'Thriller', 'Action', 'Crime', 'Drama', 'Crime', 'Drama', 'Thriller', 'Action', 'Drama', 'War', 'Action', 'Sci-Fi', 'Thriller', 'Comedy', 'Drama', 'Romance', 'Thriller', 'Drama', 'War', 'Adventure', 'Comedy', 'Drama', 'Action', 'Drama', 'Mystery', 'Romance', 'Thriller', 'Comedy', 'Romance', 'Western', 'Comedy', 'Sci-Fi', 'Drama', 'War', 'Adventure', 'Animation', 'Sci-Fi', 'Thriller', 'Comedy', 'Drama', 'Comedy', 'Horror', 'Western', 'Comedy', 'Action', 'Adventure', 'Comedy', 'Drama', 'Comedy', 'Drama', 'War', 'Comedy', 'Romance', 'Action', 'Horror', 'Sci-Fi', 'Thriller', 'Action', 'Adventure', 'Sci-Fi', 'Drama', 'Thriller', 'Action', 'Thriller', 'Action', 'Adventure', 'Sci-Fi', 'Action', 'Adventure', 'Sci-Fi', 'Action', 'Adventure', 'Sci-Fi', 'Action', 'Horror', 'Drama', 'Romance', 'Comedy', 'Drama', 'Crime', 'Drama', 'Sci-Fi', 'Animation', 'Comedy', 'Action', 'Romance', 'War', 'Comedy', 'Comedy', 'Drama', 'Action', 'Drama', 'Thriller', 'Comedy', 'Comedy', 'Action', 'Sci-Fi', 'Action', 'Adventure', 'Sci-Fi', 'Thriller', 'Comedy', 'Romance', 'Action', 'Sci-Fi', 'Thriller', 'Action', 'Adventure', 'Comedy', 'Sci-Fi', 'Drama', 'Sci-Fi', 'Action', 'Drama', 'War', 'Action', 'Mystery', 'Romance', 'Thriller', 'Sci-Fi', 'Thriller', 'Action', 'Thriller', 'Action', 'Thriller', 'Action', 'Thriller', 'War', 'Crime', 'Film-Noir', 'Mystery', 'Thriller', 'Comedy', 'Crime', 'Horror', 'Mystery', 'Thriller', 'Drama', 'Sci-Fi', 'Thriller', 'Comedy', 'Drama', 'Romance', 'Thriller', 'Action', 'Adventure', 'Sci-Fi', 'War', 'Comedy', 'Drama', 'Action', 'Romance', 'Thriller', 'Comedy', 'Drama', 'Crime', 'Drama', 'Mystery', 'Thriller', 'Comedy', 'Documentary', 'Action', 'Sci-Fi', 'Thriller', 'Comedy', 'Action', 'Drama', 'Sci-Fi', 'Thriller', 'Action', 'Sci-Fi', 'Animation', \"Children's\", 'Mystery', 'Sci-Fi', 'Thriller', 'Comedy', 'Action', 'Crime', 'Romance', 'Animation', \"Children's\", 'Fantasy', 'War', 'Comedy', 'Action', 'Drama', 'Drama', 'War', 'Comedy', 'Comedy', 'Drama', 'Action', 'Comedy', 'Crime', 'Drama', 'Action', 'Comedy', 'Crime', 'Drama', 'Comedy', 'Sci-Fi', 'Western', 'Action', 'Adventure', 'Action', 'Crime', 'Drama', 'Action', 'Drama', 'War', 'Action', 'Thriller', 'Comedy', 'Documentary', 'Comedy', 'Drama', 'Romance', 'Animation', \"Children's\", 'Comedy', 'Musical', 'Animation', \"Children's\", 'Comedy', 'Musical', 'Romance', 'Action', 'Adventure', 'Sci-Fi', 'Comedy', 'Fantasy', 'Romance', 'Action', 'Adventure', 'Fantasy', 'Sci-Fi', 'Comedy', 'Romance', 'Action', 'Adventure', 'Horror', 'Thriller', 'Animation', \"Children's\", 'Comedy', 'Drama', 'Romance', 'Comedy', 'Action', 'Adventure', 'Horror', 'Action', 'Crime', 'Drama', 'Comedy', 'Drama', 'Romance', 'Comedy', 'Drama', 'Comedy', 'Drama', 'Romance', 'Drama', 'Drama', 'Action', 'Thriller', 'Action', 'Crime', 'Thriller', 'Action', 'Horror', 'Sci-Fi', 'Thriller', 'Animation', \"Children's\", 'Drama', 'Comedy', 'Action', 'Thriller', 'Comedy', 'Drama', 'Action', 'Thriller', 'Animation', \"Children's\", 'Comedy', 'Comedy', 'Romance', 'Comedy', 'Crime', 'Thriller', 'Action', 'Sci-Fi', 'Comedy', 'Action', 'Adventure', 'Comedy', 'Romance', 'Comedy', 'Sci-Fi', 'Comedy', 'Comedy', 'Romance', 'Drama', 'Drama', 'Comedy', 'Romance', 'Action', 'Thriller', 'Comedy', 'Romance', 'Action', 'Sci-Fi', 'Thriller', 'Western', 'Action', 'Sci-Fi', 'Action', 'Crime', 'Drama', 'Thriller', 'Drama', 'Action', 'Sci-Fi', 'Thriller', 'Crime', 'Comedy', 'Crime', 'Thriller', 'Action', 'Adventure', 'Horror', 'Thriller', 'Action', 'Adventure', 'Fantasy', 'Sci-Fi', 'Action', 'Adventure', 'Sci-Fi', 'Action', 'Sci-Fi', 'War', 'Comedy', 'Romance', 'Comedy', 'Animation', \"Children's\", 'Documentary', 'Comedy', 'Action', 'Comedy', 'Sci-Fi', 'Thriller', 'Animation', 'Comedy', 'Drama', 'Comedy', 'Horror', 'Thriller', 'Comedy', 'Horror', 'Action', 'Sci-Fi', 'Thriller', 'Comedy', 'Horror', 'Musical', 'Animation', \"Children's\", 'Thriller', 'Action', 'Thriller', 'Crime', 'Drama', 'Thriller', 'Comedy', 'Romance', 'Comedy', 'Comedy', 'Fantasy', 'Action', 'Romance', 'Thriller', 'Action', 'War', 'Comedy', 'Drama', 'Adventure', 'Thriller', 'Comedy', 'Drama', 'War', 'Comedy', 'Action', 'Adventure', 'Sci-Fi', 'Thriller', 'Comedy', 'Action', 'Action', 'Western', 'Drama', 'Drama', 'Thriller', 'Drama', 'War', 'Comedy', 'Action', 'Crime', 'Sci-Fi', 'Adventure', 'Animation', 'Film-Noir', 'Action', 'Comedy', 'Drama', 'War', 'Comedy', 'Drama', 'Western', 'Comedy', 'Comedy', 'Comedy', 'Drama', 'War', 'Comedy', 'Horror', 'Romance', 'Comedy', 'Thriller', 'Action', 'Adventure', 'Comedy', 'Crime', 'Animation', \"Children's\", 'Comedy', 'Documentary', 'Musical', 'Drama', 'Thriller', 'Comedy', 'Drama', 'Sci-Fi', 'Comedy', 'Drama', 'Adventure', 'Comedy', 'Sci-Fi', 'Drama', 'Mystery', 'Thriller', 'Drama', 'War', 'Animation', \"Children's\", 'Comedy', 'Comedy', 'Drama', 'Action', 'Thriller', 'Comedy', 'Drama', 'Comedy', 'Crime', 'Comedy', 'Drama', 'Comedy', 'Romance', 'Drama', 'Comedy', 'Drama', 'Action', 'Drama', 'Comedy', 'Drama', 'Action', 'War', 'Comedy', 'Drama', 'War', 'Drama', 'Comedy', 'Drama', 'Thriller', 'Drama', 'Romance', 'Comedy', 'Comedy', 'Drama', 'Action', 'Sci-Fi', 'Thriller', 'Thriller', 'Comedy', 'Action', 'Horror', 'Sci-Fi', 'Action', 'Drama', 'Comedy', 'Drama', 'Action', 'Thriller', 'Action', 'Action', 'Comedy', 'Western', 'Action', 'Sci-Fi', 'Thriller', 'Action', 'Sci-Fi', 'Film-Noir', 'Mystery', 'Thriller', 'Comedy', 'Comedy', 'Horror', 'Adventure', 'Animation', 'Sci-Fi', 'Action', 'Drama', 'War', 'Action', 'Crime', 'Thriller', 'Comedy', 'Horror', 'Comedy', 'Action', 'Sci-Fi', 'Comedy', 'Action', 'Sci-Fi', 'Action', 'Comedy', 'War', 'Sci-Fi', 'Thriller', 'Drama', 'Thriller', 'Animation', \"Children's\", 'Comedy', 'Animation', \"Children's\", 'Drama', 'Romance', \"Children's\", 'Comedy', 'Drama', 'Comedy', 'Romance', 'Drama', 'Romance', 'Crime', 'Thriller', 'Animation', \"Children's\", 'Musical', 'Romance', 'Comedy', 'Romance', 'Drama', 'Romance', 'Drama', 'Thriller', 'Comedy', 'Drama', 'Romance', 'Comedy', 'Drama', 'Romance', 'Comedy', 'Romance', 'Drama', 'Romance', 'Drama', 'Romance', 'Crime', 'Drama', 'Drama', 'Comedy', 'Romance', 'Comedy', 'Romance', 'Comedy', 'Romance', 'War', 'Comedy', 'Romance', 'Drama', 'Romance', 'Animation', \"Children's\", 'Musical', 'Action', 'Romance', 'Thriller', 'Drama', 'Comedy', 'Romance', 'Adventure', \"Children's\", 'Drama', 'Thriller', 'Comedy', \"Children's\", 'Drama', 'Comedy', 'Romance', 'Comedy', 'Romance', 'Thriller', \"Children's\", 'Comedy', 'Comedy', 'Romance', 'Thriller', 'Animation', \"Children's\", 'Comedy', 'Musical', 'Drama', 'Romance', 'Action', 'Adventure', 'Mystery', 'Comedy', 'Romance', 'Comedy', 'Romance', 'Drama', 'Romance', 'Comedy', 'Drama', 'Romance', 'Drama', 'Romance', 'Drama', 'Romance', 'Musical', 'Romance', 'Drama', 'Romance', 'War', 'Drama', 'Drama', 'Romance', 'Comedy', 'Romance', 'Comedy', 'Romance', 'Comedy', 'Musical', 'Romance', 'Drama', 'Romance', 'Comedy', 'Romance', 'Comedy', 'Romance', 'Action', 'Romance', 'Thriller', 'Comedy', 'Romance', 'Action', 'Sci-Fi', 'Thriller', 'Comedy', 'Romance', 'Crime', 'Drama', 'Thriller', 'Drama', 'Animation', \"Children's\", 'Musical', 'Drama', 'Drama', 'Romance', 'Drama', 'Romance', 'Comedy', 'Romance', 'Action', 'Drama', 'Romance', 'Romance', 'Comedy', 'Drama', 'Romance', 'Adventure', 'Comedy', 'Romance', 'Comedy', 'Drama', 'Romance', 'Action', 'Adventure', 'Sci-Fi', 'Thriller', \"Children's\", 'Drama', \"Children's\", 'Comedy', 'Animation', \"Children's\", 'Musical', 'Comedy', 'Comedy', 'Drama', 'Romance', 'Comedy', 'Drama', 'Romance', 'Drama', 'Romance', 'Comedy', 'Drama', 'Drama', 'Romance', 'Animation', \"Children's\", 'Comedy', 'Comedy', 'Romance', 'Comedy', 'Drama', 'Drama', 'Drama', 'Comedy', 'Romance', 'Comedy', 'Drama', 'Romance', 'Comedy', 'Romance', 'Comedy', 'Romance', 'Comedy', 'Romance', 'Documentary', 'Comedy', 'Romance', 'Comedy', 'Romance', 'Comedy', 'Drama', 'Romance', 'Drama', 'Action', 'Thriller', 'Comedy', 'Animation', \"Children's\", 'Comedy', 'Adventure', \"Children's\", 'Fantasy', 'Drama', 'Romance', \"Children's\", 'Comedy', 'Drama', 'Adventure', \"Children's\", 'Comedy', 'Musical', 'Drama', 'Romance', 'War', 'Drama', 'Romance', 'Action', 'Adventure', 'Fantasy', 'Sci-Fi', 'Action', 'Adventure', 'Sci-Fi', \"Children's\", 'Comedy', 'Fantasy', 'Drama', 'Action', 'Adventure', 'Thriller', 'Action', 'Adventure', 'Comedy', 'Romance', 'Action', 'Adventure', 'Sci-Fi', 'Action', 'Thriller', 'Comedy', 'Romance', 'Drama', 'War', 'Comedy', 'Romance', 'Comedy', 'Romance', 'Thriller', \"Children's\", 'Comedy', 'Musical', 'Action', 'Adventure', 'Comedy', 'Comedy', 'Romance', 'Thriller', 'Action', 'Sci-Fi', 'Thriller', 'Adventure', 'Drama', 'Western', 'Action', 'Adventure', 'Crime', 'Drama', 'Drama', 'Thriller', 'Animation', \"Children's\", 'Musical', 'Animation', \"Children's\", 'Action', 'Adventure', 'Mystery', 'Action', 'Adventure', 'Thriller', 'Action', 'Adventure', 'Romance', 'Thriller', 'Animation', 'Sci-Fi', 'Animation', 'Comedy', 'Thriller', 'Action', 'Sci-Fi', 'War', 'Action', 'Crime', 'Drama', 'Horror', 'Thriller', 'Drama', 'Romance', 'Mystery', 'Thriller', 'Drama', 'Romance', 'War', 'Adventure', \"Children's\", 'Drama', 'Musical', 'Drama', 'Romance', 'War', 'Drama', 'Mystery', 'Sci-Fi', 'Thriller', 'Drama', 'Horror', 'Sci-Fi', 'Action', 'Adventure', 'Romance', 'War', 'Animation', \"Children's\", 'Musical', \"Children's\", 'Comedy', 'Musical', 'Adventure', 'Animation', \"Children's\", 'Musical', 'Animation', \"Children's\", 'Comedy', 'Adventure', \"Children's\", 'Comedy', 'Fantasy', 'Comedy', \"Children's\", 'Drama', 'Fantasy', 'Sci-Fi', 'Action', 'Adventure', 'Sci-Fi', 'Thriller', 'Comedy', 'Animation', 'Comedy', 'Drama', 'Action', 'Adventure', 'Drama', 'Sci-Fi', 'War', 'Action', 'Adventure', 'Comedy', 'Romance', 'Action', 'Adventure', 'Action', 'Adventure', 'Romance', 'Sci-Fi', 'War', 'Action', 'Adventure', 'Comedy', 'Horror', 'Sci-Fi', 'Action', 'Comedy', 'Musical', 'Animation', 'Comedy', 'Comedy', 'Crime', 'Comedy', 'Action', 'Sci-Fi', 'Thriller', 'Comedy', 'Drama', 'Comedy', 'Romance', 'Comedy', 'Sci-Fi', 'Adventure', 'Animation', 'Sci-Fi', 'Thriller', 'Comedy', 'Horror', 'Animation', \"Children's\", 'Musical', 'Action', 'Adventure', 'Comedy', 'War', 'Action', 'Comedy', 'Western', 'Comedy', 'Romance', 'Horror', 'Romance', 'Horror', 'Action', 'Adventure', 'Sci-Fi', 'Action', 'Adventure', 'Sci-Fi', 'Comedy', 'Crime', 'Drama', 'Sci-Fi', 'Action', 'Sci-Fi', 'Action', 'Adventure', 'Thriller', 'Action', 'Sci-Fi', 'Thriller', 'Action', 'Adventure', 'Comedy', 'Sci-Fi', 'Drama', 'Sci-Fi', 'Crime', 'Horror', 'Mystery', 'Thriller', 'Film-Noir', 'Sci-Fi', 'Thriller', 'Action', 'Mystery', 'Thriller', 'Action', 'Comedy', 'Musical', 'Drama', 'Adventure', \"Children's\", 'Fantasy', 'Horror', 'Horror', 'Horror', 'Horror', 'Horror', 'Action', 'Adventure', 'Romance', 'Comedy', 'Sci-Fi', \"Children's\", 'Fantasy', 'Musical', 'Animation', \"Children's\", 'Drama', 'Romance', 'Fantasy', 'Sci-Fi', 'Adventure', \"Children's\", 'Fantasy', 'Adventure', \"Children's\", 'Sci-Fi', 'Adventure', \"Children's\", 'Comedy', 'Fantasy', 'Sci-Fi', 'Adventure', \"Children's\", 'Animation', \"Children's\", 'Comedy', 'Musical', 'Romance', \"Children's\", 'Musical', \"Children's\", 'Horror', 'Action', 'Adventure', 'Fantasy', 'Sci-Fi', 'Horror', 'Thriller', 'Comedy', 'Crime', 'Thriller', 'Action', 'Adventure', 'Adventure', 'Comedy', 'Adventure', 'Musical', \"Children's\", 'Fantasy', 'Sci-Fi', 'Adventure', \"Children's\", 'Fantasy', 'Action', 'Adventure', 'Horror', 'Comedy', 'Fantasy', 'Action', 'Adventure', 'Fantasy', 'Action', 'Comedy', 'Fantasy', 'Drama', 'Romance', 'Mystery', 'Sci-Fi', 'Comedy', 'Action', 'Adventure', 'Horror', 'Comedy', 'Romance', 'Adventure', \"Children's\", 'Fantasy', 'Action', 'Adventure', 'Comedy', 'Romance', 'Comedy', 'Sci-Fi', 'Horror', 'Horror', 'Horror', 'Horror', 'Adventure', 'Comedy', 'Adventure', 'Comedy', 'Action', 'Sci-Fi', 'Horror', 'Thriller', 'Action', 'Sci-Fi', 'Thriller', 'Action', 'Adventure', 'Horror', 'Thriller', 'Comedy', 'Fantasy', 'Action', 'Adventure', 'Fantasy', 'Sci-Fi', 'Action', 'Adventure', 'Sci-Fi', 'Comedy', 'Horror', 'Musical', 'Sci-Fi', 'Action', 'Comedy', 'Sci-Fi', 'Thriller', \"Children's\", 'Comedy', 'Drama', 'Comedy', 'Horror', 'Comedy', 'Horror', 'Comedy', 'Horror', 'Thriller', 'Comedy', 'Fantasy', \"Children's\", 'Action', 'Drama', 'Fantasy', 'Romance', 'Drama', 'Mystery', 'Romance', 'Action', 'Adventure', 'Sci-Fi', 'Thriller', 'Comedy', 'Adventure', 'Fantasy', 'Sci-Fi', 'Adventure', 'Animation', 'Film-Noir', 'Action', 'Adventure', 'Animation', 'Drama', 'Comedy', 'Mystery', 'Romance', 'Thriller', 'Adventure', 'Comedy', 'Sci-Fi', 'Comedy', 'Drama', 'Romance', 'Action', 'Adventure', 'Fantasy', 'Adventure', 'Drama', 'Adventure', 'Comedy', 'Sci-Fi', 'Drama', 'Mystery', 'Drama', 'Comedy', 'Horror', 'Comedy', 'Crime', 'Drama', 'Drama', 'Mystery', \"Children's\", 'Comedy', \"Children's\", 'Comedy', \"Children's\", 'Comedy', 'Adventure', 'Comedy', 'Fantasy', 'Drama', 'Sci-Fi', 'Adventure', 'Fantasy', 'Adventure', 'Musical', 'Romance', 'Action', 'Thriller', 'Action', 'Crime', 'Adventure', 'Animation', 'Sci-Fi', 'Animation', \"Children's\", 'Comedy', 'Action', 'Adventure', 'Thriller', 'Action', 'Adventure', 'Action', 'Sci-Fi', 'Thriller', 'Comedy', 'Adventure', 'Sci-Fi', 'Comedy', 'Horror', 'Animation', \"Children's\", 'Comedy', 'Comedy', 'Romance', 'Comedy', 'Romance', 'Comedy', 'Drama', 'Romance', 'Drama', 'Romance', \"Children's\", 'Comedy', 'Drama', 'Drama', 'Romance', 'Comedy', 'Romance', 'Drama', 'Romance', 'Animation', \"Children's\", 'Musical', 'Romance', 'Comedy', 'Drama', 'Romance', 'Comedy', 'Comedy', 'Romance', 'Drama', 'Romance', 'Comedy', 'Action', 'Adventure', 'Comedy', 'Crime', 'Action', 'Adventure', 'Drama', 'Romance', 'Comedy', 'Comedy', 'Drama', 'Romance', 'Comedy', 'Drama', 'Drama', 'Romance', 'Comedy', 'Drama', 'Comedy', 'Drama', 'Comedy', 'Romance', 'Comedy', 'Romance', 'Drama', 'Romance', 'War', 'Western', 'Comedy', 'Romance', 'Comedy', 'Romance', 'Comedy', 'Romance', 'Comedy', \"Children's\", 'Comedy', 'Fantasy', 'Comedy', 'Romance', 'Comedy', \"Children's\", 'Comedy', 'Comedy', 'Romance', 'Comedy', 'Drama', 'Action', 'Romance', 'Thriller', 'Comedy', 'Romance', 'Comedy', 'Sci-Fi', 'Comedy', 'Romance', 'Comedy', 'Romance', 'Comedy', 'Romance', 'Drama', 'Romance', 'Comedy', 'Comedy', 'Mystery', 'Comedy', 'Romance', 'Comedy', 'Drama', 'Romance', 'Drama', 'War', 'Comedy', 'Crime', 'Horror', 'Comedy', 'Romance', 'Comedy', 'Romance', \"Children's\", 'Comedy', 'Comedy', 'Romance', 'Thriller', 'Animation', \"Children's\", 'Comedy', 'Musical', 'Drama', 'Romance', 'Comedy', 'Comedy', 'Sci-Fi', 'Comedy', 'Romance', 'Drama', 'Romance', 'Comedy', 'Romance', 'Comedy', 'Comedy', 'Action', 'Adventure', 'Romance', 'Thriller', 'Comedy', 'Drama', 'Drama', 'Romance', 'Drama', 'Romance', 'Comedy', 'Romance', 'Comedy', 'Comedy', 'Drama', 'Romance', 'Comedy', 'Romance', 'Musical', 'Romance', 'Musical', 'Romance', 'Drama', 'Romance', 'Comedy', 'Comedy', 'Drama', 'Comedy', 'Crime', 'Comedy', 'Mystery', 'Romance', 'Thriller', 'Musical', 'Romance', 'Comedy', 'Romance', 'Comedy', 'Romance', 'Drama', 'Romance', 'War', 'Romance', 'Thriller', 'Comedy', 'Romance', 'Thriller', 'Comedy', 'Romance', 'Drama', 'Romance', 'Comedy', 'Comedy', 'Action', 'Adventure', 'Romance', 'War', \"Children's\", 'Comedy', 'Drama', \"Children's\", 'Comedy', \"Children's\", 'Comedy', 'Mystery', \"Children's\", 'Comedy', 'Musical', 'Drama', 'Romance', 'Comedy', 'Musical', 'Romance', 'Comedy', 'Sci-Fi', 'Comedy', 'Musical', 'Comedy', 'Comedy', 'Drama', 'Comedy', 'Romance', 'Action', 'Adventure', 'Comedy', 'Romance', 'Comedy', 'Romance', 'Comedy', 'Romance', 'Comedy', 'Comedy', 'Drama', 'Romance', 'Drama', 'Romance', 'Comedy', 'Romance', 'Comedy', 'Mystery', 'Thriller', 'Comedy', 'Sci-Fi', 'Comedy', 'Horror', 'Comedy', 'Drama', 'Drama', 'Romance', 'Comedy', 'Drama', 'Romance', 'Action', 'Comedy', 'Western', 'Comedy', 'Romance', 'Comedy', 'Romance', 'Comedy', 'Musical', 'Romance', 'Comedy', 'Romance', 'War', 'Comedy', 'Romance', 'Comedy', 'Comedy', 'Romance', 'Comedy', 'Romance', 'Comedy', 'Comedy', 'Crime', 'Comedy', 'Comedy', 'Romance', 'Adventure', 'Animation', \"Children's\", 'Comedy', 'Musical', 'Comedy', 'Romance', 'Action', 'Adventure', 'Comedy', 'Sci-Fi', 'Comedy', 'Romance', 'Drama', 'Romance', 'Comedy', 'Romance', 'Drama', 'Romance', 'Comedy', 'Romance', 'Comedy', 'Drama', 'Romance', 'Comedy', 'Drama', 'Drama', 'Romance', 'Comedy', 'Romance', 'Comedy', 'Drama', 'Comedy', 'Romance', 'Romance', 'Comedy', 'Comedy', 'Drama', 'Romance', 'Adventure', 'Comedy', 'Romance', 'Comedy', 'Drama', 'Comedy', 'Comedy', 'Comedy', 'Drama', 'Drama', 'Romance', 'Comedy', 'Comedy', 'Drama', 'Comedy', 'Sci-Fi', 'Comedy', 'Sci-Fi', 'Western', \"Children's\", 'Comedy', 'Fantasy', 'Drama', 'Romance', 'Adventure', \"Children's\", 'Comedy', \"Children's\", 'Comedy', 'Adventure', \"Children's\", 'Comedy', 'Fantasy', 'Sci-Fi', 'Comedy', 'Drama', 'Romance', 'Animation', \"Children's\", 'Comedy', 'Musical', 'Romance', 'Comedy', 'Fantasy', 'Romance', 'Comedy', 'Comedy', 'Comedy', 'Drama', 'Romance', 'Comedy', 'Comedy', 'Drama', 'Romance', 'Comedy', 'Fantasy', 'Comedy', 'Comedy', 'Comedy', 'Drama', 'Romance', 'Comedy', 'Drama', 'Comedy', 'Comedy', 'Drama', 'Romance', 'Comedy', 'Drama', 'Comedy', 'Drama', 'Romance', 'Comedy', 'Romance', 'Romance', 'Drama', 'Romance', 'Comedy', 'Drama', 'Romance', 'Comedy', 'Comedy', 'Romance', 'Comedy', 'Romance', 'Romance', 'Comedy', 'Drama', 'Animation', \"Children's\", 'Comedy', 'Comedy', 'Comedy', 'Romance', 'Comedy', 'Comedy', 'Romance', 'Comedy', 'Romance', 'Action', 'Adventure', 'Comedy', 'Romance', 'Comedy', 'Sci-Fi', 'Drama', 'Romance', 'Comedy', 'Comedy', 'Drama', 'Comedy', 'Romance', 'Comedy', 'Drama', 'Romance', 'Drama', 'Romance', 'Action', 'Comedy', 'Romance', 'Thriller', 'Comedy', 'Romance', 'Comedy', 'Comedy', 'Romance', 'Comedy', 'Comedy', 'Romance', 'Comedy', 'Romance', 'Comedy', 'Romance', 'Comedy', 'Comedy', 'Comedy', 'Fantasy', 'Comedy', 'Romance', 'Comedy', 'Horror', 'Musical', 'Sci-Fi', 'Comedy', 'Romance', 'Comedy', 'Animation', 'Comedy', 'Comedy', 'Horror', 'Comedy', 'Horror', 'Comedy', 'Action', 'Adventure', 'Comedy', 'Comedy', 'Romance', 'Comedy', 'Drama', 'Comedy', 'Comedy', 'Adventure', 'Romance', 'Comedy', 'Drama', 'Comedy', 'Drama', 'Comedy', 'Drama', 'Comedy', 'Comedy', 'Romance', 'Comedy', 'Comedy', 'Musical', 'Romance', 'War', 'Drama', 'Romance', 'Comedy', 'Drama', 'Comedy', 'Comedy', 'Romance', 'Comedy', 'Drama', 'Western', 'Mystery', 'Romance', 'Thriller', 'Comedy', 'Drama', 'Comedy', 'Comedy', 'Musical', 'Comedy', 'Comedy', 'Comedy', 'Comedy', 'Romance', 'Comedy', 'Romance', 'Comedy', 'Drama', 'Romance', 'Animation', \"Children's\", 'Comedy', 'Adventure', 'Comedy', 'Sci-Fi', 'Comedy', 'Romance', 'Comedy', 'Comedy', 'Comedy', 'Drama', 'Action', 'Drama', 'Romance', 'Thriller', 'Comedy', 'Drama', 'Romance', 'Adventure', 'Romance', 'Sci-Fi', 'Comedy', 'Romance', 'Comedy', 'Comedy', 'Romance', 'Drama', 'Romance', 'Comedy', 'Drama', 'War', 'Comedy', 'Comedy', 'Drama', 'Comedy', 'Comedy', 'Fantasy', 'Comedy', 'Romance', 'Comedy', 'Drama', 'Comedy', 'Comedy', 'Romance', 'Comedy', 'Romance', 'Drama', 'Romance', 'Comedy', 'Romance', 'Thriller', 'Comedy', 'Drama', 'Comedy', 'Drama', 'Comedy', 'Adventure', 'Musical', 'Romance', 'Comedy', 'Romance', 'Comedy', 'Western', 'Drama', 'Romance', 'Comedy', 'Drama', 'Romance', 'Adventure', 'Drama', 'Romance', 'Sci-Fi', 'Action', 'Adventure', 'Romance', 'Thriller', 'Comedy', 'Comedy', 'Comedy', 'Comedy', 'Western', 'Comedy', 'Romance', 'Animation', \"Children's\", 'Comedy', 'Adventure', \"Children's\", 'Fantasy', 'Comedy', 'Action', 'Crime', 'Thriller', 'Comedy', 'Romance', 'Action', 'Adventure', 'Thriller', 'Action', 'Adventure', 'Romance', 'Drama', 'Romance', 'Comedy', 'Action', 'Comedy', 'Drama', 'Drama', 'Sci-Fi', 'Drama', 'Sci-Fi', \"Children's\", 'Comedy', 'Drama', 'Drama', 'Comedy', 'Romance', 'Crime', 'Thriller', 'Animation', \"Children's\", 'Musical', 'Romance', 'Crime', 'Thriller', \"Children's\", 'Comedy', 'Adventure', \"Children's\", 'Fantasy', 'Drama', 'Comedy', 'Sci-Fi', 'Thriller', 'Comedy', 'Adventure', \"Children's\", 'Comedy', 'Musical', 'Action', 'Drama', 'War', 'Drama', 'Drama', 'Romance', 'War', 'Action', 'Adventure', 'Comedy', 'Crime', 'Adventure', \"Children's\", 'Action', 'Adventure', 'Mystery', 'Sci-Fi', 'Drama', 'Thriller', 'War', 'Action', 'Thriller', 'Action', 'Adventure', 'Drama', 'Romance', 'Action', 'Crime', 'Thriller', 'Action', 'Adventure', 'Sci-Fi', 'Sci-Fi', 'Thriller', 'Horror', 'Sci-Fi', 'Action', 'Adventure', 'Comedy', 'Comedy', 'Comedy', 'Romance', 'Animation', \"Children's\", 'Comedy', 'Romance', 'Comedy', 'Romance', 'Comedy', 'Sci-Fi', 'Action', 'Adventure', 'Fantasy', 'Sci-Fi', 'Drama', 'Drama', 'Romance', 'War', 'Western', 'Comedy', 'Comedy', 'Romance', 'Drama', 'Drama', 'Thriller', 'Crime', 'Drama', 'Drama', 'Action', 'Adventure', 'Western', 'Action', 'Adventure', 'Sci-Fi', \"Children's\", 'Comedy', 'Fantasy', 'Drama', 'Action', 'Adventure', 'Sci-Fi', 'Comedy', 'Drama', 'War', 'Comedy', 'Romance', 'Adventure', 'Drama', 'Comedy', 'Drama', 'Musical', 'Action', 'Adventure', 'Thriller', 'Drama', 'Mystery', 'Thriller', \"Children's\", 'Comedy', 'Comedy', 'Romance', 'War', 'Comedy', 'Romance', 'Action', 'Comedy', 'Animation', \"Children's\", 'Musical', 'Comedy', 'Crime', 'Fantasy', 'Action', 'Comedy', 'Western', 'Comedy', 'Drama', \"Children's\", 'Comedy', 'Action', 'Thriller', 'Action', 'Romance', 'Thriller', 'Action', 'Sci-Fi', 'Action', 'Adventure', 'Comedy', 'Romance', 'Western', 'Comedy', 'Comedy', 'Comedy', 'Action', 'Thriller', 'Comedy', 'Comedy', 'Sci-Fi', 'Comedy', 'Romance', 'Comedy', 'Action', 'Sci-Fi', 'Comedy', 'Drama', 'Comedy', 'Drama', 'Thriller', 'Action', 'Thriller', 'Action', 'Comedy', 'War', 'Action', 'Thriller', 'Action', 'Adventure', 'Sci-Fi', 'Action', 'Comedy', 'Comedy', 'Comedy', 'Mystery', 'Comedy', 'Romance', 'Comedy', 'Drama', 'Romance', 'Comedy', 'Mystery', 'Romance', 'Comedy', 'Drama', 'Comedy', 'Drama', 'War', 'Comedy', 'Comedy', 'Drama', 'Drama', 'War', 'Action', 'Drama', 'Romance', 'Comedy', 'Romance', 'Film-Noir', 'Sci-Fi', 'Comedy', 'Comedy', 'Romance', 'Thriller', 'Action', 'Adventure', \"Children's\", 'Sci-Fi', 'Action', 'Adventure', 'Comedy', 'Western', \"Children's\", 'Comedy', \"Children's\", 'Comedy', 'Comedy', \"Children's\", 'Comedy', 'Animation', \"Children's\", 'Comedy', 'Musical', 'Action', 'Sci-Fi', 'Thriller', 'Adventure', 'Drama', 'Western', 'Action', 'Adventure', 'Crime', 'Drama', 'Drama', 'Thriller', 'Animation', \"Children's\", 'Musical', 'Animation', \"Children's\", 'Musical', 'Animation', \"Children's\", 'Comedy', 'Romance', 'Western', 'Crime', 'Drama', 'Thriller', 'Drama', 'War', 'Action', 'Adventure', 'Mystery', 'Action', 'Adventure', 'Fantasy', 'Comedy', 'Sci-Fi', 'Adventure', 'Animation', \"Children's\", 'Comedy', 'Fantasy', 'Comedy', 'Action', 'Adventure', 'Thriller', 'Action', 'Adventure', 'Romance', 'Thriller', 'Comedy', 'Action', 'Sci-Fi', 'Thriller', 'Comedy', 'Drama', 'Drama', 'Action', 'Sci-Fi', 'War', 'Animation', \"Children's\", 'Musical', 'Action', 'Thriller', 'Comedy', 'Fantasy', 'Romance', 'Sci-Fi', 'Action', 'Adventure', 'Thriller', 'Drama', 'Romance', 'Drama', 'Comedy', 'Comedy', 'Musical', 'Drama', 'Thriller', 'Drama', 'Action', 'Adventure', 'Thriller', 'Comedy', 'Drama', 'Romance', 'Action', 'Crime', 'Drama', 'Horror', 'Sci-Fi', 'Thriller', 'Musical', 'Romance', 'Comedy', 'Musical', 'Drama', 'Romance', 'Mystery', 'Thriller', 'Comedy', 'Crime', 'Drama', 'Romance', 'War', 'Film-Noir', 'Mystery', 'Musical', 'Romance', 'Comedy', 'Romance', 'Comedy', 'Romance', 'Adventure', \"Children's\", 'Drama', 'Musical', 'Drama', 'Romance', 'War', 'Drama', 'Drama', 'Mystery', 'Sci-Fi', 'Thriller', 'Drama', 'Comedy', 'Comedy', 'Romance', 'Action', 'Adventure', 'Romance', 'War', 'Drama', 'War', 'Action', 'Drama', 'Western', \"Children's\", 'Comedy', \"Children's\", 'Comedy', 'Western', 'Adventure', \"Children's\", 'Fantasy', \"Children's\", 'Comedy', 'Adventure', \"Children's\", 'Comedy', \"Children's\", 'Drama', 'Adventure', \"Children's\", \"Children's\", 'Comedy', 'Adventure', \"Children's\", 'Adventure', \"Children's\", 'Fantasy', 'Sci-Fi', 'Comedy', \"Children's\", 'Comedy', 'Animation', \"Children's\", 'Musical', 'Drama', \"Children's\", 'Comedy', 'Musical', 'Animation', \"Children's\", 'Musical', 'Musical', 'Action', 'Thriller', 'Comedy', 'Action', 'Adventure', 'Comedy', 'Drama', 'Adventure', \"Children's\", 'Comedy', 'Fantasy', 'Adventure', 'Drama', 'Drama', 'War', 'Comedy', \"Children's\", 'Drama', 'Fantasy', 'Sci-Fi', 'Action', 'Romance', 'Action', 'Romance', 'Drama', 'Comedy', 'Action', 'Adventure', 'Sci-Fi', 'Thriller', 'Comedy', 'Drama', 'Romance', 'War', 'Drama', 'Action', 'Adventure', 'Drama', 'Sci-Fi', 'War', 'Action', 'Adventure', 'Comedy', 'Romance', 'Action', 'Adventure', 'Action', 'Sci-Fi', 'Thriller', 'War', 'Action', 'Western', 'Adventure', 'War', 'Action', 'Animation', \"Children's\", 'Sci-Fi', 'Thriller', 'War', 'Drama', 'Drama', 'War', 'Action', 'Adventure', 'Romance', 'Sci-Fi', 'War', 'Crime', 'Drama', 'Action', 'Horror', 'Sci-Fi', 'Thriller', 'Horror', 'Thriller', 'Action', 'Comedy', 'Musical', 'Action', 'Crime', 'Drama', 'Action', 'Drama', 'War', 'Action', 'Drama', 'War', 'Action', 'Sci-Fi', 'Thriller', 'Action', 'Drama', 'War', 'Drama', 'Romance', 'Drama', 'War', 'Drama', 'Sci-Fi', 'Adventure', 'Comedy', 'War', 'Comedy', 'Adventure', 'Comedy', 'Drama', 'Adventure', 'War', 'Comedy', 'Romance', 'Western', 'Comedy', 'Sci-Fi', 'Adventure', 'Animation', 'Sci-Fi', 'Thriller', 'Animation', \"Children's\", 'Musical', 'Western', 'Action', 'Adventure', 'Drama', 'Comedy', 'Drama', 'Musical', 'Action', 'Adventure', 'Comedy', 'War', 'Action', 'Comedy', 'Western', 'Comedy', 'Romance', 'Documentary', 'Action', 'Horror', 'Sci-Fi', 'Thriller', 'Action', 'Adventure', 'Sci-Fi', 'Drama', 'Thriller', 'Adventure', \"Children's\", 'Comedy', 'Action', 'Thriller', 'Action', 'Adventure', 'Sci-Fi', 'Action', 'Adventure', 'Sci-Fi', 'Action', 'Adventure', 'Sci-Fi', 'Action', 'Adventure', 'Sci-Fi', 'Action', 'Adventure', 'Sci-Fi', 'Action', 'Adventure', 'Sci-Fi', 'Action', 'Adventure', 'Comedy', 'Crime', 'Action', 'Comedy', 'Western', 'Action', 'Comedy', 'Western', 'Comedy', 'Musical', 'Romance', 'Action', 'Horror', 'Action', 'Comedy', 'Sci-Fi', 'War', 'Romance', 'War', 'Animation', 'Comedy', 'Action', 'Romance', 'War', 'Drama', 'Mystery', 'Thriller', 'Comedy', 'Romance', 'Mystery', 'Thriller', 'Comedy', \"Children's\", 'Comedy', 'Action', 'Romance', 'Thriller', 'Comedy', 'Action', 'Drama', 'Thriller', 'War', 'Comedy', 'Comedy', 'Action', 'Sci-Fi', 'Action', 'Adventure', 'Sci-Fi', 'Thriller', 'Action', 'Adventure', 'Thriller', 'Action', 'Adventure', 'Crime', 'Adventure', 'Animation', \"Children's\", 'Comedy', 'Musical', 'Comedy', 'Romance', 'Action', 'Sci-Fi', 'Thriller', 'Action', 'Adventure', 'Comedy', 'Sci-Fi', 'Drama', 'Sci-Fi', 'Action', 'Mystery', 'Romance', 'Thriller', 'Comedy', 'Action', 'Thriller', 'Action', 'Thriller', 'Action', 'Thriller', 'War', 'Crime', 'Film-Noir', 'Mystery', 'Thriller', 'Drama', 'War', 'Mystery', 'Thriller', 'Horror', 'Mystery', 'Thriller', 'Drama', 'Sci-Fi', 'Thriller', 'Comedy', 'Drama', 'Romance', 'Thriller', 'Action', 'Adventure', 'Sci-Fi', 'War', 'Drama', 'Action', 'Thriller', 'Comedy', 'Mystery', 'Action', 'Horror', 'Sci-Fi', 'Drama', 'Drama', \"Children's\", 'Comedy', 'Fantasy', 'Comedy', 'Drama', 'Drama', 'Romance', 'Action', 'Romance', 'Thriller', 'Comedy', 'Drama', 'Action', 'Thriller', 'Action', 'Horror', 'Sci-Fi', 'Action', 'Comedy', 'Musical', 'Comedy', 'Romance', 'Adventure', 'Sci-Fi', 'Thriller', 'Comedy', 'Drama', 'Action', 'Thriller', 'Documentary', 'Action', 'Drama', 'Romance', 'Drama', 'Action', 'Sci-Fi', 'Thriller', 'Action', 'Drama', 'Thriller', 'Action', 'Drama', 'Sci-Fi', 'Thriller', 'Action', 'Sci-Fi', 'Mystery', 'Thriller', 'Adventure', 'Comedy', 'Romance', 'Animation', \"Children's\", 'Mystery', 'Sci-Fi', 'Thriller', 'Comedy', 'Action', 'Adventure', 'Sci-Fi', 'Thriller', 'Animation', \"Children's\", 'Fantasy', 'War', 'Comedy', 'War', 'Adventure', 'Drama', 'Romance', 'War', 'Crime', 'Drama', 'Action', 'Drama', 'Comedy', 'Drama', 'Horror', 'Thriller', 'Comedy', 'Horror', 'Comedy', 'Horror', 'Adventure', \"Children's\", 'Fantasy', 'Action', 'Adventure', 'Romance', 'Comedy', 'Sci-Fi', 'Comedy', 'Sci-Fi', 'Western', \"Children's\", 'Comedy', 'Fantasy', \"Children's\", 'Comedy', 'Western', 'Fantasy', 'Sci-Fi', 'Action', 'Crime', 'Drama', 'Action', 'Drama', 'War', \"Children's\", 'Comedy', 'Adventure', \"Children's\", 'Sci-Fi', 'Adventure', \"Children's\", 'Comedy', \"Children's\", 'Comedy', 'Sci-Fi', 'Adventure', \"Children's\", 'Comedy', 'Fantasy', 'Sci-Fi', 'Action', 'Thriller', \"Children's\", 'Drama', 'Drama', 'Romance', 'War', 'Animation', \"Children's\", 'Comedy', 'Musical', 'Animation', \"Children's\", 'Comedy', 'Musical', 'Romance', \"Children's\", 'Comedy', \"Children's\", 'Musical', 'Animation', \"Children's\", 'Fantasy', 'Musical', 'Adventure', 'Comedy', 'Musical', 'Animation', \"Children's\", 'Adventure', \"Children's\", 'Fantasy', 'Sci-Fi', 'Action', 'Adventure', 'Sci-Fi', 'Animation', \"Children's\", 'Musical', 'Comedy', 'Fantasy', 'Romance', 'Action', 'Adventure', 'Fantasy', 'Sci-Fi', 'Comedy', 'Action', 'Adventure', 'Comedy', 'Action', 'Crime', 'Mystery', 'Thriller', 'Comedy', 'Adventure', 'Musical', 'Comedy', \"Children's\", 'Fantasy', 'Sci-Fi', 'Animation', \"Children's\", 'Comedy', 'Comedy', 'Comedy', \"Children's\", 'Comedy', 'Adventure', \"Children's\", 'Fantasy', 'Comedy', 'Fantasy', 'Action', 'Adventure', 'Fantasy', 'Action', 'Crime', 'Drama', 'Comedy', 'Drama', 'Crime', 'Drama', 'Action', 'Crime', 'Thriller', 'Action', 'Horror', 'Sci-Fi', 'Thriller', 'Drama', 'Romance', 'Animation', \"Children's\", 'Drama', 'Romance', 'Comedy', 'Mystery', 'Sci-Fi', 'Comedy', 'Comedy', 'Drama', 'Action', 'Thriller', 'Comedy', 'Action', 'Thriller', 'Animation', \"Children's\", 'Comedy', 'Action', 'Comedy', 'Comedy', 'Comedy', 'Drama', 'Action', 'Sci-Fi', 'Animation', 'Musical', 'Comedy', 'Romance', 'Adventure', \"Children's\", 'Fantasy', 'Western', 'Action', 'War', 'Action', 'Adventure', 'Comedy', 'Romance', 'Action', 'Adventure', 'Comedy', 'Romance', 'Action', 'Drama', 'Action', 'Drama', 'Action', 'Drama', 'Action', 'Drama', 'Comedy', 'Mystery', 'Action', 'Adventure', 'Mystery', 'Comedy', 'Action', 'Adventure', 'Drama', 'Action', 'Adventure', 'Drama', 'Comedy', 'Comedy', 'Romance', 'Action', 'Drama', 'War', 'Comedy', 'Drama', 'Adventure', \"Children's\", 'Sci-Fi', 'Adventure', 'Comedy', 'Comedy', 'Western', 'Comedy', 'Romance', 'Drama', 'Action', 'Sci-Fi', 'Action', 'Sci-Fi', 'Action', 'Sci-Fi', 'Action', 'Sci-Fi', 'Action', 'Sci-Fi', 'Drama', 'Comedy', 'Comedy', 'Action', 'Sci-Fi', 'Thriller', 'Comedy', 'Comedy', 'Romance', 'Action', 'Crime', 'Action', 'Adventure', 'Horror', 'Thriller', 'Action', 'Adventure', 'Fantasy', 'Sci-Fi', 'Action', 'Adventure', 'Sci-Fi', 'Action', 'Adventure', 'Sci-Fi', 'Action', 'Adventure', 'Sci-Fi', 'Action', 'Adventure', 'Sci-Fi', 'Horror', 'Sci-Fi', 'Comedy', 'Romance', 'Comedy', 'Animation', \"Children's\", 'Action', 'Comedy', 'Sci-Fi', 'Thriller', 'Action', 'Sci-Fi', 'Western', 'Comedy', 'Comedy', 'Horror', 'Comedy', 'Horror', 'Action', 'Adventure', \"Children's\", 'Comedy', 'Action', 'Adventure', 'Comedy', 'Comedy', 'Horror', 'Musical', 'Comedy', 'Animation', \"Children's\", 'Thriller', 'Comedy', 'Comedy', 'Comedy', 'Comedy', 'Comedy', 'Fantasy', 'Comedy', 'Drama', 'Action', 'War', 'Action', 'War', 'Action', 'War', 'Adventure', 'Romance', 'Sci-Fi', 'Thriller', 'Animation', 'Musical', 'Comedy', 'Drama', 'Comedy', 'Comedy', 'Musical', 'Drama', 'War', 'Action', 'Adventure', 'Sci-Fi', 'Thriller', 'Comedy', 'Western', 'Comedy', 'Drama', 'Action', 'War', 'Comedy', 'Musical', 'Action', 'Adventure', 'Drama', 'Romance', 'Action', 'Western', \"Children's\", 'Comedy', 'Action', 'Adventure', 'Fantasy', 'Sci-Fi', 'Action', 'Crime', 'Sci-Fi', 'Adventure', 'Animation', 'Film-Noir', 'Action', 'Action', 'Action', 'Action', 'Drama', 'Comedy', 'Sci-Fi', 'Animation', \"Children's\", 'Drama', 'Action', 'Drama', 'War', 'Adventure', 'Comedy', 'Sci-Fi', 'Horror', 'Romance', 'Action', 'Thriller', 'Drama', 'Comedy', 'Romance', 'Action', 'Drama', 'Animation', \"Children's\", 'Comedy', 'Documentary', 'Musical', 'Drama', 'Thriller', 'Adventure', 'Comedy', 'Sci-Fi', 'Action', 'Comedy', 'Animation', \"Children's\", 'Comedy', 'Comedy', 'Crime', 'Drama', 'Drama', 'Comedy', 'Comedy', 'Comedy', 'Drama', 'Action', 'Thriller', 'Comedy', 'Drama', 'Romance', 'Drama', 'Comedy', 'Drama', 'Romance', 'Adventure', 'Romance', 'Sci-Fi', 'Drama', 'Sci-Fi', 'Comedy', 'Drama', 'Drama', 'Mystery', 'Comedy', \"Children's\", 'Comedy', \"Children's\", 'Comedy', \"Children's\", 'Comedy', 'Action', 'Drama', 'Action', 'Drama', 'Comedy', 'Comedy', 'Drama', 'Action', \"Children's\", 'Fantasy', 'Action', \"Children's\", 'Fantasy', 'Comedy', 'Drama', 'War', 'Comedy', 'Comedy', 'Drama', 'Sci-Fi', 'Horror', 'Mystery', 'Thriller', 'Comedy', 'Drama', 'Adventure', 'Fantasy', 'Romance', 'Animation', \"Children's\", 'Adventure', 'Fantasy', 'Horror', 'Comedy', 'Action', 'Sci-Fi', 'Thriller', 'Comedy', 'Action', 'Thriller', 'Action', 'Drama', 'Comedy', 'Drama', 'Comedy', 'Comedy', 'Romance', 'Animation', \"Children's\", 'Action', 'Thriller', 'Action', 'Comedy', 'Action', 'Action', 'Action', 'Romance', 'Sci-Fi', 'Action', 'Action', 'Drama', 'War', 'Comedy', 'Western', 'Musical', 'Western', 'Comedy', 'Adventure', 'Drama', 'Romance', 'Sci-Fi', 'Adventure', 'Animation', 'Sci-Fi', 'Action', 'Drama', 'War', 'Action', 'Crime', 'Thriller', 'Action', 'Sci-Fi', 'Thriller', 'Comedy', 'Comedy', 'Comedy', 'Action', 'Adventure', 'Fantasy', 'Comedy', 'Drama', 'Adventure', 'Sci-Fi', 'Comedy', 'Animation', \"Children's\", 'Comedy', 'Animation', \"Children's\", 'Action', 'Comedy', 'Drama', 'Action', 'Thriller', 'Action', 'Thriller', 'Action', 'Adventure', 'Crime', 'Drama', 'Action', 'Crime', 'Sci-Fi', 'Action', 'Thriller', 'Crime', 'Drama', 'Action', 'Adventure', 'Thriller', 'Animation', \"Children's\", 'Musical', 'Action', 'Thriller', 'Action', 'Romance', 'Thriller', 'Action', 'Adventure', 'Comedy', 'Romance', 'Action', 'Thriller', 'Action', 'Thriller', 'Action', 'Adventure', 'Sci-Fi', 'Action', 'Thriller', 'Drama', 'War', 'Documentary', 'Action', 'Sci-Fi', 'Thriller', 'Action', 'Adventure', 'Crime', 'Drama', 'Animation', \"Children's\", 'Musical', 'Animation', \"Children's\", 'Musical', 'Action', 'Adventure', 'Mystery', 'Animation', \"Children's\", 'Musical', 'Action', 'Adventure', 'Thriller', 'Animation', 'Sci-Fi', 'Action', 'Sci-Fi', 'War', 'Animation', \"Children's\", 'Musical', 'Action', 'Crime', 'Drama', 'Action', 'Thriller', 'Drama', 'Action', 'Romance', 'Animation', 'Comedy', 'Drama', 'Action', 'Adventure', 'Drama', 'Sci-Fi', 'War', 'Action', 'Sci-Fi', 'Thriller', 'War', 'Adventure', 'War', 'Action', 'Adventure', 'Romance', 'Sci-Fi', 'War', 'Action', 'Adventure', 'Comedy', 'Horror', 'Sci-Fi', 'Action', 'Drama', 'War', 'Film-Noir', 'Mystery', 'Thriller', 'Film-Noir', 'Thriller', 'Adventure', 'Animation', 'Sci-Fi', 'Thriller', 'Action', 'Adventure', 'Sci-Fi', 'Action', 'Thriller', 'Action', 'Adventure', 'Sci-Fi', 'Action', 'Romance', 'War', 'Action', 'Sci-Fi', 'Drama', 'Romance', 'Adventure', 'Animation', \"Children's\", 'Comedy', 'Musical', 'Action', 'Adventure', 'Comedy', 'Sci-Fi', 'Drama', 'Sci-Fi', 'Action', 'Adventure', 'Sci-Fi', 'War', 'Animation', \"Children's\", 'Drama', 'Horror', 'Action', 'Adventure', 'Romance', 'Action', 'Drama', 'War', 'Action', 'Thriller', 'Animation', \"Children's\", 'Comedy', 'Musical', 'Romance', 'Action', 'Adventure', 'Fantasy', 'Sci-Fi', 'Action', 'Crime', 'Drama', 'Action', 'Crime', 'Thriller', 'Animation', \"Children's\", 'Mystery', 'Sci-Fi', 'Action', 'Adventure', 'Drama', 'Thriller', 'Action', 'Thriller', 'Animation', \"Children's\", 'Comedy', 'Animation', 'Musical', 'Action', 'Sci-Fi', 'Thriller', 'Action', 'Adventure', 'Horror', 'Thriller', 'Action', 'Adventure', 'Fantasy', 'Sci-Fi', 'Action', 'Adventure', 'Sci-Fi', 'Action', 'Adventure', 'Sci-Fi', 'Animation', \"Children's\", 'Action', 'Crime', 'Romance', 'Animation', 'Comedy', 'Animation', \"Children's\", 'Action', 'Thriller', 'Comedy', 'Drama', 'Drama', 'Action', 'Adventure', 'Sci-Fi', 'Thriller', 'Action', 'Action', 'Crime', 'Sci-Fi', 'Action', 'Adventure', 'Animation', 'Action', 'Thriller', 'Thriller', 'Animation', \"Children's\", 'Comedy', 'Animation', \"Children's\", 'Action', 'Crime', 'Action', 'Thriller', 'Comedy', 'Crime', 'Drama', 'Action', \"Children's\", 'Fantasy', 'Action', 'Romance', 'Action', 'Drama', 'Animation', \"Children's\", 'Action', 'Sci-Fi', 'Action', 'Sci-Fi', 'Crime', 'Drama', 'Action', 'Comedy', 'Crime', 'Drama', 'Animation', \"Children's\", 'Comedy', 'Action', 'Adventure', 'Thriller', 'Comedy', 'Horror', 'Action', 'Sci-Fi', 'Animation', \"Children's\", 'Comedy', 'Comedy', 'Drama', 'Romance', \"Children's\", 'Comedy', 'Drama', 'Comedy', 'Romance', 'Drama', 'Comedy', 'Animation', \"Children's\", 'Comedy', 'Musical', 'Comedy', 'Horror', 'Comedy', 'Romance', 'Horror', 'Comedy', 'Comedy', 'Crime', 'Film-Noir', 'Mystery', 'Thriller', 'Drama', 'Romance', 'Comedy', 'Drama', 'Romance', 'Comedy', 'Animation', \"Children's\", 'Comedy', 'Comedy', 'Romance', 'Comedy', 'Comedy', 'Comedy', 'Drama', 'Animation', \"Children's\", 'Comedy', 'Animation', \"Children's\", 'Musical', 'Comedy', 'Drama', 'Comedy', 'Drama', 'Thriller', 'Thriller', 'Action', 'Sci-Fi', 'Thriller', 'Drama', 'Thriller', 'Drama', 'Romance', 'Comedy', 'Drama', 'Drama', 'Comedy', 'Comedy', 'Comedy', 'Horror', 'Action', 'Sci-Fi', 'Comedy', 'Sci-Fi', 'Thriller', 'Comedy', 'Drama', 'Animation', \"Children's\", 'Comedy', 'Action', 'Crime', 'Thriller', 'Drama', 'Romance', \"Children's\", 'Comedy', 'Drama', 'Drama', 'Comedy', 'Romance', 'Crime', 'Thriller', 'Action', 'Drama', 'War', 'Drama', 'Drama', 'Romance', 'War', 'Drama', 'Thriller', 'War', 'Documentary', 'Crime', 'Drama', 'Drama', 'Animation', \"Children's\", 'Musical', 'Comedy', 'Romance', 'Action', 'Thriller', 'Action', 'Thriller', 'Comedy', 'Drama', 'War', 'Animation', \"Children's\", 'Comedy', 'Musical', 'Drama', 'Thriller', 'Crime', 'Drama', 'Thriller', 'Drama', 'Thriller', 'Drama', 'Drama', 'Romance', 'Comedy', 'Drama', 'Crime', 'Thriller', 'Drama', 'Drama', 'Romance', 'War', 'Crime', 'Drama', 'Drama', 'Thriller', 'Action', 'Romance', 'War', 'Comedy', 'Crime', 'Crime', 'Film-Noir', 'Mystery', 'Thriller', 'Drama', 'Comedy', 'Drama', 'Crime', 'Drama', 'Comedy', 'Thriller', 'Comedy', 'Comedy', 'Action', 'Drama', 'War', 'Comedy', 'Drama', 'Comedy', 'Comedy', 'Drama', 'Animation', \"Children's\", 'Comedy', 'Comedy', 'Comedy', 'Comedy', 'Romance', 'Action', 'Drama', 'War', 'Comedy', 'Crime', 'Thriller', 'Action', 'Sci-Fi', 'Thriller', 'Crime', 'Comedy', 'Thriller', 'Comedy', 'Comedy', 'Drama', 'Drama', 'War', 'Comedy', 'Crime', 'Drama', 'Comedy', 'Drama', 'Animation', \"Children's\", 'Comedy', 'Drama', 'Thriller', 'Comedy', 'Animation', \"Children's\", 'Comedy', 'Adventure', \"Children's\", 'Fantasy', 'Action', 'Adventure', 'Thriller', 'Action', 'Comedy', 'Drama', 'Adventure', \"Children's\", 'Fantasy', 'Action', 'Adventure', 'Crime', 'Drama', 'Mystery', 'Adventure', \"Children's\", 'Crime', 'Film-Noir', 'Mystery', 'Thriller', 'Comedy', 'Comedy', 'Drama', 'Action', 'Adventure', 'Sci-Fi', 'Action', 'Adventure', 'Sci-Fi', 'Drama', 'Mystery', 'Thriller', 'Comedy', 'Romance', 'War', 'Comedy', 'Romance', 'Action', 'Comedy', 'Western', 'Action', 'Adventure', 'Comedy', 'Romance', 'Comedy', 'Mystery', 'Romance', 'Adventure', 'Drama', 'Western', 'Action', 'Adventure', 'Mystery', 'Action', 'Adventure', 'Comedy', 'War', 'Action', 'Adventure', 'Romance', 'Thriller', 'Adventure', \"Children's\", 'Comedy', 'Mystery', 'Thriller', 'Comedy', 'Action', 'Adventure', 'Sci-Fi', 'Action', 'Adventure', 'Sci-Fi', 'Mystery', 'Thriller', 'Mystery', 'Thriller', 'Comedy', 'Crime', 'Action', 'Adventure', 'Sci-Fi', 'Thriller', 'Action', 'Adventure', 'Thriller', 'Action', 'Adventure', 'Comedy', 'Sci-Fi', 'Crime', 'Drama', 'Mystery', 'Action', 'Mystery', 'Romance', 'Thriller', 'Crime', 'Film-Noir', 'Mystery', 'Thriller', 'Mystery', 'Thriller', 'Comedy', 'Crime', 'Horror', 'Mystery', 'Thriller', 'Action', 'Adventure', 'Sci-Fi', 'War', 'Comedy', 'Crime', 'Drama', 'Mystery', 'Comedy', 'Action', 'Mystery', 'Thriller', 'Mystery', 'Thriller', 'Adventure', 'Comedy', 'Romance', 'Action', 'Crime', 'Drama', 'Adventure', \"Children's\", 'Drama', 'Romance', 'Adventure', \"Children's\", 'Sci-Fi', 'Action', 'Adventure', 'Sci-Fi', 'Action', 'Adventure', 'Comedy', 'Animation', \"Children's\", 'Comedy', 'Comedy', 'Comedy', 'Romance', 'Mystery', 'Action', 'Adventure', 'Horror', 'Thriller', 'Action', 'Adventure', 'Fantasy', 'Sci-Fi', 'Comedy', 'Comedy', 'Drama', 'Mystery', 'Romance', 'Thriller', 'War', 'Adventure', 'Comedy', 'Sci-Fi', 'Drama', 'Mystery', 'Thriller', 'Adventure', 'Romance', 'Sci-Fi', 'Drama', 'Mystery', 'Horror', 'Mystery', 'Thriller', 'Adventure', 'Fantasy', 'Comedy', 'Animation', \"Children's\", 'Comedy', 'Action', \"Children's\", 'Comedy', 'Drama', 'Crime', 'Thriller', 'Drama', 'Action', 'Adventure', 'Fantasy', 'Sci-Fi', 'Comedy', 'Romance', 'War', 'Action', 'Romance', 'Thriller', 'Action', 'Adventure', 'Comedy', 'Romance', 'Action', 'Adventure', 'Crime', 'Drama', 'Thriller', 'Action', 'Adventure', 'Sci-Fi', 'Comedy', 'Drama', 'Comedy', 'Romance', 'Thriller', 'Animation', \"Children's\", 'Comedy', 'Musical', 'Action', 'Adventure', 'Crime', 'Drama', 'Animation', \"Children's\", 'Musical', 'Comedy', 'Romance', 'Crime', 'Drama', 'Thriller', 'Action', 'Adventure', 'Mystery', 'Action', 'Adventure', 'Thriller', 'Action', 'Adventure', 'Romance', 'Thriller', 'Action', 'Sci-Fi', 'War', 'Drama', 'Thriller', 'Drama', 'Action', 'Adventure', 'Romance', 'War', 'Action', 'Thriller', 'Drama', 'War', 'Drama', 'Romance', 'War', \"Children's\", 'Drama', 'Fantasy', 'Sci-Fi', 'Action', 'Romance', 'Action', 'Romance', 'Drama', 'Action', 'Adventure', 'Drama', 'Sci-Fi', 'War', 'Action', 'Adventure', 'Action', 'Adventure', 'Romance', 'Sci-Fi', 'War', 'Action', 'Comedy', 'Musical', 'Comedy', 'Romance', 'Drama', 'Drama', 'War', 'Adventure', 'Comedy', 'Drama', 'Comedy', 'Sci-Fi', 'Action', 'Adventure', 'Comedy', 'War', 'Drama', 'Musical', 'War', 'Thriller', 'Action', 'Adventure', 'Sci-Fi', 'Action', 'Adventure', 'Sci-Fi', 'Action', 'Horror', 'Action', 'Thriller', 'Action', 'Adventure', 'Thriller', 'Action', 'Adventure', 'Crime', 'Action', 'Sci-Fi', 'Thriller', 'Action', 'Adventure', 'Comedy', 'Sci-Fi', 'Action', 'Drama', 'War', 'Action', 'Thriller', 'Action', 'Thriller', 'Drama', 'Drama', 'Romance', 'Comedy', 'Drama', 'Documentary', 'Action', 'Adventure', 'Sci-Fi', 'Thriller', 'Comedy', 'Action', 'Drama', 'Comedy', 'Drama', 'Action', 'Comedy', 'Crime', 'Drama', 'Action', 'Drama', 'War', 'Action', 'Thriller', 'Adventure', 'Comedy', 'Musical', 'Action', 'Adventure', 'Adventure', 'Comedy', 'Action', 'Crime', 'Drama', 'Drama', 'Crime', 'Drama', 'Action', 'Thriller', 'Action', 'Adventure', 'Comedy', 'Romance', 'Action', 'Drama', 'Action', 'Adventure', 'Drama', 'Action', 'Adventure', 'Drama', 'Comedy', 'Drama', 'Adventure', \"Children's\", 'Sci-Fi', 'Adventure', 'Comedy', 'Adventure', 'Comedy', 'Action', 'Sci-Fi', 'Thriller', 'Action', 'Adventure', 'Fantasy', 'Sci-Fi', 'Action', 'Comedy', 'Sci-Fi', 'Thriller', 'Drama', 'Thriller', 'Action', 'Thriller', 'Thriller', 'Action', 'War', 'Comedy', 'Drama', 'Adventure', 'Drama', 'Romance', 'Adventure', 'Animation', 'Film-Noir', 'Action', 'Thriller', 'War', 'Action', 'Drama', 'Animation', \"Children's\", 'Comedy', 'Drama', 'Thriller', \"Children's\", 'Comedy', 'Adventure', 'Comedy', 'Sci-Fi', 'Drama', 'Comedy', 'Drama', 'Action', 'Drama', 'Mystery', 'Drama', 'Thriller', 'Comedy', 'Drama', 'War', 'Comedy', 'Comedy', 'Action', 'Thriller', 'Action', 'Thriller', 'Action', 'Romance', 'Sci-Fi', 'Action', 'Sci-Fi', 'Action', 'Crime', 'Action', 'Drama', 'War', 'Action', 'Adventure', 'Thriller', 'Comedy', 'Drama', 'Comedy', 'Animation', \"Children's\", 'Comedy', 'Drama', 'Romance', 'Romance', 'Action', 'Adventure', 'Comedy', 'Comedy', 'Mystery', 'Comedy', 'Drama', 'Animation', 'Comedy', 'Thriller', 'Comedy', 'Crime', 'Drama', 'Romance', 'War', 'Adventure', \"Children's\", 'Comedy', 'Fantasy', 'Comedy', 'Comedy', 'Action', 'Adventure', 'Comedy', 'Romance', 'Western', 'Comedy', 'Romance', 'Comedy', 'Drama', 'Comedy', 'War', 'Comedy', 'Romance', 'Comedy', 'Sci-Fi', 'Comedy', 'Horror', 'Action', 'Comedy', 'Western', 'Comedy', 'Romance', 'Comedy', 'Crime', 'Comedy', 'Drama', 'Romance', 'Comedy', 'Drama', 'Action', 'Crime', 'Romance', 'Comedy', 'Musical', 'Musical', 'Romance', 'Comedy', 'Comedy', 'Drama', 'Comedy', 'Documentary', 'Animation', \"Children's\", 'Comedy', 'Musical', 'Comedy', 'Drama', 'Romance', 'Comedy', 'Musical', 'Comedy', 'Drama', 'Animation', \"Children's\", 'Comedy', 'Comedy', 'Romance', 'Comedy', 'Horror', 'Musical', 'Sci-Fi', 'Comedy', 'Action', 'Crime', 'Romance', 'Comedy', 'Comedy', 'Drama', 'Thriller', 'Comedy', 'Comedy', 'Fantasy', 'Comedy', 'Drama', 'Comedy', 'Drama', 'Comedy', 'Musical', 'Drama', 'Comedy', 'Comedy', 'Comedy', 'Drama', 'Western', 'Comedy', 'Drama', 'Drama', 'Drama', \"Children's\", 'Comedy', 'Comedy', 'Drama', 'Western', 'Comedy', 'Comedy', 'Romance', 'Comedy', 'Drama', 'Drama', 'Action', 'Drama', 'Comedy', 'Comedy', 'Western', 'Animation', \"Children's\", 'Comedy', 'Comedy', 'Horror', 'Action', 'Sci-Fi', 'Sci-Fi', 'Thriller', 'Animation', \"Children's\", 'Comedy', 'Adventure', \"Children's\", 'Action', 'Drama', 'Sci-Fi', \"Children's\", 'Comedy', 'Drama', 'Comedy', 'Romance', 'Action', 'Adventure', 'Crime', 'Thriller', 'Sci-Fi', 'Thriller', 'Action', 'Comedy', 'Crime', 'Horror', 'Thriller', 'Action', 'Thriller', 'Comedy', 'Action', 'Drama', 'War', 'Action', 'Adventure', 'Crime', 'Action', 'Adventure', 'Comedy', 'Crime', 'Action', 'Thriller', 'Action', 'Adventure', 'Drama', 'Romance', 'Action', 'Sci-Fi', 'Thriller', 'Action', 'Adventure', 'Sci-Fi', 'Comedy', 'Sci-Fi', 'Thriller', 'Horror', 'Sci-Fi', 'Action', 'Crime', 'Sci-Fi', 'Action', 'Adventure', 'Comedy', 'Thriller', 'Drama', 'Horror', 'Action', 'Adventure', 'Sci-Fi', 'Action', 'Adventure', 'Sci-Fi', 'Action', 'Romance', 'Thriller', 'Comedy', 'Romance', 'War', 'Action', 'Romance', 'Thriller', 'Action', 'Sci-Fi', 'Action', 'Adventure', 'Comedy', 'Romance', 'Action', 'Sci-Fi', 'Action', 'Adventure', 'Crime', 'Comedy', 'Sci-Fi', 'Action', 'Sci-Fi', 'Action', 'Thriller', 'Action', 'Adventure', 'Crime', 'Thriller', 'Action', 'Comedy', 'War', 'Action', 'Adventure', 'Sci-Fi', 'Action', 'Comedy', 'Action', 'Drama', 'Sci-Fi', 'Thriller', 'Action', 'Adventure', \"Children's\", 'Sci-Fi', 'Action', 'Sci-Fi', 'Thriller', 'Adventure', 'Drama', 'Western', 'Action', 'Adventure', 'Crime', 'Drama', 'Comedy', 'Romance', 'Action', 'Adventure', 'Mystery', 'Action', 'Adventure', 'Fantasy', 'Comedy', 'Comedy', 'Sci-Fi', 'Action', 'Sci-Fi', 'Thriller', 'Action', 'Adventure', 'Animation', 'Action', 'Adventure', 'Thriller', 'Action', 'Sci-Fi', 'War', 'Comedy', 'Action', 'Thriller', 'Action', 'Adventure', 'Thriller', 'Action', 'Adventure', 'Sci-Fi', 'Thriller', 'Action', 'Thriller', 'Action', 'Adventure', 'Thriller', 'Action', 'Thriller', 'Adventure', \"Children's\", \"Children's\", 'Comedy', 'Musical', 'Action', 'Thriller', 'Action', 'Sci-Fi', 'Thriller', 'Comedy', 'Animation', 'Comedy', 'Comedy', 'Sci-Fi', 'Action', 'Adventure', 'Drama', 'Sci-Fi', 'War', 'Action', 'Adventure', 'Comedy', 'Romance', 'Action', 'Adventure', 'Action', 'Sci-Fi', 'Thriller', 'War', 'Action', 'Animation', \"Children's\", 'Sci-Fi', 'Thriller', 'War', 'Action', 'Adventure', 'Romance', 'Sci-Fi', 'War', 'Action', 'Adventure', 'Comedy', 'Horror', 'Sci-Fi', 'Action', 'Drama', 'War', 'Action', 'Sci-Fi', 'Thriller', 'Action', 'Adventure', 'Comedy', 'Horror', 'Comedy', 'Romance', 'Comedy', 'Sci-Fi', 'Action', 'Adventure', 'Action', 'Adventure', 'Comedy', 'Drama', 'Musical', 'War', 'Action', 'Horror', 'Sci-Fi', 'Thriller', 'Action', 'Adventure', 'Sci-Fi', 'Action', 'Thriller', 'Action', 'Adventure', 'Sci-Fi', 'Action', 'Adventure', 'Sci-Fi', 'Action', 'Adventure', 'Sci-Fi', 'Action', 'Adventure', 'Sci-Fi', 'Action', 'Adventure', 'Sci-Fi', 'Action', 'Adventure', 'Sci-Fi', 'Action', 'Adventure', 'Comedy', 'Crime', 'Comedy', 'Action', 'Action', 'Comedy', 'Action', 'Romance', 'Thriller', 'Comedy', 'Action', 'Sci-Fi', 'Action', 'Adventure', 'Sci-Fi', 'Thriller', 'Action', 'Adventure', 'Thriller', 'Action', 'Romance', 'Thriller', 'Action', 'Adventure', 'Crime', 'Action', 'Sci-Fi', 'Thriller', 'Action', 'Adventure', 'Comedy', 'Sci-Fi', 'Drama', 'Sci-Fi', 'Action', 'Adventure', 'Action', 'Mystery', 'Sci-Fi', 'Thriller', 'Action', 'Adventure', 'Sci-Fi', 'Thriller', 'Action', 'Mystery', 'Romance', 'Thriller', 'Action', 'Adventure', 'Action', 'Thriller', 'Action', 'Thriller', 'Adventure', 'Thriller', 'Comedy', 'Action', 'Adventure', 'Sci-Fi', 'War', 'Action', 'Horror', 'Sci-Fi', 'Action', 'Romance', 'Thriller', 'Comedy', 'Crime', 'Mystery', 'Thriller', 'Action', 'Thriller', 'Comedy', 'Drama', 'Action', 'Sci-Fi', 'Thriller', 'Action', 'Comedy', 'Action', 'Sci-Fi', 'Comedy', 'Mystery', 'Sci-Fi', 'Thriller', 'Action', 'Adventure', 'Sci-Fi', 'Thriller', 'Action', 'Comedy', 'Crime', 'Drama', 'Sci-Fi', 'Thriller', 'Comedy', 'Drama', 'Comedy', 'Drama', 'Horror', 'Thriller', 'Horror', 'Action', 'Comedy', 'Crime', 'Drama', 'Action', 'Comedy', 'Crime', 'Drama', 'Action', 'Comedy', 'Crime', 'Drama', 'Comedy', 'Horror', 'Comedy', 'Sci-Fi', 'Comedy', 'Sci-Fi', 'Western', 'Action', 'Drama', 'War', 'Adventure', \"Children's\", 'Sci-Fi', \"Children's\", 'Comedy', 'Sci-Fi', 'Adventure', \"Children's\", 'Comedy', 'Fantasy', 'Sci-Fi', 'Animation', \"Children's\", 'Comedy', 'Musical', 'Romance', 'Adventure', 'Comedy', 'Musical', 'Action', 'Adventure', 'Sci-Fi', 'Animation', \"Children's\", 'Musical', 'Action', 'Adventure', 'Fantasy', 'Sci-Fi', 'Action', 'Adventure', 'Action', 'Crime', 'Mystery', 'Thriller', 'Comedy', 'Comedy', 'Action', 'Adventure', 'Horror', 'Action', 'Comedy', 'Comedy', 'Fantasy', 'Action', 'Adventure', 'Fantasy', 'Action', 'Action', 'Thriller', 'Drama', 'Thriller', 'Comedy', 'Action', 'Adventure', 'Sci-Fi', 'Thriller', 'War', 'Action', 'Thriller', 'Action', 'Thriller', 'Animation', \"Children's\", 'Comedy', 'Action', 'Adventure', 'Drama', 'Comedy', 'Comedy', 'Action', 'Sci-Fi', 'Adventure', \"Children's\", 'Fantasy', 'Action', 'War', 'Action', 'Action', 'Drama', 'Action', 'Drama', 'Horror', 'Sci-Fi', 'Adventure', 'Comedy', 'Comedy', 'Western', 'Action', 'Thriller', 'Action', 'Sci-Fi', 'Thriller', 'Comedy', 'Romance', 'Comedy', 'Action', 'Adventure', 'Horror', 'Thriller', 'Action', 'Action', 'Adventure', 'Fantasy', 'Sci-Fi', 'Comedy', 'Horror', 'Musical', 'Sci-Fi', 'Action', 'Crime', 'Romance', 'Action', 'Comedy', 'Sci-Fi', 'Thriller', 'Animation', 'Comedy', 'Action', 'Sci-Fi', 'Western', 'Comedy', 'Comedy', 'Horror', 'Comedy', 'Horror', 'Action', 'Adventure', 'Comedy', 'Comedy', 'Comedy', 'Comedy', 'Comedy', 'Action', 'Sci-Fi', 'Action', 'Sci-Fi', 'Action', 'Horror', 'Thriller', 'Comedy', 'Drama', 'Comedy', 'Horror', 'Action', 'Adventure', 'Comedy', 'Action', 'Adventure', 'Sci-Fi', 'Thriller', 'Comedy', 'Action', 'Crime', 'Sci-Fi', 'Action', 'Crime', 'Sci-Fi', 'Comedy', 'Comedy', 'Sci-Fi', 'Comedy', 'Comedy', 'Action', 'Drama', 'Action', 'Thriller', 'Adventure', 'Comedy', 'Sci-Fi', 'Action', 'Comedy', 'Comedy', 'Comedy', 'Action', 'Thriller', 'Drama', 'Thriller', 'Action', \"Children's\", 'Fantasy', 'Action', \"Children's\", 'Fantasy', 'Action', \"Children's\", 'Fantasy', 'Action', 'Comedy', 'Drama', 'War', 'Comedy', 'Thriller', 'Drama', 'Thriller', 'Action', 'Sci-Fi', 'Thriller', 'Comedy', 'Action', 'Drama', 'Comedy', 'Drama', 'Comedy', 'Comedy', 'Action', 'Action', 'Sci-Fi', 'Action', 'Sci-Fi', 'Action', 'Crime', 'Animation', \"Children's\", 'Comedy', 'Action', 'Drama', 'War', 'Action', 'War', 'Action', 'War', 'Comedy', 'Horror', 'Action', 'Sci-Fi', 'Comedy', 'Sci-Fi', 'Thriller', 'Action', 'Adventure', 'Sci-Fi', 'Comedy', 'Action', 'Adventure', 'Fantasy', 'Drama', 'Animation', \"Children's\", 'Comedy', 'Adventure', \"Children's\", 'Fantasy', 'Adventure', \"Children's\", 'Animation', \"Children's\", 'Comedy', \"Children's\", 'Comedy', 'Drama', 'Animation', \"Children's\", 'Musical', 'Romance', 'Adventure', \"Children's\", 'Fantasy', \"Children's\", 'Comedy', 'Adventure', \"Children's\", 'Comedy', 'Musical', 'Adventure', \"Children's\", 'Adventure', \"Children's\", 'Adventure', \"Children's\", 'Drama', 'Action', \"Children's\", 'Comedy', 'Adventure', \"Children's\", 'Animation', \"Children's\", 'Comedy', 'Romance', 'Adventure', \"Children's\", 'Comedy', 'Fantasy', 'Romance', \"Children's\", 'Drama', \"Children's\", 'Comedy', 'Fantasy', \"Children's\", 'Comedy', 'Adventure', \"Children's\", 'Romance', 'Animation', \"Children's\", 'Musical', 'Adventure', \"Children's\", 'Drama', 'Action', 'Adventure', 'Sci-Fi', 'Comedy', 'Action', \"Children's\", \"Children's\", 'Drama', 'Action', 'Adventure', \"Children's\", 'Sci-Fi', \"Children's\", 'Comedy', 'Musical', 'Action', 'Adventure', 'Animation', \"Children's\", 'Fantasy', \"Children's\", 'Comedy', 'Adventure', \"Children's\", \"Children's\", 'Comedy', 'Animation', \"Children's\", 'Comedy', 'Musical', 'Animation', \"Children's\", 'Musical', 'Animation', \"Children's\", 'Musical', 'Animation', \"Children's\", 'Adventure', \"Children's\", 'Animation', \"Children's\", 'Animation', \"Children's\", 'Musical', 'Comedy', 'Animation', \"Children's\", 'Musical', 'Comedy', 'Sci-Fi', 'Adventure', 'Animation', \"Children's\", 'Comedy', 'Fantasy', 'Comedy', 'Animation', \"Children's\", 'Adventure', \"Children's\", 'Animation', 'Comedy', 'Thriller', 'Action', 'Sci-Fi', 'War', 'Animation', \"Children's\", 'Musical', 'Comedy', 'Fantasy', 'Romance', 'Sci-Fi', \"Children's\", 'Comedy', \"Children's\", 'Comedy', \"Children's\", 'Drama', 'Fantasy', 'Adventure', \"Children's\", 'Drama', 'Musical', 'Drama', 'Mystery', 'Sci-Fi', 'Thriller', 'Adventure', \"Children's\", \"Children's\", 'Drama', 'Adventure', \"Children's\", \"Children's\", 'Comedy', 'Mystery', \"Children's\", 'Comedy', 'Animation', \"Children's\", 'Musical', 'Animation', \"Children's\", \"Children's\", 'Comedy', 'Musical', 'Animation', \"Children's\", 'Musical', 'Adventure', 'Animation', \"Children's\", 'Musical', 'Animation', \"Children's\", 'Musical', 'Animation', \"Children's\", 'Action', 'Sci-Fi', 'Thriller', 'Animation', \"Children's\", 'Comedy', 'Adventure', \"Children's\", 'Comedy', 'Fantasy', \"Children's\", 'Drama', 'Fantasy', 'Sci-Fi', 'Animation', 'Comedy', 'Action', 'Adventure', 'Drama', 'Sci-Fi', 'War', 'Action', 'Adventure', 'Romance', 'Sci-Fi', 'War', 'Animation', 'Comedy', 'Animation', \"Children's\", 'Musical', 'Adventure', \"Children's\", 'Comedy', \"Children's\", 'Comedy', 'Action', 'Comedy', 'Sci-Fi', 'War', 'Animation', 'Comedy', \"Children's\", 'Comedy', 'Mystery', \"Children's\", 'Comedy', 'Comedy', 'Animation', \"Children's\", 'Musical', 'Action', 'Adventure', \"Children's\", 'Comedy', 'Action', 'Adventure', 'Sci-Fi', 'Thriller', 'Adventure', \"Children's\", 'Drama', 'Adventure', 'Animation', \"Children's\", 'Comedy', 'Musical', 'Action', 'Adventure', 'Comedy', 'Sci-Fi', 'Adventure', \"Children's\", \"Children's\", 'Comedy', \"Children's\", 'Comedy', \"Children's\", 'Drama', 'Fantasy', 'Animation', \"Children's\", 'Musical', \"Children's\", 'Comedy', 'Fantasy', \"Children's\", 'Comedy', \"Children's\", 'Comedy', 'Adventure', \"Children's\", 'Comedy', 'Action', 'Sci-Fi', 'Thriller', 'Adventure', \"Children's\", 'Comedy', 'Fantasy', 'Animation', \"Children's\", 'Comedy', \"Children's\", 'Comedy', 'Animation', \"Children's\", 'Fantasy', 'War', 'Comedy', 'Adventure', \"Children's\", 'Fantasy', 'Adventure', \"Children's\", 'Fantasy', 'Comedy', 'Sci-Fi', 'Western', 'Animation', \"Children's\", \"Children's\", 'Comedy', \"Children's\", 'Comedy', \"Children's\", 'Comedy', 'Sci-Fi', 'Adventure', \"Children's\", 'Comedy', 'Fantasy', 'Sci-Fi', 'Adventure', \"Children's\", \"Children's\", 'Drama', 'Animation', \"Children's\", 'Comedy', 'Musical', 'Animation', \"Children's\", 'Comedy', 'Musical', 'Romance', 'Animation', \"Children's\", 'Comedy', 'Musical', 'Romance', \"Children's\", 'Comedy', \"Children's\", 'Musical', 'Animation', \"Children's\", 'Animation', \"Children's\", 'Fantasy', 'Musical', 'Animation', \"Children's\", 'Animation', \"Children's\", 'Animation', \"Children's\", 'Musical', 'Animation', \"Children's\", 'Musical', 'Animation', \"Children's\", 'Comedy', 'Animation', \"Children's\", 'Animation', \"Children's\", 'Comedy', 'Animation', \"Children's\", 'Comedy', \"Children's\", 'Comedy', 'Adventure', \"Children's\", 'Fantasy', 'Adventure', \"Children's\", 'Fantasy', 'Animation', \"Children's\", 'Comedy', 'Animation', \"Children's\", 'Comedy', 'Animation', \"Children's\", 'Comedy', \"Children's\", 'Comedy', 'Comedy', 'Drama', 'Animation', 'Musical', 'Adventure', \"Children's\", 'Drama', 'Adventure', \"Children's\", 'Drama', 'Comedy', 'Drama', 'Comedy', 'Romance', 'Comedy', 'Animation', \"Children's\", 'Action', 'Sci-Fi', 'Thriller', 'Comedy', 'Romance', 'Comedy', 'Romance', 'Action', 'Adventure', 'Fantasy', 'Sci-Fi', 'Comedy', 'Animation', \"Children's\", 'Comedy', \"Children's\", 'Comedy', 'Action', 'Adventure', \"Children's\", 'Comedy', 'Animation', \"Children's\", \"Children's\", 'Comedy', \"Children's\", 'Adventure', 'Animation', \"Children's\", \"Children's\", 'Comedy', 'Animation', \"Children's\", 'Animation', \"Children's\", 'Animation', \"Children's\", 'Comedy', \"Children's\", 'Comedy', 'Animation', \"Children's\", 'Musical', 'Adventure', 'Comedy', 'Sci-Fi', 'Animation', \"Children's\", 'Drama', 'Action', \"Children's\", 'Fantasy', 'Animation', \"Children's\", 'Animation', \"Children's\", 'Comedy', 'Animation', \"Children's\", 'Comedy', 'Drama', 'Romance', 'Crime', 'Thriller', 'Crime', 'Thriller', 'Drama', 'Romance', 'Crime', 'Drama', 'Romance', 'Thriller', 'Crime', 'Drama', 'Drama', 'Drama', 'Comedy', 'Drama', 'Comedy', 'Action', 'Thriller', 'Comedy', 'Romance', 'Drama', 'Drama', 'Drama', 'Thriller', 'Crime', 'Drama', 'Thriller', 'Animation', 'Animation', 'Comedy', 'Thriller', 'Drama', 'Drama', 'Mystery', 'Drama', 'Crime', 'Thriller', 'Drama', 'Action', 'Romance', 'Animation', 'Comedy', 'Crime', 'Drama', 'Animation', 'Comedy', 'Action', 'Drama', 'War', 'Thriller', 'Drama', 'Thriller', 'Drama', 'Romance', 'Drama', 'Comedy', 'Comedy', 'Drama', 'Sci-Fi', 'Crime', 'Film-Noir', 'Mystery', 'Thriller', 'Drama', 'Action', 'Crime', 'Romance', 'Comedy', 'Drama', 'Drama', 'Animation', \"Children's\", 'Comedy', 'Comedy', 'Comedy', 'Comedy', 'Romance', 'Action', 'Comedy', 'Drama', 'Comedy', 'Crime', 'Thriller', 'Action', 'Sci-Fi', 'Thriller', 'Drama', 'Mystery', 'Action', 'Crime', 'Romance', 'Animation', 'Comedy', 'Thriller', 'Comedy', 'Drama', 'Drama', 'War', 'Action', 'Crime', 'Drama', 'Drama', 'Comedy', 'Drama', 'Drama', 'Drama', 'Thriller', 'Drama', 'Drama', 'Action', 'Sci-Fi', 'Action', 'Thriller', 'Comedy', 'Drama', 'Crime', 'Drama', 'Drama', 'Action', 'Drama', 'Action', 'Romance', 'Drama', 'Thriller', 'Drama', 'Thriller', 'Action', 'Drama', 'Action', 'Sci-Fi', 'Action', 'Thriller', 'Action', 'Comedy', 'Action', 'Crime', 'Action', 'Crime', 'Action', 'Drama', 'War', 'Action', 'Adventure', 'Thriller', 'Crime', 'Drama', 'Action', 'Sci-Fi', 'Comedy', 'Drama', 'Action', 'Sci-Fi', 'Comedy', 'Drama', 'Action', 'Comedy', 'Drama', 'Action', 'Drama', 'Thriller', 'Animation', \"Children's\", 'Comedy', 'Comedy', 'Drama', 'Romance', \"Children's\", 'Comedy', 'Drama', 'Comedy', 'Romance', 'Comedy', 'Comedy', 'Drama', 'Comedy', 'Drama', 'Adventure', \"Children's\", 'Comedy', 'Musical', 'Comedy', 'Comedy', 'Comedy', 'Drama', 'Musical', 'Comedy', 'Drama', 'Comedy', 'Drama', 'Comedy', 'Drama', 'Comedy', 'Comedy', 'Romance', 'Comedy', 'Romance', 'Comedy', 'Drama', 'Comedy', 'Romance', 'War', 'Comedy', 'Romance', 'Animation', \"Children's\", 'Musical', 'Comedy', 'Crime', 'Fantasy', 'Action', 'Comedy', 'Western', 'Comedy', 'Romance', 'Comedy', 'Romance', 'Comedy', 'Romance', 'Comedy', 'Mystery', 'Comedy', 'Romance', 'Comedy', 'Comedy', 'Romance', \"Children's\", 'Comedy', 'Musical', 'Comedy', 'Drama', 'Comedy', 'Drama', 'Comedy', 'Romance', 'Thriller', 'Animation', \"Children's\", 'Comedy', 'Musical', 'Animation', \"Children's\", 'Musical', 'Animation', \"Children's\", 'Musical', 'Comedy', 'Sci-Fi', 'Comedy', 'Romance', 'Comedy', 'Animation', 'Comedy', 'Thriller', 'Sci-Fi', 'War', 'Animation', \"Children's\", 'Musical', 'Musical', 'Romance', 'Musical', 'Romance', 'Comedy', 'Musical', 'Musical', 'Romance', 'Musical', 'Adventure', \"Children's\", 'Drama', 'Musical', 'Musical', 'Comedy', 'Musical', 'Romance', 'Animation', \"Children's\", 'Musical', 'Animation', \"Children's\", 'Musical', 'Animation', \"Children's\", 'Musical', 'Adventure', 'Animation', \"Children's\", 'Musical', 'Adventure', \"Children's\", 'Musical', 'Animation', \"Children's\", 'Musical', 'Musical', 'Comedy', 'Comedy', 'Musical', 'Romance', 'Comedy', 'Drama', 'Comedy', 'Musical', 'Comedy', 'Comedy', 'Romance', 'Comedy', 'Drama', 'Comedy', 'Romance', 'Comedy', 'Drama', 'Musical', 'Comedy', 'Romance', 'Comedy', 'Comedy', 'Comedy', 'Comedy', 'Adventure', 'Animation', \"Children's\", 'Comedy', 'Musical', 'Comedy', 'Comedy', 'Comedy', 'Drama', 'Comedy', 'Drama', 'Comedy', 'Romance', 'Comedy', 'Drama', 'Comedy', 'Drama', 'Comedy', 'Drama', 'Comedy', 'Comedy', 'Drama', 'Comedy', 'Musical', 'Romance', 'Musical', \"Children's\", 'Fantasy', 'Musical', 'Drama', 'Romance', 'Animation', \"Children's\", 'Comedy', 'Musical', 'Animation', \"Children's\", 'Comedy', 'Musical', 'Romance', 'Animation', \"Children's\", 'Comedy', 'Musical', 'Romance', 'Animation', \"Children's\", 'Fantasy', 'Musical', 'Animation', \"Children's\", 'Musical', 'Comedy', 'Romance', 'Adventure', 'Musical', 'Comedy', 'Comedy', 'Drama', 'Romance', 'Comedy', 'Drama', 'Comedy', 'Comedy', 'Comedy', 'Drama', 'Drama', 'Animation', \"Children's\", 'Comedy', 'Comedy', \"Children's\", 'Comedy', 'Comedy', 'Romance', 'Comedy', 'Comedy', 'Comedy', 'Comedy', 'Drama', 'Comedy', 'Comedy', 'Fantasy', 'Comedy', 'Romance', 'Comedy', 'Comedy', 'Comedy', 'Drama', 'Musical', 'Comedy', 'Comedy', 'Comedy', 'Drama', 'Comedy', 'Animation', \"Children's\", 'Comedy', 'Animation', \"Children's\", 'Musical', 'Comedy', 'Drama', 'Adventure', 'Comedy', 'Sci-Fi', 'Drama', 'Comedy', 'Crime', 'Comedy', 'Comedy', 'Drama', 'Comedy', 'Comedy', 'Romance', 'Musical', 'War', 'Musical', 'Comedy', 'Musical', 'Comedy', 'Musical', 'Musical', 'Comedy', 'Romance']\n"
     ]
    }
   ],
   "source": [
    "print(x)"
   ]
  },
  {
   "cell_type": "code",
   "execution_count": 34,
   "metadata": {
    "id": "G8Dz7mW60uXB",
    "outputId": "e373a86d-ffcc-4fa2-d139-d9e20b0e231a"
   },
   "outputs": [
    {
     "name": "stdout",
     "output_type": "stream",
     "text": [
      "['Comedy', 'Drama', 'Crime', 'Action', 'Fantasy', 'Adventure', 'Musical', 'War', \"Children's\", 'Animation', 'Western', 'Horror', 'Mystery', 'Documentary', 'Sci-Fi', 'Film-Noir', 'Romance', 'Thriller']\n"
     ]
    }
   ],
   "source": [
    "unique_genres = list(set(x))\n",
    "print(unique_genres)"
   ]
  },
  {
   "cell_type": "code",
   "execution_count": 35,
   "metadata": {
    "id": "R8fbGCqY0uXB",
    "outputId": "ea9fda5a-4d16-44eb-c819-715799c802e5"
   },
   "outputs": [
    {
     "data": {
      "text/plain": [
       "18"
      ]
     },
     "execution_count": 35,
     "metadata": {},
     "output_type": "execute_result"
    }
   ],
   "source": [
    "len(unique_genres)"
   ]
  },
  {
   "cell_type": "markdown",
   "metadata": {
    "id": "Ho8lAFwh0uXB"
   },
   "source": [
    "### 2. Creating a separate column for each genre category with a one-hot encoding ( 1 and 0) whether or not the movie belongs to that genre. "
   ]
  },
  {
   "cell_type": "code",
   "execution_count": 36,
   "metadata": {
    "id": "XpuI00Ev0uXB"
   },
   "outputs": [
    {
     "data": {
      "text/plain": [
       "0          Comedy\n",
       "1           Drama\n",
       "2           Crime\n",
       "3          Action\n",
       "4         Fantasy\n",
       "5       Adventure\n",
       "6         Musical\n",
       "7             War\n",
       "8      Children's\n",
       "9       Animation\n",
       "10        Western\n",
       "11         Horror\n",
       "12        Mystery\n",
       "13    Documentary\n",
       "14         Sci-Fi\n",
       "15      Film-Noir\n",
       "16        Romance\n",
       "17       Thriller\n",
       "dtype: object"
      ]
     },
     "execution_count": 36,
     "metadata": {},
     "output_type": "execute_result"
    }
   ],
   "source": [
    "unique_genres = pd.Series(unique_genres)\n",
    "unique_genres"
   ]
  },
  {
   "cell_type": "code",
   "execution_count": 37,
   "metadata": {
    "id": "_blp4TaK0uXC",
    "outputId": "8d1c863d-a49e-4482-e560-105dbe08127c"
   },
   "outputs": [
    {
     "data": {
      "text/plain": [
       "<AxesSubplot:>"
      ]
     },
     "execution_count": 37,
     "metadata": {},
     "output_type": "execute_result"
    },
    {
     "data": {
      "image/png": "[encoded data removed]",
      "text/plain": [
       "<Figure size 1440x576 with 2 Axes>"
      ]
     },
     "metadata": {
      "needs_background": "light"
     },
     "output_type": "display_data"
    }
   ],
   "source": [
    "df = data[:5000]\n",
    "data5K.head()\n",
    "\n",
    "import seaborn as sns\n",
    "\n",
    "%matplotlib inline\n",
    "plt.figure(figsize=(20,8))\n",
    "corr = data5K.corr()\n",
    "sns.heatmap(corr, xticklabels=corr.columns.values, yticklabels=corr.columns.values, annot = True, annot_kws={'size':10})\n"
   ]
  },
  {
   "cell_type": "markdown",
   "metadata": {
    "id": "4k3RxNTi0uXC"
   },
   "source": [
    "### 4.\tDevelop an appropriate model to predict the movie ratings"
   ]
  },
  {
   "cell_type": "code",
   "execution_count": 38,
   "metadata": {},
   "outputs": [],
   "source": [
    "viewership = pd.merge(ratings, users, how='left', left_on=['UserID'], right_on=['UserID'])"
   ]
  },
  {
   "cell_type": "code",
   "execution_count": 39,
   "metadata": {},
   "outputs": [
    {
     "data": {
      "text/plain": [
       "(1000209, 8)"
      ]
     },
     "execution_count": 39,
     "metadata": {},
     "output_type": "execute_result"
    }
   ],
   "source": [
    "viewership.shape"
   ]
  },
  {
   "cell_type": "code",
   "execution_count": 57,
   "metadata": {},
   "outputs": [
    {
     "data": {
      "text/plain": [
       "(500, 8)"
      ]
     },
     "execution_count": 57,
     "metadata": {},
     "output_type": "execute_result"
    }
   ],
   "source": [
    "few_viewership = viewership.head(500)\n",
    "few_viewership.shape"
   ]
  },
  {
   "cell_type": "code",
   "execution_count": 58,
   "metadata": {},
   "outputs": [
    {
     "data": {
      "text/html": [
       "<div>\n",
       "<style scoped>\n",
       "    .dataframe tbody tr th:only-of-type {\n",
       "        vertical-align: middle;\n",
       "    }\n",
       "\n",
       "    .dataframe tbody tr th {\n",
       "        vertical-align: top;\n",
       "    }\n",
       "\n",
       "    .dataframe thead th {\n",
       "        text-align: right;\n",
       "    }\n",
       "</style>\n",
       "<table border=\"1\" class=\"dataframe\">\n",
       "  <thead>\n",
       "    <tr style=\"text-align: right;\">\n",
       "      <th></th>\n",
       "      <th>UserID</th>\n",
       "      <th>MovieID</th>\n",
       "      <th>Rating</th>\n",
       "      <th>Timestamp</th>\n",
       "      <th>Gender</th>\n",
       "      <th>Age</th>\n",
       "      <th>Occupation</th>\n",
       "      <th>Zip-Code</th>\n",
       "    </tr>\n",
       "  </thead>\n",
       "  <tbody>\n",
       "    <tr>\n",
       "      <th>0</th>\n",
       "      <td>1</td>\n",
       "      <td>1193</td>\n",
       "      <td>5</td>\n",
       "      <td>978300760</td>\n",
       "      <td>F</td>\n",
       "      <td>1</td>\n",
       "      <td>10</td>\n",
       "      <td>48067</td>\n",
       "    </tr>\n",
       "    <tr>\n",
       "      <th>1</th>\n",
       "      <td>1</td>\n",
       "      <td>661</td>\n",
       "      <td>3</td>\n",
       "      <td>978302109</td>\n",
       "      <td>F</td>\n",
       "      <td>1</td>\n",
       "      <td>10</td>\n",
       "      <td>48067</td>\n",
       "    </tr>\n",
       "    <tr>\n",
       "      <th>2</th>\n",
       "      <td>1</td>\n",
       "      <td>914</td>\n",
       "      <td>3</td>\n",
       "      <td>978301968</td>\n",
       "      <td>F</td>\n",
       "      <td>1</td>\n",
       "      <td>10</td>\n",
       "      <td>48067</td>\n",
       "    </tr>\n",
       "    <tr>\n",
       "      <th>3</th>\n",
       "      <td>1</td>\n",
       "      <td>3408</td>\n",
       "      <td>4</td>\n",
       "      <td>978300275</td>\n",
       "      <td>F</td>\n",
       "      <td>1</td>\n",
       "      <td>10</td>\n",
       "      <td>48067</td>\n",
       "    </tr>\n",
       "    <tr>\n",
       "      <th>4</th>\n",
       "      <td>1</td>\n",
       "      <td>2355</td>\n",
       "      <td>5</td>\n",
       "      <td>978824291</td>\n",
       "      <td>F</td>\n",
       "      <td>1</td>\n",
       "      <td>10</td>\n",
       "      <td>48067</td>\n",
       "    </tr>\n",
       "  </tbody>\n",
       "</table>\n",
       "</div>"
      ],
      "text/plain": [
       "   UserID  MovieID  Rating  Timestamp Gender  Age  Occupation Zip-Code\n",
       "0       1     1193       5  978300760      F    1          10    48067\n",
       "1       1      661       3  978302109      F    1          10    48067\n",
       "2       1      914       3  978301968      F    1          10    48067\n",
       "3       1     3408       4  978300275      F    1          10    48067\n",
       "4       1     2355       5  978824291      F    1          10    48067"
      ]
     },
     "execution_count": 58,
     "metadata": {},
     "output_type": "execute_result"
    }
   ],
   "source": [
    "few_viewership.head()"
   ]
  },
  {
   "cell_type": "code",
   "execution_count": 59,
   "metadata": {},
   "outputs": [
    {
     "data": {
      "text/plain": [
       "array([0, 0, 0, 0, 0, 0, 0, 0, 0, 0, 0, 0, 0, 0, 0, 0, 0, 0, 0, 0, 0, 0,\n",
       "       0, 0, 0, 0, 0, 0, 0, 0, 0, 0, 0, 0, 0, 0, 0, 0, 0, 0, 0, 0, 0, 0,\n",
       "       0, 0, 0, 0, 0, 0, 0, 0, 0, 4, 4, 4, 4, 4, 4, 4, 4, 4, 4, 4, 4, 4,\n",
       "       4, 4, 4, 4, 4, 4, 4, 4, 4, 4, 4, 4, 4, 4, 4, 4, 4, 4, 4, 4, 4, 4,\n",
       "       4, 4, 4, 4, 4, 4, 4, 4, 4, 4, 4, 4, 4, 4, 4, 4, 4, 4, 4, 4, 4, 4,\n",
       "       4, 4, 4, 4, 4, 4, 4, 4, 4, 4, 4, 4, 4, 4, 4, 4, 4, 4, 4, 4, 4, 4,\n",
       "       4, 4, 4, 4, 4, 4, 4, 4, 4, 4, 4, 4, 4, 4, 4, 4, 4, 4, 4, 4, 4, 4,\n",
       "       4, 4, 4, 4, 4, 4, 4, 4, 4, 4, 4, 4, 4, 4, 4, 4, 4, 4, 4, 4, 4, 4,\n",
       "       4, 4, 4, 4, 4, 4, 1, 1, 1, 1, 1, 1, 1, 1, 1, 1, 1, 1, 1, 1, 1, 1,\n",
       "       1, 1, 1, 1, 1, 1, 1, 1, 1, 1, 1, 1, 1, 1, 1, 1, 1, 1, 1, 1, 1, 1,\n",
       "       1, 1, 1, 1, 1, 1, 1, 1, 1, 1, 1, 1, 1, 2, 2, 2, 2, 2, 2, 2, 2, 2,\n",
       "       2, 2, 2, 2, 2, 2, 2, 2, 2, 2, 2, 2, 1, 1, 1, 1, 1, 1, 1, 1, 1, 1,\n",
       "       1, 1, 1, 1, 1, 1, 1, 1, 1, 1, 1, 1, 1, 1, 1, 1, 1, 1, 1, 1, 1, 1,\n",
       "       1, 1, 1, 1, 1, 1, 1, 1, 1, 1, 1, 1, 1, 1, 1, 1, 1, 1, 1, 1, 1, 1,\n",
       "       1, 1, 1, 1, 1, 1, 1, 1, 1, 1, 1, 1, 1, 1, 1, 1, 1, 1, 1, 1, 1, 1,\n",
       "       1, 1, 1, 1, 1, 1, 1, 1, 1, 1, 1, 1, 1, 1, 1, 1, 1, 1, 1, 1, 1, 1,\n",
       "       1, 1, 1, 1, 1, 1, 1, 1, 1, 1, 1, 1, 1, 1, 1, 1, 1, 1, 1, 1, 1, 1,\n",
       "       1, 1, 1, 1, 1, 1, 1, 1, 1, 1, 1, 1, 1, 1, 1, 1, 1, 1, 1, 1, 1, 1,\n",
       "       1, 1, 1, 1, 1, 1, 1, 1, 1, 1, 1, 1, 1, 1, 1, 1, 1, 1, 1, 1, 1, 1,\n",
       "       1, 1, 1, 1, 1, 1, 1, 1, 1, 1, 1, 1, 1, 1, 1, 1, 1, 1, 1, 1, 1, 1,\n",
       "       1, 1, 1, 1, 1, 1, 1, 1, 1, 1, 1, 1, 3, 3, 3, 3, 3, 3, 3, 3, 3, 3,\n",
       "       3, 3, 3, 3, 3, 3, 3, 3, 3, 3, 3, 3, 3, 3, 3, 3, 3, 3, 3, 3, 3, 3,\n",
       "       3, 3, 3, 3, 3, 3, 3, 3, 3, 3, 3, 3, 3, 3, 3, 3], dtype=int64)"
      ]
     },
     "execution_count": 59,
     "metadata": {},
     "output_type": "execute_result"
    }
   ],
   "source": [
    "# preprocess data\n",
    "from sklearn.preprocessing import LabelEncoder\n",
    "le = LabelEncoder()\n",
    "\n",
    "le.fit(few_viewership['Age'])\n",
    "x_age = le.transform(few_viewership['Age'])\n",
    "x_age"
   ]
  },
  {
   "cell_type": "code",
   "execution_count": 60,
   "metadata": {},
   "outputs": [
    {
     "data": {
      "text/plain": [
       "array([2, 2, 2, 2, 2, 2, 2, 2, 2, 2, 2, 2, 2, 2, 2, 2, 2, 2, 2, 2, 2, 2,\n",
       "       2, 2, 2, 2, 2, 2, 2, 2, 2, 2, 2, 2, 2, 2, 2, 2, 2, 2, 2, 2, 2, 2,\n",
       "       2, 2, 2, 2, 2, 2, 2, 2, 2, 4, 4, 4, 4, 4, 4, 4, 4, 4, 4, 4, 4, 4,\n",
       "       4, 4, 4, 4, 4, 4, 4, 4, 4, 4, 4, 4, 4, 4, 4, 4, 4, 4, 4, 4, 4, 4,\n",
       "       4, 4, 4, 4, 4, 4, 4, 4, 4, 4, 4, 4, 4, 4, 4, 4, 4, 4, 4, 4, 4, 4,\n",
       "       4, 4, 4, 4, 4, 4, 4, 4, 4, 4, 4, 4, 4, 4, 4, 4, 4, 4, 4, 4, 4, 4,\n",
       "       4, 4, 4, 4, 4, 4, 4, 4, 4, 4, 4, 4, 4, 4, 4, 4, 4, 4, 4, 4, 4, 4,\n",
       "       4, 4, 4, 4, 4, 4, 4, 4, 4, 4, 4, 4, 4, 4, 4, 4, 4, 4, 4, 4, 4, 4,\n",
       "       4, 4, 4, 4, 4, 4, 3, 3, 3, 3, 3, 3, 3, 3, 3, 3, 3, 3, 3, 3, 3, 3,\n",
       "       3, 3, 3, 3, 3, 3, 3, 3, 3, 3, 3, 3, 3, 3, 3, 3, 3, 3, 3, 3, 3, 3,\n",
       "       3, 3, 3, 3, 3, 3, 3, 3, 3, 3, 3, 3, 3, 0, 0, 0, 0, 0, 0, 0, 0, 0,\n",
       "       0, 0, 0, 0, 0, 0, 0, 0, 0, 0, 0, 0, 5, 5, 5, 5, 5, 5, 5, 5, 5, 5,\n",
       "       5, 5, 5, 5, 5, 5, 5, 5, 5, 5, 5, 5, 5, 5, 5, 5, 5, 5, 5, 5, 5, 5,\n",
       "       5, 5, 5, 5, 5, 5, 5, 5, 5, 5, 5, 5, 5, 5, 5, 5, 5, 5, 5, 5, 5, 5,\n",
       "       5, 5, 5, 5, 5, 5, 5, 5, 5, 5, 5, 5, 5, 5, 5, 5, 5, 5, 5, 5, 5, 5,\n",
       "       5, 5, 5, 5, 5, 5, 5, 5, 5, 5, 5, 5, 5, 5, 5, 5, 5, 5, 5, 5, 5, 5,\n",
       "       5, 5, 5, 5, 5, 5, 5, 5, 5, 5, 5, 5, 5, 5, 5, 5, 5, 5, 5, 5, 5, 5,\n",
       "       5, 5, 5, 5, 5, 5, 5, 5, 5, 5, 5, 5, 5, 5, 5, 5, 5, 5, 5, 5, 5, 5,\n",
       "       5, 5, 5, 5, 5, 5, 5, 5, 5, 5, 5, 5, 5, 5, 5, 5, 5, 5, 5, 5, 5, 5,\n",
       "       5, 5, 5, 5, 5, 5, 5, 5, 5, 5, 5, 5, 5, 5, 5, 5, 5, 5, 5, 5, 5, 5,\n",
       "       5, 5, 5, 5, 5, 5, 5, 5, 5, 5, 5, 5, 1, 1, 1, 1, 1, 1, 1, 1, 1, 1,\n",
       "       1, 1, 1, 1, 1, 1, 1, 1, 1, 1, 1, 1, 1, 1, 1, 1, 1, 1, 1, 1, 1, 1,\n",
       "       1, 1, 1, 1, 1, 1, 1, 1, 1, 1, 1, 1, 1, 1, 1, 1], dtype=int64)"
      ]
     },
     "execution_count": 60,
     "metadata": {},
     "output_type": "execute_result"
    }
   ],
   "source": [
    "le.fit(few_viewership['Occupation'])\n",
    "x_occ = le.transform(few_viewership['Occupation'])\n",
    "x_occ"
   ]
  },
  {
   "cell_type": "code",
   "execution_count": 61,
   "metadata": {},
   "outputs": [
    {
     "data": {
      "text/plain": [
       "array([130,  78,  95, 374, 280, 132, 156, 321,  71,  96,  72,  98, 287,\n",
       "       330, 107, 318, 304, 251, 355, 319, 274,  80, 154,  61, 278,  12,\n",
       "       119, 211, 186,  84, 271, 364, 189,  67, 231,  86, 226, 103, 316,\n",
       "        18,   0, 243, 244, 305,  29, 104, 105, 135, 252,  62, 359,  74,\n",
       "       145, 161, 346, 184,  75, 264,  76, 266, 302, 121, 329, 379, 136,\n",
       "       222, 205, 137, 392, 326, 342, 139, 355,  49, 260, 356, 357, 343,\n",
       "       148, 194,  33, 265, 347,  92,  44, 149, 360, 185, 158, 127, 366,\n",
       "       367, 368,  17, 267, 293, 225, 380,  68, 207, 398, 323, 237, 100,\n",
       "       227, 324, 140, 252,  60,  50, 272,  30, 170, 113, 403,  54, 173,\n",
       "       255, 151, 162, 130, 224, 163, 279, 372, 289,  69, 131, 187,  83,\n",
       "       133,  70, 281,  15, 308, 297, 234, 286, 407, 239, 193, 413, 240,\n",
       "       241,  28, 122, 242,  20,   3,  21, 274, 115,  46, 294,  39,  51,\n",
       "       118,  97,  52, 181, 376, 166, 378, 353,  85,  56, 312, 247, 244,\n",
       "       220, 331, 248,  36, 135, 246, 400, 143,  41, 144, 145, 415, 146,\n",
       "       377, 198,  76, 169, 389,  16, 314, 136, 172, 414, 112, 338, 195,\n",
       "       157, 149,  77, 262, 191, 396,  29, 324, 359, 111, 150,  64,  54,\n",
       "       151, 152,  82, 131,  69, 280, 132, 133, 164,  70, 165, 391, 160,\n",
       "       154, 292, 362, 301, 243, 399, 248, 325, 259, 246, 124, 257, 379,\n",
       "       136, 333, 138, 108,  29, 252,  54, 131, 133, 240, 119, 376, 404,\n",
       "       282, 167, 388, 134, 305, 332, 141, 337, 276, 126,   9,  32, 277,\n",
       "       183, 168, 266, 175,  89, 203,  90, 204, 329, 317,  25, 219,  57,\n",
       "       392,  58, 147, 411,  59,  10, 194, 254, 412, 338,  11, 306,  34,\n",
       "        66, 196,  81,  35, 350, 296, 232,  18,  26, 406,  27,   1, 339,\n",
       "       324, 110,  60,  87,  13,  14, 128, 129,  82, 351,  45, 279, 153,\n",
       "       352, 289, 385, 290, 280, 268, 386, 188, 233,  70, 281, 307, 176,\n",
       "       308, 297, 269,  19, 123, 340, 256, 208, 361, 291, 270, 197, 155,\n",
       "       309, 310, 235, 311, 236, 298, 373, 408,  99,  91, 341, 221,  36,\n",
       "        22,  53,  74, 171, 261, 209, 199, 365, 363, 210, 322, 313, 200,\n",
       "        37, 249, 354, 334, 137, 223, 299, 177, 355, 335, 178, 211, 212,\n",
       "       201,  93, 191, 202, 283, 213, 381, 327, 358, 252,   2,  30, 253,\n",
       "        23,  63, 179, 344, 273, 180, 114, 369,  94, 214, 374, 375, 300,\n",
       "       174, 215, 216, 284, 217, 370, 371,  96, 397, 285, 192, 303,  48,\n",
       "       315, 101, 228, 229,  31,   4, 345,  38, 275, 116,   5,  65, 117,\n",
       "       181, 182, 376, 263,  55,  24, 218, 328, 316, 305, 245, 382,  40,\n",
       "         6, 142, 230, 125, 410,   7,  41,  42,   8,  79, 288, 120, 405,\n",
       "       106, 206, 107, 392,  43, 383, 348,  44,  34,  12, 349, 127, 384,\n",
       "        67,   0, 109, 324,  45,  69,  72,  73,  47, 295, 387, 189, 190,\n",
       "       248, 257, 258, 393, 394, 320, 389, 390, 136, 409, 401, 250, 402,\n",
       "       395, 159,  88, 102, 238, 336], dtype=int64)"
      ]
     },
     "execution_count": 61,
     "metadata": {},
     "output_type": "execute_result"
    }
   ],
   "source": [
    "le.fit(few_viewership['MovieID'])\n",
    "x_movieid = le.transform(few_viewership['MovieID'])\n",
    "x_movieid"
   ]
  },
  {
   "cell_type": "code",
   "execution_count": 62,
   "metadata": {},
   "outputs": [],
   "source": [
    "few_viewership['New Age'] = x_age\n",
    "few_viewership['New Occupation'] = x_occ\n",
    "few_viewership['New MovieID'] = x_movieid"
   ]
  },
  {
   "cell_type": "code",
   "execution_count": 63,
   "metadata": {},
   "outputs": [],
   "source": [
    "x_input = few_viewership[['New Age','New Occupation','New MovieID']]\n",
    "y_target = few_viewership['Rating']"
   ]
  },
  {
   "cell_type": "code",
   "execution_count": 64,
   "metadata": {},
   "outputs": [
    {
     "data": {
      "text/html": [
       "<div>\n",
       "<style scoped>\n",
       "    .dataframe tbody tr th:only-of-type {\n",
       "        vertical-align: middle;\n",
       "    }\n",
       "\n",
       "    .dataframe tbody tr th {\n",
       "        vertical-align: top;\n",
       "    }\n",
       "\n",
       "    .dataframe thead th {\n",
       "        text-align: right;\n",
       "    }\n",
       "</style>\n",
       "<table border=\"1\" class=\"dataframe\">\n",
       "  <thead>\n",
       "    <tr style=\"text-align: right;\">\n",
       "      <th></th>\n",
       "      <th>New Age</th>\n",
       "      <th>New Occupation</th>\n",
       "      <th>New MovieID</th>\n",
       "    </tr>\n",
       "  </thead>\n",
       "  <tbody>\n",
       "    <tr>\n",
       "      <th>0</th>\n",
       "      <td>0</td>\n",
       "      <td>2</td>\n",
       "      <td>130</td>\n",
       "    </tr>\n",
       "    <tr>\n",
       "      <th>1</th>\n",
       "      <td>0</td>\n",
       "      <td>2</td>\n",
       "      <td>78</td>\n",
       "    </tr>\n",
       "    <tr>\n",
       "      <th>2</th>\n",
       "      <td>0</td>\n",
       "      <td>2</td>\n",
       "      <td>95</td>\n",
       "    </tr>\n",
       "    <tr>\n",
       "      <th>3</th>\n",
       "      <td>0</td>\n",
       "      <td>2</td>\n",
       "      <td>374</td>\n",
       "    </tr>\n",
       "    <tr>\n",
       "      <th>4</th>\n",
       "      <td>0</td>\n",
       "      <td>2</td>\n",
       "      <td>280</td>\n",
       "    </tr>\n",
       "  </tbody>\n",
       "</table>\n",
       "</div>"
      ],
      "text/plain": [
       "   New Age  New Occupation  New MovieID\n",
       "0        0               2          130\n",
       "1        0               2           78\n",
       "2        0               2           95\n",
       "3        0               2          374\n",
       "4        0               2          280"
      ]
     },
     "execution_count": 64,
     "metadata": {},
     "output_type": "execute_result"
    }
   ],
   "source": [
    "x_input.head()"
   ]
  },
  {
   "cell_type": "code",
   "execution_count": 65,
   "metadata": {},
   "outputs": [],
   "source": [
    "# Split-out validation dataset\n",
    "x_train, x_test, y_train, y_test = train_test_split(x_input, y_target, test_size=0.25)"
   ]
  },
  {
   "cell_type": "code",
   "execution_count": 69,
   "metadata": {},
   "outputs": [],
   "source": [
    "from sklearn.linear_model import LinearRegression\n",
    "linReg = LinearRegression()\n",
    "lr = linReg.fit(x_train, y_train)"
   ]
  },
  {
   "cell_type": "code",
   "execution_count": 70,
   "metadata": {},
   "outputs": [],
   "source": [
    "result = linReg.predict(x_test)"
   ]
  },
  {
   "cell_type": "code",
   "execution_count": 72,
   "metadata": {},
   "outputs": [],
   "source": [
    "from sklearn.metrics import r2_score"
   ]
  },
  {
   "cell_type": "code",
   "execution_count": 75,
   "metadata": {},
   "outputs": [
    {
     "name": "stdout",
     "output_type": "stream",
     "text": [
      "r2 value:  0.007598314484191349\n"
     ]
    }
   ],
   "source": [
    "print(\n",
    "    'r2 value: ',r2_score(y_test, result)\n",
    ")"
   ]
  }
 ],
 "metadata": {
  "colab": {
   "name": "Project.ipynb",
   "provenance": []
  },
  "kernelspec": {
   "display_name": "Python 3 (ipykernel)",
   "language": "python",
   "name": "python3"
  },
  "language_info": {
   "codemirror_mode": {
    "name": "ipython",
    "version": 3
   },
   "file_extension": ".py",
   "mimetype": "text/x-python",
   "name": "python",
   "nbconvert_exporter": "python",
   "pygments_lexer": "ipython3",
   "version": "3.9.12"
  }
 },
 "nbformat": 4,
 "nbformat_minor": 1
}
